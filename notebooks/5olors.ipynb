{
 "cells": [
  {
   "cell_type": "code",
   "execution_count": 1,
   "id": "fc44fe56",
   "metadata": {},
   "outputs": [
    {
     "name": "stderr",
     "output_type": "stream",
     "text": [
      "/groups/spruston/home/moharb/mambaforge/envs/sbi_env/lib/python3.10/site-packages/tqdm/auto.py:21: TqdmWarning: IProgress not found. Please update jupyter and ipywidgets. See https://ipywidgets.readthedocs.io/en/stable/user_install.html\n",
      "  from .autonotebook import tqdm as notebook_tqdm\n"
     ]
    }
   ],
   "source": [
    "# In [1]: Imports and Setup\n",
    "import sys\n",
    "import os\n",
    "sys.path.append(os.path.abspath(\"..\"))  # Adjust path as needed\n",
    "import torch\n",
    "import numpy as np\n",
    "import matplotlib.pyplot as plt\n",
    "from functools import partial\n",
    "from sbi import utils as sbi_utils\n",
    "from sbi import inference as sbi_inference\n",
    "from sbi.inference import SNPE, simulate_for_sbi\n",
    "from multiplex_sim import Microscope, io, plotting\n",
    "npz_folder='../data/spectra_npz'"
   ]
  },
  {
   "cell_type": "code",
   "execution_count": 12,
   "id": "347367c1",
   "metadata": {},
   "outputs": [],
   "source": [
    "import numpy as np\n",
    "import torch\n",
    "from pathlib import Path\n",
    "from sbi import utils as sbi_utils\n",
    "from scipy.interpolate import interp1d\n",
    "\n",
    "# ===== 1. Load and interpolate emission spectra =====\n",
    "def load_emission_spectra(fluor_names, spectra_dir):\n",
    "    spectra = {}\n",
    "    for name in fluor_names:\n",
    "        path = Path(spectra_dir) / f\"{name}.npz\"\n",
    "        if not path.exists():\n",
    "            raise FileNotFoundError(f\"Missing file for dye: {name}\")\n",
    "        data = np.load(path)\n",
    "        wl = data[\"wavelengths_emission\"]\n",
    "        em = data[\"emission\"]\n",
    "        spectra[name] = (wl, em / em.max())\n",
    "    return spectra\n",
    "\n",
    "def interpolate_emissions(spectra_dict, λ_grid):\n",
    "    interpolated = {}\n",
    "    for name, (wl, em) in spectra_dict.items():\n",
    "        f = interp1d(wl, em, kind=\"linear\", bounds_error=False, fill_value=0)\n",
    "        interpolated[name] = f(λ_grid)\n",
    "    return interpolated\n",
    "\n",
    "# ===== 2. Define SBI-compatible simulator =====\n",
    "def make_sbi_simulator(fluor_names, spectra_dir, num_channels=5, bandwidth=30.0):\n",
    "    λ_grid = np.arange(500, 801, 1)\n",
    "    spectra_dict = load_emission_spectra(fluor_names, spectra_dir)\n",
    "    interpolated = interpolate_emissions(spectra_dict, λ_grid)\n",
    "\n",
    "    center_wavelengths = np.linspace(540, 760, num_channels)\n",
    "    channel_filters = np.stack([\n",
    "        np.exp(-0.5 * ((λ_grid - cw) / bandwidth)**2)\n",
    "        for cw in center_wavelengths\n",
    "    ])  # shape: (num_channels, len(λ_grid))\n",
    "\n",
    "    def simulator(amps: torch.Tensor) -> torch.Tensor:\n",
    "        amps = amps.numpy()\n",
    "        signal = np.zeros(num_channels)\n",
    "        for name, a in zip(fluor_names, amps):\n",
    "            emission = interpolated[name]\n",
    "            signal += a * np.sum(channel_filters * emission, axis=1)\n",
    "        return torch.tensor(signal, dtype=torch.float32)\n",
    "\n",
    "    return simulator\n",
    "\n",
    "# ===== 3. User-defined mixture to simulate measurement =====\n",
    "def simulate_measurement(simulator, mixture_dict, fluor_names):\n",
    "    amp_vector = torch.tensor([mixture_dict.get(name, 0.0) for name in fluor_names], dtype=torch.float32)\n",
    "    return simulator(amp_vector)\n",
    "\n",
    "# ===== 4. Full SBI Inference Pipeline =====\n",
    "def run_sbi(fluor_names, spectra_dir, mixture_dict, num_channels=5, num_simulations=5000):\n",
    "    from sbi.inference import simulate_for_sbi\n",
    "    simulator = make_sbi_simulator(fluor_names, spectra_dir, num_channels=num_channels)\n",
    "\n",
    "    # Simulated \"measured\" signal\n",
    "    x_obs = simulate_measurement(simulator, mixture_dict, fluor_names)\n",
    "\n",
    "    prior = sbi_utils.BoxUniform(low=torch.zeros(len(fluor_names)), high=torch.ones(len(fluor_names)))\n",
    "    inference = sbi_inference.SNPE(prior=prior)\n",
    "\n",
    "    def sim_batch(theta_batch):\n",
    "        return torch.stack([simulator(p) for p in theta_batch])\n",
    "\n",
    "    theta, x = simulate_for_sbi(sim_batch, prior, num_simulations=num_simulations)\n",
    "    density_estimator = inference.append_simulations(theta, x).train()\n",
    "    posterior = inference.build_posterior(density_estimator)\n",
    "\n",
    "    samples = posterior.sample((1000,), x=x_obs)\n",
    "    mean = samples.mean(dim=0)\n",
    "    std = samples.std(dim=0)\n",
    "\n",
    "    return x_obs, samples, mean, std"
   ]
  },
  {
   "cell_type": "code",
   "execution_count": 13,
   "id": "6e8d69ec",
   "metadata": {},
   "outputs": [
    {
     "name": "stderr",
     "output_type": "stream",
     "text": [
      "  0%|          | 0/5000 [00:00<?, ?it/s]"
     ]
    },
    {
     "name": "stderr",
     "output_type": "stream",
     "text": [
      "100%|██████████| 5000/5000 [00:00<00:00, 33418.57it/s]\n"
     ]
    },
    {
     "name": "stdout",
     "output_type": "stream",
     "text": [
      " Neural network successfully converged after 316 epochs."
     ]
    },
    {
     "name": "stderr",
     "output_type": "stream",
     "text": [
      "Drawing 1000 posterior samples: 100%|██████████| 1000/1000 [00:00<00:00, 74925.04it/s]"
     ]
    },
    {
     "name": "stdout",
     "output_type": "stream",
     "text": [
      "Simulated Measurement (Observed): tensor([10.4342, 17.4346, 15.2595, 11.0342,  8.6037])\n",
      "Posterior Mean Amplitudes:\n",
      "  JF525   : 0.206 ± 0.030\n",
      "  JF552   : 0.191 ± 0.034\n",
      "  JF608   : 0.304 ± 0.014\n",
      "  JFX673  : 0.095 ± 0.009\n",
      "  JF722   : 0.202 ± 0.002\n"
     ]
    },
    {
     "name": "stderr",
     "output_type": "stream",
     "text": [
      "\n"
     ]
    }
   ],
   "source": [
    "fluor_names = ['JF525','JF552','JF608','JFX673','JF722']\n",
    "spectra_dir = npz_folder\n",
    "\n",
    "# Define your known mixture\n",
    "mixture_dict = {\n",
    "    \"JF525\": 0.2,\n",
    "    \"JF552\": 0.2,\n",
    "    \"JF608\": 0.3,\n",
    "    \"JFX673\": 0.1,\n",
    "    \"JF722\": 0.2,\n",
    "}\n",
    "\n",
    "# Run simulation + SBI\n",
    "x_obs, samples, mean, std = run_sbi(fluor_names, spectra_dir, mixture_dict)\n",
    "\n",
    "print(\"Simulated Measurement (Observed):\", x_obs)\n",
    "print(\"Posterior Mean Amplitudes:\")\n",
    "for name, m, s in zip(fluor_names, mean, std):\n",
    "    print(f\"  {name:8s}: {m:.3f} ± {s:.3f}\")"
   ]
  },
  {
   "cell_type": "code",
   "execution_count": 7,
   "id": "977cb136",
   "metadata": {},
   "outputs": [
    {
     "data": {
      "text/plain": [
       "{'JF525': 0.2, 'JF552': 0.2, 'JF608': 0.3, 'JFX673': 0.1, 'JF722': 0.2}"
      ]
     },
     "execution_count": 7,
     "metadata": {},
     "output_type": "execute_result"
    }
   ],
   "source": [
    "mixture_dict"
   ]
  },
  {
   "cell_type": "code",
   "execution_count": null,
   "id": "685012c3",
   "metadata": {},
   "outputs": [],
   "source": []
  }
 ],
 "metadata": {
  "kernelspec": {
   "display_name": "Python (sbi_env)",
   "language": "python",
   "name": "sbi_env"
  },
  "language_info": {
   "codemirror_mode": {
    "name": "ipython",
    "version": 3
   },
   "file_extension": ".py",
   "mimetype": "text/x-python",
   "name": "python",
   "nbconvert_exporter": "python",
   "pygments_lexer": "ipython3",
   "version": "3.10.18"
  }
 },
 "nbformat": 4,
 "nbformat_minor": 5
}
