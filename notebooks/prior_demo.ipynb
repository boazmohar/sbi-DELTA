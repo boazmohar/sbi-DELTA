{
 "cells": [
  {
   "cell_type": "markdown",
   "metadata": {},
   "source": [
    "# Enhanced SBI Simulator - Prior Demonstration\n",
    "\n",
    "This notebook demonstrates the new prior functionality in the enhanced SBI simulator, including:\n",
    "- Custom flat prior implementation\n",
    "- Background parameter integration\n",
    "- Prior visualization tools\n",
    "- Parameter exploration"
   ]
  },
  {
   "cell_type": "code",
   "execution_count": 1,
   "metadata": {},
   "outputs": [
    {
     "name": "stderr",
     "output_type": "stream",
     "text": [
      "/groups/spruston/home/moharb/mambaforge/envs/sbi_env/lib/python3.10/site-packages/tqdm/auto.py:21: TqdmWarning: IProgress not found. Please update jupyter and ipywidgets. See https://ipywidgets.readthedocs.io/en/stable/user_install.html\n",
      "  from .autonotebook import tqdm as notebook_tqdm\n"
     ]
    }
   ],
   "source": [
    "import sys\n",
    "import os\n",
    "sys.path.append('..')\n",
    "\n",
    "import numpy as np\n",
    "import torch\n",
    "import matplotlib.pyplot as plt\n",
    "import seaborn as sns\n",
    "\n",
    "from multiplex_sim.sbi_simulator_with_filters import (\n",
    "    EnhancedSBISimulator, \n",
    "    EnhancedSBIConfig, \n",
    "    create_enhanced_sbi_simulator,\n",
    "    CustomFlatPrior\n",
    ")\n",
    "from multiplex_sim.prior_visualization import PriorVisualizer"
   ]
  },
  {
   "cell_type": "markdown",
   "metadata": {},
   "source": [
    "## 1. Setup Enhanced Simulator with Background Parameters"
   ]
  },
  {
   "cell_type": "code",
   "execution_count": 2,
   "metadata": {},
   "outputs": [
    {
     "ename": "TypeError",
     "evalue": "EnhancedSBIConfig.__init__() got an unexpected keyword argument 'include_background_params'",
     "output_type": "error",
     "traceback": [
      "\u001b[0;31m---------------------------------------------------------------------------\u001b[0m",
      "\u001b[0;31mTypeError\u001b[0m                                 Traceback (most recent call last)",
      "Cell \u001b[0;32mIn[2], line 2\u001b[0m\n\u001b[1;32m      1\u001b[0m \u001b[38;5;66;03m# Configure enhanced simulator\u001b[39;00m\n\u001b[0;32m----> 2\u001b[0m config \u001b[38;5;241m=\u001b[39m \u001b[43mEnhancedSBIConfig\u001b[49m\u001b[43m(\u001b[49m\n\u001b[1;32m      3\u001b[0m \u001b[43m    \u001b[49m\u001b[43mn_channels\u001b[49m\u001b[38;5;241;43m=\u001b[39;49m\u001b[38;5;241;43m5\u001b[39;49m\u001b[43m,\u001b[49m\n\u001b[1;32m      4\u001b[0m \u001b[43m    \u001b[49m\u001b[43minclude_filter_params\u001b[49m\u001b[38;5;241;43m=\u001b[39;49m\u001b[38;5;28;43;01mTrue\u001b[39;49;00m\u001b[43m,\u001b[49m\n\u001b[1;32m      5\u001b[0m \u001b[43m    \u001b[49m\u001b[43mcenter_wavelength_bounds\u001b[49m\u001b[38;5;241;43m=\u001b[39;49m\u001b[43m(\u001b[49m\u001b[38;5;241;43m500\u001b[39;49m\u001b[43m,\u001b[49m\u001b[43m \u001b[49m\u001b[38;5;241;43m800\u001b[39;49m\u001b[43m)\u001b[49m\u001b[43m,\u001b[49m\n\u001b[1;32m      6\u001b[0m \u001b[43m    \u001b[49m\u001b[43mbandwidth_bounds\u001b[49m\u001b[38;5;241;43m=\u001b[39;49m\u001b[43m(\u001b[49m\u001b[38;5;241;43m10\u001b[39;49m\u001b[43m,\u001b[49m\u001b[43m \u001b[49m\u001b[38;5;241;43m50\u001b[39;49m\u001b[43m)\u001b[49m\u001b[43m,\u001b[49m\n\u001b[1;32m      7\u001b[0m \u001b[43m    \u001b[49m\u001b[43minclude_background_params\u001b[49m\u001b[38;5;241;43m=\u001b[39;49m\u001b[38;5;28;43;01mTrue\u001b[39;49;00m\u001b[43m,\u001b[49m\n\u001b[1;32m      8\u001b[0m \u001b[43m    \u001b[49m\u001b[43mbackground_bounds\u001b[49m\u001b[38;5;241;43m=\u001b[39;49m\u001b[43m(\u001b[49m\u001b[38;5;241;43m10.0\u001b[39;49m\u001b[43m,\u001b[49m\u001b[43m \u001b[49m\u001b[38;5;241;43m100.0\u001b[39;49m\u001b[43m)\u001b[49m\n\u001b[1;32m      9\u001b[0m \u001b[43m)\u001b[49m\n\u001b[1;32m     11\u001b[0m \u001b[38;5;66;03m# Create simulator\u001b[39;00m\n\u001b[1;32m     12\u001b[0m fluorophore_names \u001b[38;5;241m=\u001b[39m [\u001b[38;5;124m'\u001b[39m\u001b[38;5;124mAF488\u001b[39m\u001b[38;5;124m'\u001b[39m, \u001b[38;5;124m'\u001b[39m\u001b[38;5;124mAF555\u001b[39m\u001b[38;5;124m'\u001b[39m, \u001b[38;5;124m'\u001b[39m\u001b[38;5;124mAF594\u001b[39m\u001b[38;5;124m'\u001b[39m, \u001b[38;5;124m'\u001b[39m\u001b[38;5;124mAF647\u001b[39m\u001b[38;5;124m'\u001b[39m, \u001b[38;5;124m'\u001b[39m\u001b[38;5;124mAF680\u001b[39m\u001b[38;5;124m'\u001b[39m]\n",
      "\u001b[0;31mTypeError\u001b[0m: EnhancedSBIConfig.__init__() got an unexpected keyword argument 'include_background_params'"
     ]
    }
   ],
   "source": [
    "# Configure enhanced simulator\n",
    "config = EnhancedSBIConfig(\n",
    "    n_channels=5,\n",
    "    include_filter_params=True,\n",
    "    center_wavelength_bounds=(500, 800),\n",
    "    bandwidth_bounds=(10, 50),\n",
    "    include_background_params=True,\n",
    "    background_bounds=(10.0, 100.0)\n",
    ")\n",
    "\n",
    "# Create simulator\n",
    "fluorophore_names = ['AF488', 'AF555', 'AF594', 'AF647', 'AF680']\n",
    "simulator = create_enhanced_sbi_simulator(\n",
    "    fluorophore_names=fluorophore_names,\n",
    "    config=config\n",
    ")\n",
    "\n",
    "print(f\"Simulator created with {len(fluorophore_names)} fluorophores\")\n",
    "print(f\"Total parameters: {simulator.total_params}\")\n",
    "print(f\"Concentration params: {simulator.n_concentration_params}\")\n",
    "print(f\"Filter params: {simulator.n_filter_params}\")\n",
    "print(f\"Background params: {simulator.n_background_params}\")"
   ]
  },
  {
   "cell_type": "markdown",
   "metadata": {},
   "source": [
    "## 2. Create Custom Prior"
   ]
  },
  {
   "cell_type": "code",
   "execution_count": null,
   "metadata": {},
   "outputs": [],
   "source": [
    "# Define prior configuration\n",
    "prior_config = {\n",
    "    'concentration': 1.5,  # Dirichlet concentration parameter\n",
    "    'center_low': 520,\n",
    "    'center_high': 780,\n",
    "    'bandwidth_low': 15,\n",
    "    'bandwidth_high': 45,\n",
    "    'background_low': 10.0,\n",
    "    'background_high': 100.0\n",
    "}\n",
    "\n",
    "# Create custom prior\n",
    "prior = simulator.create_custom_prior(prior_config=prior_config)\n",
    "\n",
    "print(f\"Custom prior created with {prior.total_params} total parameters\")\n",
    "print(f\"Prior includes background: {prior.include_background}\")"
   ]
  },
  {
   "cell_type": "markdown",
   "metadata": {},
   "source": [
    "## 3. Generate and Visualize Samples"
   ]
  },
  {
   "cell_type": "code",
   "execution_count": null,
   "metadata": {},
   "outputs": [],
   "source": [
    "# Generate samples from prior\n",
    "n_samples = 5000\n",
    "samples = prior.sample((n_samples,))\n",
    "params = prior.extract_parameters(samples)\n",
    "\n",
    "print(\"Sample shapes:\")\n",
    "for key, value in params.items():\n",
    "    print(f\"{key}: {value.shape}\")\n",
    "\n",
    "# Create visualizer\n",
    "visualizer = PriorVisualizer(simulator)\n",
    "visualizer.set_prior(prior)"
   ]
  },
  {
   "cell_type": "markdown",
   "metadata": {},
   "source": [
    "## 4. Visualize Prior Distributions"
   ]
  },
  {
   "cell_type": "code",
   "execution_count": null,
   "metadata": {},
   "outputs": [],
   "source": [
    "# Plot prior distributions\n",
    "fig1 = visualizer.plot_prior_distributions(n_samples=2000, figsize=(15, 12))\n",
    "plt.show()"
   ]
  },
  {
   "cell_type": "markdown",
   "metadata": {},
   "source": [
    "## 5. Visualize Parameter Correlations"
   ]
  },
  {
   "cell_type": "code",
   "execution_count": null,
   "metadata": {},
   "outputs": [],
   "source": [
    "# Plot correlation matrix\n",
    "fig2 = visualizer.plot_parameter_correlations(n_samples=1000, figsize=(14, 12))\n",
    "plt.show()"
   ]
  },
  {
   "cell_type": "markdown",
   "metadata": {},
   "source": [
    "## 6. Explore Filter Configuration Space"
   ]
  },
  {
   "cell_type": "code",
   "execution_count": null,
   "metadata": {},
   "outputs": [],
   "source": [
    "# Plot filter configuration space\n",
    "fig3 = visualizer.plot_filter_configuration_space(n_samples=1000, figsize=(12, 8))\n",
    "plt.show()"
   ]
  },
  {
   "cell_type": "markdown",
   "metadata": {},
   "source": [
    "## 7. Generate Training Data"
   ]
  },
  {
   "cell_type": "code",
   "execution_count": null,
   "metadata": {},
   "outputs": [],
   "source": [
    "# Generate training data for SBI\n",
    "n_training = 10000\n",
    "theta, x = simulator.generate_training_data(\n",
    "    n_samples=n_training,\n",
    "    prior_config=prior_config,\n",
    "    use_custom_prior=True\n",
    ")\n",
    "\n",
    "print(f\"Generated {n_training} training samples\")\n",
    "print(f\"Parameters shape: {theta.shape}\")\n",
    "print(f\"Observations shape: {x.shape}\")\n",
    "\n",
    "# Extract parameters from training data\n",
    "train_params = prior.extract_parameters(theta)\n",
    "print(\"\\nTraining parameter statistics:\")\n",
    "for key, value in train_params.items():\n",
    "    print(f\"{key}: mean={value.mean():.3f}, std={value.std():.3f}\")"
   ]
  },
  {
   "cell_type": "markdown",
   "metadata": {},
   "source": [
    "## 8. Advanced Prior Configuration"
   ]
  },
  {
   "cell_type": "code",
   "execution_count": null,
   "metadata": {},
   "outputs": [],
   "source": [
    "# Example: Different prior configurations\n",
    "configs = [\n",
    "    {\"concentration\": 0.5, \"name\": \"Sparse concentrations\"},\n",
    "    {\"concentration\": 2.0, \"name\": \"Uniform concentrations\"},\n",
    "    {\"concentration\": 5.0, \"name\": \"Concentrated concentrations\"}\n",
    "]\n",
    "\n",
    "fig, axes = plt.subplots(1, 3, figsize=(15, 4))\n",
    "\n",
    "for i, (config_dict, name) in enumerate([(c[\"config\"], c[\"name\"]) for c in configs]):\n",
    "    temp_prior = simulator.create_custom_prior(prior_config={**prior_config, **config_dict})\n",
    "    samples = temp_prior.sample((1000,))\n",
    "    concentrations = temp_prior.extract_parameters(samples)['concentrations']\n",
    "    \n",
    "    # Plot concentration distribution\n",
    "    for j in range(concentrations.shape[1]):\n",
    "        axes[i].hist(concentrations[:, j], bins=30, alpha=0.7, label=f'Fluor {j+1}', density=True)\n",
    "    axes[i].set_title(name)\n",
    "    axes[i].set_xlabel('Concentration')\n",
    "    axes[i].set_ylabel('Density')\n",
    "    if i == 0:\n",
    "        axes[i].legend()\n",
    "\n",
    "plt.tight_layout()\n",
    "plt.show()"
   ]
  },
  {
   "cell_type": "markdown",
   "metadata": {},
   "source": [
    "## 9. Save and Load Configuration"
   ]
  },
  {
   "cell_type": "code",
   "execution_count": null,
   "metadata": {},
   "outputs": [],
   "source": [
    "# Save configuration for later use\n",
    "import json\n",
    "\n",
    "config_dict = {\n",
    "    'fluorophore_names': fluorophore_names,\n",
    "    'n_channels': config.n_channels,\n",
    "    'prior_config': prior_config,\n",
    "    'total_params': simulator.total_params\n",
    "}\n",
    "\n",
    "with open('enhanced_sbi_config.json', 'w') as f:\n",
    "    json.dump(config_dict, f, indent=2)\n",
    "\n",
    "print(\"Configuration saved to enhanced_sbi_config.json\")\n",
    "\n",
    "# Load configuration\n",
    "with open('enhanced_sbi_config.json', 'r') as f:\n",
    "    loaded_config = json.load(f)\n",
    "\n",
    "print(\"Loaded configuration:\")\n",
    "for key, value in loaded_config.items():\n",
    "    print(f\"{key}: {value}\")"
   ]
  },
  {
   "cell_type": "markdown",
   "metadata": {},
   "source": [
    "## Summary\n",
    "\n",
    "This notebook demonstrated:\n",
    "\n",
    "1. **Enhanced SBI Simulator**: Extended with background parameters\n",
    "2. **Custom Flat Prior**: Unified prior for all parameter types\n",
    "3. **Prior Visualization**: Comprehensive plotting tools for parameter exploration\n",
    "4. **Parameter Extraction**: Easy access to individual parameter groups\n",
    "5. **Training Data Generation**: Seamless integration with SBI workflows\n",
    "\n",
    "The enhanced simulator now supports:\n",
    "- Concentration parameters (Dirichlet prior)\n",
    "- Filter center wavelengths (Uniform prior)\n",
    "- Filter bandwidths (Uniform prior)\n",
    "- Background amplitude (Uniform prior)\n",
    "- Custom prior configuration\n",
    "- Comprehensive visualization tools"
   ]
  }
 ],
 "metadata": {
  "kernelspec": {
   "display_name": "Python (sbi_env)",
   "language": "python",
   "name": "sbi_env"
  },
  "language_info": {
   "codemirror_mode": {
    "name": "ipython",
    "version": 3
   },
   "file_extension": ".py",
   "mimetype": "text/x-python",
   "name": "python",
   "nbconvert_exporter": "python",
   "pygments_lexer": "ipython3",
   "version": "3.10.18"
  }
 },
 "nbformat": 4,
 "nbformat_minor": 4
}
