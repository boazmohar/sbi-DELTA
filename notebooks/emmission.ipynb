{
 "cells": [
  {
   "cell_type": "code",
   "execution_count": 10,
   "id": "5f78ed04",
   "metadata": {},
   "outputs": [],
   "source": [
    "# In [1]: Imports and Setup\n",
    "import sys\n",
    "import os\n",
    "sys.path.append(os.path.abspath(\"..\"))  # Adjust path as needed\n",
    "import torch\n",
    "import numpy as np\n",
    "import matplotlib.pyplot as plt\n",
    "from functools import partial\n",
    "from sbi import utils as sbi_utils\n",
    "from sbi import inference as sbi_inference\n",
    "from sbi.inference import SNPE, simulate_for_sbi\n",
    "from multiplex_sim import Microscope"
   ]
  },
  {
   "cell_type": "code",
   "execution_count": 2,
   "id": "f1ad4e91",
   "metadata": {},
   "outputs": [],
   "source": [
    "# In [2]: Define the prior over emission peak (λ_max) and width (σ)\n",
    "prior = sbi_utils.BoxUniform(low=torch.tensor([450.0, 10.0]), \n",
    "                             high=torch.tensor([650.0, 50.0]))"
   ]
  },
  {
   "cell_type": "code",
   "execution_count": 11,
   "id": "dd5e0d87",
   "metadata": {},
   "outputs": [],
   "source": [
    "\n",
    "simulator = partial(\n",
    "    Microscope.simulate_detected_signal,\n",
    "    num_channels=3,\n",
    "    center_wavelengths=[500.0, 550.0, 600.0],\n",
    "    bandwidth=15.0\n",
    ")"
   ]
  },
  {
   "cell_type": "code",
   "execution_count": 12,
   "id": "e1d05b62",
   "metadata": {},
   "outputs": [
    {
     "name": "stderr",
     "output_type": "stream",
     "text": [
      "/tmp/ipykernel_1016940/1640293814.py:2: DeprecationWarning: This method is deprecated as of sbi version v0.23.0. and will be removed in a         future release.Please use `process_prior` and `process_simulator` in the future.\n",
      "  simulator, prior = sbi_utils.user_input_checks.prepare_for_sbi(simulator, prior)\n"
     ]
    }
   ],
   "source": [
    "# In [3]: Wrap the simulator\n",
    "simulator, prior = sbi_utils.user_input_checks.prepare_for_sbi(simulator, prior)"
   ]
  },
  {
   "cell_type": "code",
   "execution_count": 13,
   "id": "0a7a7f13",
   "metadata": {},
   "outputs": [
    {
     "name": "stderr",
     "output_type": "stream",
     "text": [
      "  0%|          | 0/1000 [00:00<?, ?it/s]"
     ]
    },
    {
     "name": "stderr",
     "output_type": "stream",
     "text": [
      "100%|██████████| 1000/1000 [00:00<00:00, 23810.57it/s]\n"
     ]
    },
    {
     "name": "stdout",
     "output_type": "stream",
     "text": [
      " Neural network successfully converged after 254 epochs."
     ]
    }
   ],
   "source": [
    "# In [4]: Generate training data via simulation\n",
    "inference = sbi_inference.SNPE(prior)\n",
    "theta, x = simulate_for_sbi(simulator, prior, num_simulations=1000)\n",
    "density_estimator = inference.append_simulations(theta, x).train()\n",
    "posterior = inference.build_posterior(density_estimator)"
   ]
  },
  {
   "cell_type": "code",
   "execution_count": 14,
   "id": "9346b5c0",
   "metadata": {},
   "outputs": [
    {
     "name": "stdout",
     "output_type": "stream",
     "text": [
      "Simulated observations for [500.0, 550.0, 600.0] nm channels:\n",
      "tensor([[ 5.9527, 29.4839,  2.6747]])\n"
     ]
    }
   ],
   "source": [
    "# Define true parameters for a fluorophore\n",
    "true_params = torch.tensor([[545.0, 20.0]])  # shape: (1, 2)\n",
    "\n",
    "# Define 3 narrow-band detection channels at these peak wavelengths:\n",
    "center_wavelengths = [500.0, 550.0, 600.0]  # in nm\n",
    "bandwidth = 15.0  # narrow filters\n",
    "\n",
    "# Simulate the detected signal vector (1 value per channel)\n",
    "x_observed = Microscope.simulate_detected_signal(\n",
    "    params=true_params,\n",
    "    num_channels=3,\n",
    "    center_wavelengths=center_wavelengths,\n",
    "    bandwidth=bandwidth\n",
    ")\n",
    "\n",
    "print(f\"Simulated observations for {center_wavelengths} nm channels:\")\n",
    "print(x_observed)"
   ]
  },
  {
   "cell_type": "code",
   "execution_count": 16,
   "id": "743e97c9",
   "metadata": {},
   "outputs": [
    {
     "name": "stdout",
     "output_type": "stream",
     "text": [
      "torch.Size([3])\n",
      "torch.Size([3])\n"
     ]
    }
   ],
   "source": [
    "print(posterior.posterior_estimator.condition_shape)\n",
    "print(x_observed[0].shape)"
   ]
  },
  {
   "cell_type": "code",
   "execution_count": 17,
   "id": "d4cce401",
   "metadata": {},
   "outputs": [
    {
     "name": "stderr",
     "output_type": "stream",
     "text": [
      "Drawing 10000 posterior samples: 100%|██████████| 10000/10000 [00:00<00:00, 625800.70it/s]\n"
     ]
    }
   ],
   "source": [
    "# In [6]: Draw posterior samples conditioned on observed signal\n",
    "samples = posterior.sample((10000,), x=x_observed[0])\n",
    "samples_np = samples.numpy()"
   ]
  },
  {
   "cell_type": "code",
   "execution_count": 18,
   "id": "cc6f74bd",
   "metadata": {},
   "outputs": [
    {
     "data": {
      "image/png": "[encoded data removed]",
      "text/plain": [
       "<Figure size 1000x400 with 2 Axes>"
      ]
     },
     "metadata": {},
     "output_type": "display_data"
    }
   ],
   "source": [
    "# In [7]: Plot posterior samples\n",
    "fig, ax = plt.subplots(1, 2, figsize=(10, 4))\n",
    "ax[0].hist(samples_np[:, 0], bins=30, color='steelblue')\n",
    "ax[0].axvline(true_params[0, 0], color='red', linestyle='--')\n",
    "ax[0].set_title(\"Posterior λ_max (nm)\")\n",
    "\n",
    "ax[1].hist(samples_np[:, 1], bins=30, color='seagreen')\n",
    "ax[1].axvline(true_params[0, 1], color='red', linestyle='--')\n",
    "ax[1].set_title(\"Posterior σ (nm)\")\n",
    "\n",
    "plt.tight_layout()\n",
    "plt.show()\n"
   ]
  },
  {
   "cell_type": "code",
   "execution_count": null,
   "id": "77fa4c25",
   "metadata": {},
   "outputs": [],
   "source": []
  }
 ],
 "metadata": {
  "kernelspec": {
   "display_name": "Python (sbi_env)",
   "language": "python",
   "name": "sbi_env"
  },
  "language_info": {
   "codemirror_mode": {
    "name": "ipython",
    "version": 3
   },
   "file_extension": ".py",
   "mimetype": "text/x-python",
   "name": "python",
   "nbconvert_exporter": "python",
   "pygments_lexer": "ipython3",
   "version": "3.10.18"
  }
 },
 "nbformat": 4,
 "nbformat_minor": 5
}
