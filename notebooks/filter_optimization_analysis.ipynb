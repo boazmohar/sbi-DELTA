{
 "cells": [
  {
   "cell_type": "markdown",
   "metadata": {},
   "source": [
    "# Filter Configuration Optimization for SBI-DELTA\n",
    "\n",
    "This notebook analyzes how different center wavelengths and bandwidths of detection filters affect the correlation between true and predicted dye concentrations in multiplexed fluorescence microscopy.\n",
    "\n",
    "## Overview\n",
    "\n",
    "We systematically test various filter configurations to understand:\n",
    "- How filter center wavelengths affect prediction accuracy\n",
    "- How filter bandwidths impact multiplexing performance\n",
    "- Optimal configurations for different fluorophore combinations\n",
    "- Trade-offs between spectral resolution and signal strength"
   ]
  },
  {
   "cell_type": "code",
   "execution_count": null,
   "metadata": {},
   "outputs": [],
   "source": [
    "import numpy as np\n",
    "import matplotlib.pyplot as plt\n",
    "import torch\n",
    "from pathlib import Path\n",
    "import itertools\n",
    "from tqdm import tqdm\n",
    "import pandas as pd\n",
    "import seaborn as sns\n",
    "from scipy.stats import pearsonr\n",
    "\n",
    "# Import our improved multiplex_sim package\n",
    "import sys\n",
    "sys.path.append('..')\n",
    "\n",
    "from multiplex_sim import (\n",
    "    # Core simulation\n",
    "    list_fluorophores, plot_fluorophores,\n",
    "    \n",
    "    # SBI components\n",
    "    SBIConfig, SBISimulator, create_sbi_simulator,\n",
    "    TrainingConfig, ExperimentConfig, SBITrainer, run_sbi_experiment\n",
    ")\n",
    "\n",
    "# Set up plotting\n",
    "plt.style.use('default')\n",
    "plt.rcParams['figure.figsize'] = (12, 8)\n",
    "plt.rcParams['font.size'] = 10"
   ]
  },
  {
   "cell_type": "markdown",
   "metadata": {},
   "source": [
    "## 1. Setup and Configuration"
   ]
  },
  {
   "cell_type": "code",
   "execution_count": null,
   "metadata": {},
   "outputs": [],
   "source": [
    "# Select fluorophores for analysis\n",
    "selected_fluors = ['JF525', 'JF552', 'JF608', 'JFX673', 'JF722']\n",
    "print(f\"Selected fluorophores: {selected_fluors}\")\n",
    "\n",
    "# Plot their spectra\n",
    "plot_fluorophores(selected_fluors, \"../data/spectra_npz\", normalize=True)\n",
    "plt.title(\"Selected Fluorophore Spectra\")\n",
    "plt.show()\n",
    "\n",
    "# Base SBI configuration\n",
    "base_sbi_config = SBIConfig(\n",
    "    wavelength_range=(500, 800),\n",
    "    wavelength_step=1.0,\n",
    "    total_dye_photons=300.0,\n",
    "    total_background_photons=30.0,\n",
    "    filter_type=\"sigmoid\",\n",
    "    edge_steepness=1.0,\n",
    "    background_fluor
