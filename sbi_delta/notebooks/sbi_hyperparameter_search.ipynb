{
 "cells": [
  {
   "cell_type": "markdown",
   "id": "89a3eb73",
   "metadata": {},
   "source": [
    "# Hyperparameter Search for SBI Trainer with sbi_delta\n",
    "\n",
    "This notebook performs a hyperparameter search for the SBI Trainer using the sbi_delta package. We systematically vary key SNPE training parameters and evaluate their effect on model performance.\n",
    "\n",
    "**Outline:**\n",
    "- Import required libraries\n",
    "- Define experiment configuration\n",
    "- Define hyperparameter grid\n",
    "- Run hyperparameter search loop\n",
    "- Collect and analyze results\n",
    "- Visualize hyperparameter effects\n",
    "- Save results"
   ]
  },
  {
   "cell_type": "code",
   "execution_count": null,
   "id": "e1d66e3d",
   "metadata": {},
   "outputs": [
    {
     "name": "stderr",
     "output_type": "stream",
     "text": [
      "/groups/spruston/home/moharb/mambaforge/envs/sbi_env/lib/python3.10/site-packages/tqdm/auto.py:21: TqdmWarning: IProgress not found. Please update jupyter and ipywidgets. See https://ipywidgets.readthedocs.io/en/stable/user_install.html\n",
      "  from .autonotebook import tqdm as notebook_tqdm\n",
      "INFO:arviz.preview:arviz_base not installed\n",
      "INFO:arviz.preview:arviz_stats not installed\n",
      "INFO:arviz.preview:arviz_plots not installed\n"
     ]
    }
   ],
   "source": [
    "# Section 1: Import Required Libraries\n",
    "import os, sys\n",
    "base_path = os.path.abspath(\"../..\")\n",
    "sys.path.append(base_path)  # Adjust path as needed\n",
    "import numpy as np\n",
    "import torch\n",
    "import pandas as pd\n",
    "import itertools\n",
    "import matplotlib.pyplot as plt\n",
    "from sbi.inference import SNPE\n",
    "from sbi_delta.config import BaseConfig, ExcitationConfig, FilterConfig, PriorConfig\n",
    "from sbi_delta.spectra_manager import SpectraManager\n",
    "from sbi_delta.excitation_manager import ExcitationManager\n",
    "from sbi_delta.filter_bank import FilterBank\n",
    "from sbi_delta.prior_manager import PriorManager\n",
    "from sbi_delta.simulator.emission_simulator import EmissionSimulator\n",
    "from sbi_delta.trainer import Trainer"
   ]
  },
  {
   "cell_type": "code",
   "execution_count": 2,
   "id": "9538ee72",
   "metadata": {},
   "outputs": [
    {
     "name": "stderr",
     "output_type": "stream",
     "text": [
      "INFO:sbi_delta.spectra_manager:Initialized SpectraManager(folder=/groups/spruston/home/moharb/sbi-DELTA/data/spectra_npz, dyes=['JF479', 'JF525', 'JF552', 'JF608', 'JFX650', 'JFX673'], bg_dye=AF_v1)\n",
      "INFO:sbi_delta.spectra_manager:Starting load() of spectra\n",
      "INFO:sbi_delta.spectra_manager:Found 22 .npz files in '/groups/spruston/home/moharb/sbi-DELTA/data/spectra_npz'\n",
      "INFO:sbi_delta.spectra_manager:Loading emission spectrum for dye 'JF479' from /groups/spruston/home/moharb/sbi-DELTA/data/spectra_npz/JF479.npz\n",
      "INFO:sbi_delta.spectra_manager:Completed processing for 'JF479'\n",
      "INFO:sbi_delta.spectra_manager:Loading emission spectrum for dye 'JF525' from /groups/spruston/home/moharb/sbi-DELTA/data/spectra_npz/JF525.npz\n",
      "INFO:sbi_delta.spectra_manager:Completed processing for 'JF525'\n",
      "INFO:sbi_delta.spectra_manager:Loading emission spectrum for dye 'JF552' from /groups/spruston/home/moharb/sbi-DELTA/data/spectra_npz/JF552.npz\n",
      "INFO:sbi_delta.spectra_manager:Completed processing for 'JF552'\n",
      "INFO:sbi_delta.spectra_manager:Loading emission spectrum for dye 'JF608' from /groups/spruston/home/moharb/sbi-DELTA/data/spectra_npz/JF608.npz\n",
      "INFO:sbi_delta.spectra_manager:Completed processing for 'JF608'\n",
      "INFO:sbi_delta.spectra_manager:Loading emission spectrum for dye 'JFX650' from /groups/spruston/home/moharb/sbi-DELTA/data/spectra_npz/JFX650.npz\n",
      "INFO:sbi_delta.spectra_manager:Completed processing for 'JFX650'\n",
      "INFO:sbi_delta.spectra_manager:Loading emission spectrum for dye 'JFX673' from /groups/spruston/home/moharb/sbi-DELTA/data/spectra_npz/JFX673.npz\n",
      "INFO:sbi_delta.spectra_manager:Completed processing for 'JFX673'\n",
      "INFO:sbi_delta.spectra_manager:Loading emission spectrum for dye 'AF_v1' from /groups/spruston/home/moharb/sbi-DELTA/data/spectra_npz/AF_v1.npz\n",
      "INFO:sbi_delta.spectra_manager:Completed processing for 'AF_v1'\n",
      "INFO:sbi_delta.spectra_manager:Loading excitation spectrum for dye 'JF479' from /groups/spruston/home/moharb/sbi-DELTA/data/spectra_npz/JF479.npz\n",
      "INFO:sbi_delta.spectra_manager:Completed processing for 'JF479'\n",
      "INFO:sbi_delta.spectra_manager:Loading excitation spectrum for dye 'JF525' from /groups/spruston/home/moharb/sbi-DELTA/data/spectra_npz/JF525.npz\n",
      "INFO:sbi_delta.spectra_manager:Completed processing for 'JF525'\n",
      "INFO:sbi_delta.spectra_manager:Loading excitation spectrum for dye 'JF552' from /groups/spruston/home/moharb/sbi-DELTA/data/spectra_npz/JF552.npz\n",
      "INFO:sbi_delta.spectra_manager:Completed processing for 'JF552'\n",
      "INFO:sbi_delta.spectra_manager:Loading excitation spectrum for dye 'JF608' from /groups/spruston/home/moharb/sbi-DELTA/data/spectra_npz/JF608.npz\n",
      "INFO:sbi_delta.spectra_manager:Completed processing for 'JF608'\n",
      "INFO:sbi_delta.spectra_manager:Loading excitation spectrum for dye 'JFX650' from /groups/spruston/home/moharb/sbi-DELTA/data/spectra_npz/JFX650.npz\n",
      "INFO:sbi_delta.spectra_manager:Completed processing for 'JFX650'\n",
      "INFO:sbi_delta.spectra_manager:Loading excitation spectrum for dye 'JFX673' from /groups/spruston/home/moharb/sbi-DELTA/data/spectra_npz/JFX673.npz\n",
      "INFO:sbi_delta.spectra_manager:Completed processing for 'JFX673'\n",
      "INFO:sbi_delta.spectra_manager:Loading excitation spectrum for dye 'AF_v1' from /groups/spruston/home/moharb/sbi-DELTA/data/spectra_npz/AF_v1.npz\n",
      "INFO:sbi_delta.spectra_manager:Completed processing for 'AF_v1'\n",
      "INFO:sbi_delta.spectra_manager:Completed load(): 7 emission dyes, 7 excitation dyes\n",
      "INFO:sbi_delta.filter_bank:FilterBank: grid 400–750 nm @ 1 nm step\n",
      "INFO:sbi_delta.filter_bank:FilterBank: loaded 5 filters\n"
     ]
    },
    {
     "name": "stdout",
     "output_type": "stream",
     "text": [
      "Simulator and managers initialized.\n"
     ]
    }
   ],
   "source": [
    "# Section 2: Define Experiment Configuration\n",
    "# Define fluorophores, filters, and prior\n",
    "fluorophore_names = [\"JF479\", \"JF525\", \"JF552\", \"JF608\", \"JFX650\", \"JFX673\"]\n",
    "\n",
    "base_cfg = BaseConfig(\n",
    "    min_wavelength=400,\n",
    "    max_wavelength=750,\n",
    "    wavelength_step=1,\n",
    "    spectra_folder=os.path.join(base_path, \"data/spectra_npz\"),\n",
    "    dye_names=fluorophore_names,\n",
    "    bg_dye='AF_v1',\n",
    "    photon_budget=1000,\n",
    ")\n",
    "exc_cfg = ExcitationConfig(excitation_mode=\"min_crosstalk\")\n",
    "filter_cfgs = [\n",
    "    FilterConfig(start, stop, sharpness=1)\n",
    "    for start, stop in zip([490, 530, 570, 620, 680], [530, 570, 620, 680, 740])\n",
    "]\n",
    "prior_cfg = PriorConfig(\n",
    "    dirichlet_concentration=5.0,\n",
    "    include_background_ratio=True,\n",
    "    background_ratio_bounds=(0.05, 0.15),\n",
    ")\n",
    "\n",
    "spectra_mgr = SpectraManager(base_cfg)\n",
    "spectra_mgr.load()\n",
    "excitation_mgr = ExcitationManager(base_cfg, exc_cfg, spectra_mgr)\n",
    "filter_bank = FilterBank(base_cfg, filter_cfgs)\n",
    "prior_mgr = PriorManager(prior_cfg, base_cfg)\n",
    "simulator = EmissionSimulator(\n",
    "    spectra_manager=spectra_mgr,\n",
    "    filter_bank=filter_bank,\n",
    "    config=base_cfg,\n",
    "    excitation_manager=excitation_mgr,\n",
    "    prior_manager=prior_mgr,\n",
    ")\n",
    "print(\"Simulator and managers initialized.\")"
   ]
  },
  {
   "cell_type": "code",
   "execution_count": 3,
   "id": "9480367a",
   "metadata": {},
   "outputs": [
    {
     "name": "stdout",
     "output_type": "stream",
     "text": [
      "Total hyperparameter combinations: 81\n"
     ]
    }
   ],
   "source": [
    "# Section 3: Define Hyperparameter Grid\n",
    "# Specify the hyperparameters to search over\n",
    "hyperparams_grid = {\n",
    "    'training_batch_size': [64, 128, 256],\n",
    "    'learning_rate': [1e-3, 5e-4, 1e-4],\n",
    "    'validation_fraction': [0.05, 0.1, 0.2],\n",
    "    'stop_after_epochs': [5, 10, 20]\n",
    "}\n",
    "\n",
    "# Create all combinations of hyperparameters\n",
    "grid_keys = list(hyperparams_grid.keys())\n",
    "grid_combos = list(itertools.product(*[hyperparams_grid[k] for k in grid_keys]))\n",
    "print(f\"Total hyperparameter combinations: {len(grid_combos)}\")"
   ]
  },
  {
   "cell_type": "code",
   "execution_count": 4,
   "id": "1bbf2711",
   "metadata": {},
   "outputs": [
    {
     "name": "stderr",
     "output_type": "stream",
     "text": [
      "Hyperparameter Search:   0%|          | 0/81 [00:00<?, ?it/s]"
     ]
    },
    {
     "name": "stdout",
     "output_type": "stream",
     "text": [
      "\n",
      "Running combo 1/81: {'training_batch_size': 64, 'learning_rate': 0.001, 'validation_fraction': 0.05, 'stop_after_epochs': 5}\n"
     ]
    },
    {
     "name": "stderr",
     "output_type": "stream",
     "text": [
      "Hyperparameter Search:   1%|          | 1/81 [00:03<04:11,  3.14s/it]"
     ]
    },
    {
     "name": "stdout",
     "output_type": "stream",
     "text": [
      "Failed for params {'training_batch_size': 64, 'learning_rate': 0.001, 'validation_fraction': 0.05, 'stop_after_epochs': 5}: name 'SNPE' is not defined\n",
      "\n",
      "Running combo 2/81: {'training_batch_size': 64, 'learning_rate': 0.001, 'validation_fraction': 0.05, 'stop_after_epochs': 10}\n"
     ]
    },
    {
     "name": "stderr",
     "output_type": "stream",
     "text": [
      "Hyperparameter Search:   2%|▏         | 2/81 [00:06<04:07,  3.13s/it]"
     ]
    },
    {
     "name": "stdout",
     "output_type": "stream",
     "text": [
      "Failed for params {'training_batch_size': 64, 'learning_rate': 0.001, 'validation_fraction': 0.05, 'stop_after_epochs': 10}: name 'SNPE' is not defined\n",
      "\n",
      "Running combo 3/81: {'training_batch_size': 64, 'learning_rate': 0.001, 'validation_fraction': 0.05, 'stop_after_epochs': 20}\n"
     ]
    },
    {
     "name": "stderr",
     "output_type": "stream",
     "text": [
      "Hyperparameter Search:   4%|▎         | 3/81 [00:09<04:05,  3.14s/it]"
     ]
    },
    {
     "name": "stdout",
     "output_type": "stream",
     "text": [
      "Failed for params {'training_batch_size': 64, 'learning_rate': 0.001, 'validation_fraction': 0.05, 'stop_after_epochs': 20}: name 'SNPE' is not defined\n",
      "\n",
      "Running combo 4/81: {'training_batch_size': 64, 'learning_rate': 0.001, 'validation_fraction': 0.1, 'stop_after_epochs': 5}\n"
     ]
    },
    {
     "name": "stderr",
     "output_type": "stream",
     "text": [
      "Hyperparameter Search:   5%|▍         | 4/81 [00:12<04:02,  3.15s/it]"
     ]
    },
    {
     "name": "stdout",
     "output_type": "stream",
     "text": [
      "Failed for params {'training_batch_size': 64, 'learning_rate': 0.001, 'validation_fraction': 0.1, 'stop_after_epochs': 5}: name 'SNPE' is not defined\n",
      "\n",
      "Running combo 5/81: {'training_batch_size': 64, 'learning_rate': 0.001, 'validation_fraction': 0.1, 'stop_after_epochs': 10}\n"
     ]
    },
    {
     "name": "stderr",
     "output_type": "stream",
     "text": [
      "Hyperparameter Search:   5%|▍         | 4/81 [00:15<04:54,  3.82s/it]\n",
      "\n"
     ]
    },
    {
     "ename": "KeyboardInterrupt",
     "evalue": "",
     "output_type": "error",
     "traceback": [
      "\u001b[0;31m---------------------------------------------------------------------------\u001b[0m",
      "\u001b[0;31mKeyboardInterrupt\u001b[0m                         Traceback (most recent call last)",
      "Cell \u001b[0;32mIn[4], line 34\u001b[0m\n\u001b[1;32m     32\u001b[0m trainer\u001b[38;5;241m.\u001b[39mtrain \u001b[38;5;241m=\u001b[39m types\u001b[38;5;241m.\u001b[39mMethodType(train_with_params, trainer)\n\u001b[1;32m     33\u001b[0m \u001b[38;5;28;01mtry\u001b[39;00m:\n\u001b[0;32m---> 34\u001b[0m     posterior \u001b[38;5;241m=\u001b[39m \u001b[43mtrainer\u001b[49m\u001b[38;5;241;43m.\u001b[39;49m\u001b[43mtrain\u001b[49m\u001b[43m(\u001b[49m\u001b[43m)\u001b[49m\n\u001b[1;32m     35\u001b[0m     r2_scores, rmse_scores, rmse \u001b[38;5;241m=\u001b[39m trainer\u001b[38;5;241m.\u001b[39mvalidate()\n\u001b[1;32m     36\u001b[0m     mean_r2 \u001b[38;5;241m=\u001b[39m np\u001b[38;5;241m.\u001b[39mmean(r2_scores)\n",
      "Cell \u001b[0;32mIn[4], line 19\u001b[0m, in \u001b[0;36mtrain_with_params\u001b[0;34m(self)\u001b[0m\n\u001b[1;32m     18\u001b[0m \u001b[38;5;28;01mdef\u001b[39;00m\u001b[38;5;250m \u001b[39m\u001b[38;5;21mtrain_with_params\u001b[39m(\u001b[38;5;28mself\u001b[39m):\n\u001b[0;32m---> 19\u001b[0m     train_theta, train_x \u001b[38;5;241m=\u001b[39m \u001b[38;5;28;43mself\u001b[39;49m\u001b[38;5;241;43m.\u001b[39;49m\u001b[43mgenerate_training_data\u001b[49m\u001b[43m(\u001b[49m\u001b[43m)\u001b[49m\n\u001b[1;32m     20\u001b[0m     inference \u001b[38;5;241m=\u001b[39m SNPE(prior\u001b[38;5;241m=\u001b[39m\u001b[38;5;28mself\u001b[39m\u001b[38;5;241m.\u001b[39mprior)\n\u001b[1;32m     21\u001b[0m     inference\u001b[38;5;241m.\u001b[39mappend_simulations(train_theta, train_x)\n",
      "File \u001b[0;32m~/sbi-DELTA/sbi_delta/trainer.py:47\u001b[0m, in \u001b[0;36mTrainer.generate_training_data\u001b[0;34m(self)\u001b[0m\n\u001b[1;32m     45\u001b[0m train_x \u001b[38;5;241m=\u001b[39m []\n\u001b[1;32m     46\u001b[0m \u001b[38;5;28;01mfor\u001b[39;00m theta \u001b[38;5;129;01min\u001b[39;00m train_theta:\n\u001b[0;32m---> 47\u001b[0m     counts \u001b[38;5;241m=\u001b[39m \u001b[38;5;28;43mself\u001b[39;49m\u001b[38;5;241;43m.\u001b[39;49m\u001b[43msimulator\u001b[49m\u001b[38;5;241;43m.\u001b[39;49m\u001b[43msimulate\u001b[49m\u001b[43m(\u001b[49m\u001b[43mconcentrations\u001b[49m\u001b[38;5;241;43m=\u001b[39;49m\u001b[43mtheta\u001b[49m\u001b[38;5;241;43m.\u001b[39;49m\u001b[43mnumpy\u001b[49m\u001b[43m(\u001b[49m\u001b[43m)\u001b[49m\u001b[43m,\u001b[49m\u001b[43m \u001b[49m\u001b[43madd_noise\u001b[49m\u001b[38;5;241;43m=\u001b[39;49m\u001b[38;5;28;43;01mTrue\u001b[39;49;00m\u001b[43m,\u001b[49m\u001b[43m \u001b[49m\u001b[43mdebug\u001b[49m\u001b[38;5;241;43m=\u001b[39;49m\u001b[38;5;28;43;01mFalse\u001b[39;49;00m\u001b[43m)\u001b[49m\n\u001b[1;32m     48\u001b[0m     train_x\u001b[38;5;241m.\u001b[39mappend(counts\u001b[38;5;241m.\u001b[39mflatten())\n\u001b[1;32m     49\u001b[0m train_x \u001b[38;5;241m=\u001b[39m torch\u001b[38;5;241m.\u001b[39mtensor(np\u001b[38;5;241m.\u001b[39mstack(train_x), dtype\u001b[38;5;241m=\u001b[39mtorch\u001b[38;5;241m.\u001b[39mfloat32)\n",
      "File \u001b[0;32m~/sbi-DELTA/sbi_delta/simulator/emission_simulator.py:62\u001b[0m, in \u001b[0;36mEmissionSimulator.simulate\u001b[0;34m(self, concentrations, add_noise, debug)\u001b[0m\n\u001b[1;32m     59\u001b[0m \u001b[38;5;28;01mfor\u001b[39;00m i_exc, exc_wl \u001b[38;5;129;01min\u001b[39;00m \u001b[38;5;28menumerate\u001b[39m(excitation_wavelengths):\n\u001b[1;32m     60\u001b[0m     \u001b[38;5;66;03m# Find the excitation value for this dye at the current laser wavelength\u001b[39;00m\n\u001b[1;32m     61\u001b[0m     wl_grid \u001b[38;5;241m=\u001b[39m \u001b[38;5;28mself\u001b[39m\u001b[38;5;241m.\u001b[39mspectra_manager\u001b[38;5;241m.\u001b[39mwavelength_grid\n\u001b[0;32m---> 62\u001b[0m     idx \u001b[38;5;241m=\u001b[39m \u001b[43mnp\u001b[49m\u001b[38;5;241;43m.\u001b[39;49m\u001b[43mabs\u001b[49m\u001b[43m(\u001b[49m\u001b[43mwl_grid\u001b[49m\u001b[43m \u001b[49m\u001b[38;5;241;43m-\u001b[39;49m\u001b[43m \u001b[49m\u001b[43mexc_wl\u001b[49m\u001b[43m)\u001b[49m\u001b[38;5;241m.\u001b[39margmin()\n\u001b[1;32m     63\u001b[0m     dye_exc \u001b[38;5;241m=\u001b[39m excitation_spectrum[idx]\n\u001b[1;32m     64\u001b[0m     \u001b[38;5;28;01mfor\u001b[39;00m i_ch, filt \u001b[38;5;129;01min\u001b[39;00m \u001b[38;5;28menumerate\u001b[39m(\u001b[38;5;28mself\u001b[39m\u001b[38;5;241m.\u001b[39mfilter_bank\u001b[38;5;241m.\u001b[39mfilters):\n",
      "\u001b[0;31mKeyboardInterrupt\u001b[0m: "
     ]
    }
   ],
   "source": [
    "# Section 4: Run Hyperparameter Search Loop\n",
    "from tqdm import tqdm\n",
    "results = []\n",
    "\n",
    "n_train = 2000  # Reduce for speed; increase for real experiments\n",
    "n_val = 500\n",
    "\n",
    "for idx, combo in enumerate(tqdm(grid_combos, desc='Hyperparameter Search')):\n",
    "    params = dict(zip(grid_keys, combo))\n",
    "    print(f\"\\nRunning combo {idx+1}/{len(grid_combos)}: {params}\")\n",
    "    trainer = Trainer(\n",
    "        simulator,\n",
    "        n_train=n_train,\n",
    "        n_val=n_val,\n",
    "        save_dir=None  # Don't save intermediate results\n",
    "    )\n",
    "    # Patch the train method to use current hyperparameters\n",
    "    def train_with_params(self):\n",
    "        train_theta, train_x = self.generate_training_data()\n",
    "        inference = SNPE(prior=self.prior)\n",
    "        inference.append_simulations(train_theta, train_x)\n",
    "        density_estimator = inference.train(\n",
    "            training_batch_size=params['training_batch_size'],\n",
    "            learning_rate=params['learning_rate'],\n",
    "            validation_fraction=params['validation_fraction'],\n",
    "            stop_after_epochs=params['stop_after_epochs'],\n",
    "            show_train_summary=False\n",
    "        )\n",
    "        self.posterior = inference.build_posterior(density_estimator)\n",
    "        return self.posterior\n",
    "    import types\n",
    "    trainer.train = types.MethodType(train_with_params, trainer)\n",
    "    try:\n",
    "        posterior = trainer.train()\n",
    "        r2_scores, rmse_scores, rmse = trainer.validate()\n",
    "        mean_r2 = np.mean(r2_scores)\n",
    "        mean_rmse = np.mean(rmse_scores)\n",
    "        mean_width = np.mean(trainer.results['posterior_width'])\n",
    "        results.append({\n",
    "            **params,\n",
    "            'mean_r2': mean_r2,\n",
    "            'mean_rmse': mean_rmse,\n",
    "            'mean_width': mean_width\n",
    "        })\n",
    "    except Exception as e:\n",
    "        print(f\"Failed for params {params}: {e}\")\n",
    "        results.append({**params, 'mean_r2': np.nan, 'mean_rmse': np.nan, 'mean_width': np.nan})"
   ]
  },
  {
   "cell_type": "code",
   "execution_count": null,
   "id": "959a7de1",
   "metadata": {},
   "outputs": [],
   "source": [
    "# Section 5: Collect and Analyze Results\n",
    "results_df = pd.DataFrame(results)\n",
    "print(f\"Total runs: {len(results_df)}\")\n",
    "display(results_df.head())\n",
    "\n",
    "# Compute best settings by mean_r2\n",
    "best_idx = results_df['mean_r2'].idxmax()\n",
    "best_params = results_df.loc[best_idx]\n",
    "print(\"Best hyperparameters by mean R^2:\")\n",
    "display(best_params)"
   ]
  },
  {
   "cell_type": "code",
   "execution_count": null,
   "id": "d2612c33",
   "metadata": {},
   "outputs": [],
   "source": [
    "# Section 6: Visualize Hyperparameter Effects\n",
    "import seaborn as sns\n",
    "\n",
    "# Plot mean R^2 vs each hyperparameter\n",
    "for param in grid_keys:\n",
    "    plt.figure(figsize=(6, 4))\n",
    "    sns.lineplot(x=param, y='mean_r2', data=results_df, marker='o')\n",
    "    plt.title(f'Mean R^2 vs {param}')\n",
    "    plt.ylabel('Mean R^2')\n",
    "    plt.xlabel(param)\n",
    "    plt.tight_layout()\n",
    "    plt.show()\n",
    "\n",
    "# Heatmap for two hyperparameters (example: batch size vs learning rate)\n",
    "pivot = results_df.pivot_table(index='training_batch_size', columns='learning_rate', values='mean_r2')\n",
    "plt.figure(figsize=(8, 6))\n",
    "sns.heatmap(pivot, annot=True, fmt='.3f', cmap='viridis')\n",
    "plt.title('Mean R^2: Batch Size vs Learning Rate')\n",
    "plt.ylabel('Batch Size')\n",
    "plt.xlabel('Learning Rate')\n",
    "plt.tight_layout()\n",
    "plt.show()"
   ]
  },
  {
   "cell_type": "code",
   "execution_count": null,
   "id": "19b19138",
   "metadata": {},
   "outputs": [],
   "source": [
    "# Section 7: Save Hyperparameter Search Results\n",
    "results_df.to_csv('sbi_hyperparam_search_results.csv', index=False)\n",
    "print('Results saved to sbi_hyperparam_search_results.csv')\n",
    "\n",
    "with open('sbi_hyperparam_search_best.json', 'w') as f:\n",
    "    import json\n",
    "    json.dump(best_params.to_dict(), f, indent=2)\n",
    "print('Best hyperparameters saved to sbi_hyperparam_search_best.json')"
   ]
  }
 ],
 "metadata": {
  "kernelspec": {
   "display_name": "Python (sbi_env)",
   "language": "python",
   "name": "sbi_env"
  },
  "language_info": {
   "codemirror_mode": {
    "name": "ipython",
    "version": 3
   },
   "file_extension": ".py",
   "mimetype": "text/x-python",
   "name": "python",
   "nbconvert_exporter": "python",
   "pygments_lexer": "ipython3",
   "version": "3.10.18"
  }
 },
 "nbformat": 4,
 "nbformat_minor": 5
}
