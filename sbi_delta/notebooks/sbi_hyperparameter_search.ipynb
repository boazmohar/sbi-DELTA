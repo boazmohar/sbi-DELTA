{
 "cells": [
  {
   "cell_type": "markdown",
   "id": "89a3eb73",
   "metadata": {},
   "source": [
    "# Hyperparameter Search for SBI Trainer with sbi_delta\n",
    "\n",
    "This notebook performs a hyperparameter search for the SBI Trainer using the sbi_delta package. We systematically vary key SNPE training parameters and evaluate their effect on model performance.\n",
    "\n",
    "**Outline:**\n",
    "- Import required libraries\n",
    "- Define experiment configuration\n",
    "- Define hyperparameter grid\n",
    "- Run hyperparameter search loop\n",
    "- Collect and analyze results\n",
    "- Visualize hyperparameter effects\n",
    "- Save results"
   ]
  },
  {
   "cell_type": "code",
   "execution_count": 1,
   "id": "e1d66e3d",
   "metadata": {},
   "outputs": [
    {
     "name": "stderr",
     "output_type": "stream",
     "text": [
      "/groups/spruston/home/moharb/mambaforge/envs/sbi_env/lib/python3.10/site-packages/tqdm/auto.py:21: TqdmWarning: IProgress not found. Please update jupyter and ipywidgets. See https://ipywidgets.readthedocs.io/en/stable/user_install.html\n",
      "  from .autonotebook import tqdm as notebook_tqdm\n"
     ]
    }
   ],
   "source": [
    "# Section 1: Import Required Libraries\n",
    "import os, sys\n",
    "base_path = os.path.abspath(\"../..\")\n",
    "sys.path.append(base_path)  # Adjust path as needed\n",
    "import numpy as np\n",
    "import torch\n",
    "import pandas as pd\n",
    "import itertools\n",
    "import matplotlib.pyplot as plt\n",
    "from sbi.inference import SNPE\n",
    "from sbi_delta.config import BaseConfig, ExcitationConfig, FilterConfig, PriorConfig\n",
    "from sbi_delta.spectra_manager import SpectraManager\n",
    "from sbi_delta.excitation_manager import ExcitationManager\n",
    "from sbi_delta.filter_bank import FilterBank\n",
    "from sbi_delta.prior_manager import PriorManager\n",
    "from sbi_delta.simulator.emission_simulator import EmissionSimulator\n",
    "from sbi_delta.trainer import Trainer"
   ]
  },
  {
   "cell_type": "code",
   "execution_count": 2,
   "id": "9538ee72",
   "metadata": {},
   "outputs": [
    {
     "name": "stderr",
     "output_type": "stream",
     "text": [
      "INFO:sbi_delta.spectra_manager:Initialized SpectraManager(folder=/groups/spruston/home/moharb/sbi-DELTA/data/spectra_npz, dyes=['JF479', 'JF525', 'JF552', 'JF608', 'JFX650', 'JFX673'], bg_dye=AF_v1)\n",
      "INFO:sbi_delta.spectra_manager:Starting load() of spectra\n",
      "INFO:sbi_delta.spectra_manager:Found 22 .npz files in '/groups/spruston/home/moharb/sbi-DELTA/data/spectra_npz'\n",
      "INFO:sbi_delta.spectra_manager:Loading emission spectrum for dye 'JF479' from /groups/spruston/home/moharb/sbi-DELTA/data/spectra_npz/JF479.npz\n",
      "INFO:sbi_delta.spectra_manager:Completed processing for 'JF479'\n",
      "INFO:sbi_delta.spectra_manager:Loading emission spectrum for dye 'JF525' from /groups/spruston/home/moharb/sbi-DELTA/data/spectra_npz/JF525.npz\n",
      "INFO:sbi_delta.spectra_manager:Completed processing for 'JF525'\n",
      "INFO:sbi_delta.spectra_manager:Loading emission spectrum for dye 'JF552' from /groups/spruston/home/moharb/sbi-DELTA/data/spectra_npz/JF552.npz\n",
      "INFO:sbi_delta.spectra_manager:Starting load() of spectra\n",
      "INFO:sbi_delta.spectra_manager:Found 22 .npz files in '/groups/spruston/home/moharb/sbi-DELTA/data/spectra_npz'\n",
      "INFO:sbi_delta.spectra_manager:Loading emission spectrum for dye 'JF479' from /groups/spruston/home/moharb/sbi-DELTA/data/spectra_npz/JF479.npz\n",
      "INFO:sbi_delta.spectra_manager:Completed processing for 'JF479'\n",
      "INFO:sbi_delta.spectra_manager:Loading emission spectrum for dye 'JF525' from /groups/spruston/home/moharb/sbi-DELTA/data/spectra_npz/JF525.npz\n",
      "INFO:sbi_delta.spectra_manager:Completed processing for 'JF525'\n",
      "INFO:sbi_delta.spectra_manager:Loading emission spectrum for dye 'JF552' from /groups/spruston/home/moharb/sbi-DELTA/data/spectra_npz/JF552.npz\n",
      "INFO:sbi_delta.spectra_manager:Completed processing for 'JF552'\n",
      "INFO:sbi_delta.spectra_manager:Loading emission spectrum for dye 'JF608' from /groups/spruston/home/moharb/sbi-DELTA/data/spectra_npz/JF608.npz\n",
      "INFO:sbi_delta.spectra_manager:Completed processing for 'JF608'\n",
      "INFO:sbi_delta.spectra_manager:Loading emission spectrum for dye 'JFX650' from /groups/spruston/home/moharb/sbi-DELTA/data/spectra_npz/JFX650.npz\n",
      "INFO:sbi_delta.spectra_manager:Completed processing for 'JFX650'\n",
      "INFO:sbi_delta.spectra_manager:Loading emission spectrum for dye 'JFX673' from /groups/spruston/home/moharb/sbi-DELTA/data/spectra_npz/JFX673.npz\n",
      "INFO:sbi_delta.spectra_manager:Completed processing for 'JFX673'\n",
      "INFO:sbi_delta.spectra_manager:Loading emission spectrum for dye 'AF_v1' from /groups/spruston/home/moharb/sbi-DELTA/data/spectra_npz/AF_v1.npz\n",
      "INFO:sbi_delta.spectra_manager:Completed processing for 'AF_v1'\n",
      "INFO:sbi_delta.spectra_manager:Loading excitation spectrum for dye 'JF479' from /groups/spruston/home/moharb/sbi-DELTA/data/spectra_npz/JF479.npz\n",
      "INFO:sbi_delta.spectra_manager:Completed processing for 'JF479'\n",
      "INFO:sbi_delta.spectra_manager:Loading excitation spectrum for dye 'JF525' from /groups/spruston/home/moharb/sbi-DELTA/data/spectra_npz/JF525.npz\n",
      "INFO:sbi_delta.spectra_manager:Completed processing for 'JF525'\n",
      "INFO:sbi_delta.spectra_manager:Loading excitation spectrum for dye 'JF552' from /groups/spruston/home/moharb/sbi-DELTA/data/spectra_npz/JF552.npz\n",
      "INFO:sbi_delta.spectra_manager:Completed processing for 'JF552'\n",
      "INFO:sbi_delta.spectra_manager:Loading excitation spectrum for dye 'JF608' from /groups/spruston/home/moharb/sbi-DELTA/data/spectra_npz/JF608.npz\n",
      "INFO:sbi_delta.spectra_manager:Completed processing for 'JF608'\n",
      "INFO:sbi_delta.spectra_manager:Loading excitation spectrum for dye 'JFX650' from /groups/spruston/home/moharb/sbi-DELTA/data/spectra_npz/JFX650.npz\n",
      "INFO:sbi_delta.spectra_manager:Completed processing for 'JF552'\n",
      "INFO:sbi_delta.spectra_manager:Loading emission spectrum for dye 'JF608' from /groups/spruston/home/moharb/sbi-DELTA/data/spectra_npz/JF608.npz\n",
      "INFO:sbi_delta.spectra_manager:Completed processing for 'JF608'\n",
      "INFO:sbi_delta.spectra_manager:Loading emission spectrum for dye 'JFX650' from /groups/spruston/home/moharb/sbi-DELTA/data/spectra_npz/JFX650.npz\n",
      "INFO:sbi_delta.spectra_manager:Completed processing for 'JFX650'\n",
      "INFO:sbi_delta.spectra_manager:Loading emission spectrum for dye 'JFX673' from /groups/spruston/home/moharb/sbi-DELTA/data/spectra_npz/JFX673.npz\n",
      "INFO:sbi_delta.spectra_manager:Completed processing for 'JFX673'\n",
      "INFO:sbi_delta.spectra_manager:Loading emission spectrum for dye 'AF_v1' from /groups/spruston/home/moharb/sbi-DELTA/data/spectra_npz/AF_v1.npz\n",
      "INFO:sbi_delta.spectra_manager:Completed processing for 'AF_v1'\n",
      "INFO:sbi_delta.spectra_manager:Loading excitation spectrum for dye 'JF479' from /groups/spruston/home/moharb/sbi-DELTA/data/spectra_npz/JF479.npz\n",
      "INFO:sbi_delta.spectra_manager:Completed processing for 'JF479'\n",
      "INFO:sbi_delta.spectra_manager:Loading excitation spectrum for dye 'JF525' from /groups/spruston/home/moharb/sbi-DELTA/data/spectra_npz/JF525.npz\n",
      "INFO:sbi_delta.spectra_manager:Completed processing for 'JF525'\n",
      "INFO:sbi_delta.spectra_manager:Loading excitation spectrum for dye 'JF552' from /groups/spruston/home/moharb/sbi-DELTA/data/spectra_npz/JF552.npz\n",
      "INFO:sbi_delta.spectra_manager:Completed processing for 'JF552'\n",
      "INFO:sbi_delta.spectra_manager:Loading excitation spectrum for dye 'JF608' from /groups/spruston/home/moharb/sbi-DELTA/data/spectra_npz/JF608.npz\n",
      "INFO:sbi_delta.spectra_manager:Completed processing for 'JF608'\n",
      "INFO:sbi_delta.spectra_manager:Loading excitation spectrum for dye 'JFX650' from /groups/spruston/home/moharb/sbi-DELTA/data/spectra_npz/JFX650.npz\n",
      "INFO:sbi_delta.spectra_manager:Completed processing for 'JFX650'\n",
      "INFO:sbi_delta.spectra_manager:Loading excitation spectrum for dye 'JFX673' from /groups/spruston/home/moharb/sbi-DELTA/data/spectra_npz/JFX673.npz\n",
      "INFO:sbi_delta.spectra_manager:Completed processing for 'JFX673'\n",
      "INFO:sbi_delta.spectra_manager:Loading excitation spectrum for dye 'AF_v1' from /groups/spruston/home/moharb/sbi-DELTA/data/spectra_npz/AF_v1.npz\n",
      "INFO:sbi_delta.spectra_manager:Completed processing for 'AF_v1'\n",
      "INFO:sbi_delta.spectra_manager:Completed load(): 7 emission dyes, 7 excitation dyes\n",
      "INFO:sbi_delta.spectra_manager:Completed processing for 'JFX650'\n",
      "INFO:sbi_delta.spectra_manager:Loading excitation spectrum for dye 'JFX673' from /groups/spruston/home/moharb/sbi-DELTA/data/spectra_npz/JFX673.npz\n",
      "INFO:sbi_delta.spectra_manager:Completed processing for 'JFX673'\n",
      "INFO:sbi_delta.spectra_manager:Loading excitation spectrum for dye 'AF_v1' from /groups/spruston/home/moharb/sbi-DELTA/data/spectra_npz/AF_v1.npz\n",
      "INFO:sbi_delta.spectra_manager:Completed processing for 'AF_v1'\n",
      "INFO:sbi_delta.spectra_manager:Completed load(): 7 emission dyes, 7 excitation dyes\n",
      "INFO:sbi_delta.filter_bank:FilterBank: grid 400–750 nm @ 1 nm step\n",
      "INFO:sbi_delta.filter_bank:FilterBank: loaded 5 filters\n",
      "INFO:sbi_delta.filter_bank:FilterBank: grid 400–750 nm @ 1 nm step\n",
      "INFO:sbi_delta.filter_bank:FilterBank: loaded 5 filters\n"
     ]
    },
    {
     "name": "stdout",
     "output_type": "stream",
     "text": [
      "Simulator and managers initialized.\n"
     ]
    }
   ],
   "source": [
    "# Section 2: Define Experiment Configuration\n",
    "# Define fluorophores, filters, and prior\n",
    "fluorophore_names = [\"JF479\", \"JF525\", \"JF552\", \"JF608\", \"JFX650\", \"JFX673\"]\n",
    "\n",
    "base_cfg = BaseConfig(\n",
    "    min_wavelength=400,\n",
    "    max_wavelength=750,\n",
    "    wavelength_step=1,\n",
    "    spectra_folder=os.path.join(base_path, \"data/spectra_npz\"),\n",
    "    dye_names=fluorophore_names,\n",
    "    bg_dye='AF_v1',\n",
    "    photon_budget=1000,\n",
    ")\n",
    "exc_cfg = ExcitationConfig(excitation_mode=\"min_crosstalk\")\n",
    "filter_cfgs = [\n",
    "    FilterConfig(start, stop, sharpness=1)\n",
    "    for start, stop in zip([490, 530, 570, 620, 680], [530, 570, 620, 680, 740])\n",
    "]\n",
    "prior_cfg = PriorConfig(\n",
    "    dirichlet_concentration=5.0,\n",
    "    include_background_ratio=True,\n",
    "    background_ratio_bounds=(0.05, 0.15),\n",
    ")\n",
    "\n",
    "spectra_mgr = SpectraManager(base_cfg)\n",
    "spectra_mgr.load()\n",
    "excitation_mgr = ExcitationManager(base_cfg, exc_cfg, spectra_mgr)\n",
    "filter_bank = FilterBank(base_cfg, filter_cfgs)\n",
    "prior_mgr = PriorManager(prior_cfg, base_cfg)\n",
    "simulator = EmissionSimulator(\n",
    "    spectra_manager=spectra_mgr,\n",
    "    filter_bank=filter_bank,\n",
    "    config=base_cfg,\n",
    "    excitation_manager=excitation_mgr,\n",
    "    prior_manager=prior_mgr,\n",
    ")\n",
    "print(\"Simulator and managers initialized.\")"
   ]
  },
  {
   "cell_type": "code",
   "execution_count": 3,
   "id": "9480367a",
   "metadata": {},
   "outputs": [
    {
     "name": "stdout",
     "output_type": "stream",
     "text": [
      "Total hyperparameter combinations: 81\n"
     ]
    }
   ],
   "source": [
    "# Section 3: Define Hyperparameter Grid\n",
    "# Specify the hyperparameters to search over\n",
    "hyperparams_grid = {\n",
    "    'training_batch_size': [64, 128, 256],\n",
    "    'learning_rate': [1e-3, 5e-4, 1e-4],\n",
    "    'validation_fraction': [0.05, 0.1, 0.2],\n",
    "    'stop_after_epochs': [5, 10, 20]\n",
    "}\n",
    "\n",
    "# Create all combinations of hyperparameters\n",
    "grid_keys = list(hyperparams_grid.keys())\n",
    "grid_combos = list(itertools.product(*[hyperparams_grid[k] for k in grid_keys]))\n",
    "print(f\"Total hyperparameter combinations: {len(grid_combos)}\")"
   ]
  },
  {
   "cell_type": "code",
   "execution_count": 4,
   "id": "1bbf2711",
   "metadata": {},
   "outputs": [
    {
     "name": "stderr",
     "output_type": "stream",
     "text": [
      "Hyperparameter Search:   0%|          | 0/81 [00:00<?, ?it/s]"
     ]
    },
    {
     "name": "stdout",
     "output_type": "stream",
     "text": [
      "\n",
      "Running combo 1/81: {'training_batch_size': 64, 'learning_rate': 0.001, 'validation_fraction': 0.05, 'stop_after_epochs': 5}\n",
      " Neural network successfully converged after 22 epochs."
     ]
    },
    {
     "name": "stderr",
     "output_type": "stream",
     "text": [
      "/groups/spruston/home/moharb/mambaforge/envs/sbi_env/lib/python3.10/site-packages/sbi/inference/potentials/posterior_based_potential.py:54: UserWarning: The passed prior has no support property, transform will be constructed from mean and std. If the passed prior is supposed to be bounded consider implementing the prior.support property.\n",
      "  theta_transform = mcmc_transform(\n",
      "/groups/spruston/home/moharb/mambaforge/envs/sbi_env/lib/python3.10/site-packages/sbi/inference/potentials/posterior_based_potential.py:54: UserWarning: The passed prior has no mean or stddev attribute, estimating them from samples to build affimed standardizing transform.\n",
      "  theta_transform = mcmc_transform(\n",
      "Validating: 100%|██████████| 500/500 [00:15<00:00, 32.15it/s]\n",
      "\n",
      "Hyperparameter Search:   1%|          | 1/81 [00:26<34:43, 26.04s/it]"
     ]
    },
    {
     "name": "stdout",
     "output_type": "stream",
     "text": [
      "Validation mean R^2: 0.909, RMSE: 0.0175\n",
      "\n",
      "Running combo 2/81: {'training_batch_size': 64, 'learning_rate': 0.001, 'validation_fraction': 0.05, 'stop_after_epochs': 10}\n",
      " Neural network successfully converged after 31 epochs."
     ]
    },
    {
     "name": "stderr",
     "output_type": "stream",
     "text": [
      "/groups/spruston/home/moharb/mambaforge/envs/sbi_env/lib/python3.10/site-packages/sbi/inference/potentials/posterior_based_potential.py:54: UserWarning: The passed prior has no support property, transform will be constructed from mean and std. If the passed prior is supposed to be bounded consider implementing the prior.support property.\n",
      "  theta_transform = mcmc_transform(\n",
      "/groups/spruston/home/moharb/mambaforge/envs/sbi_env/lib/python3.10/site-packages/sbi/inference/potentials/posterior_based_potential.py:54: UserWarning: The passed prior has no mean or stddev attribute, estimating them from samples to build affimed standardizing transform.\n",
      "  theta_transform = mcmc_transform(\n",
      "Validating: 100%|██████████| 500/500 [00:16<00:00, 31.16it/s]\n",
      "\n",
      "Hyperparameter Search:   2%|▏         | 2/81 [00:51<33:48, 25.67s/it]"
     ]
    },
    {
     "name": "stdout",
     "output_type": "stream",
     "text": [
      "Validation mean R^2: 0.902, RMSE: 0.0178\n",
      "\n",
      "Running combo 3/81: {'training_batch_size': 64, 'learning_rate': 0.001, 'validation_fraction': 0.05, 'stop_after_epochs': 20}\n",
      " Neural network successfully converged after 64 epochs."
     ]
    },
    {
     "name": "stderr",
     "output_type": "stream",
     "text": [
      "/groups/spruston/home/moharb/mambaforge/envs/sbi_env/lib/python3.10/site-packages/sbi/inference/potentials/posterior_based_potential.py:54: UserWarning: The passed prior has no support property, transform will be constructed from mean and std. If the passed prior is supposed to be bounded consider implementing the prior.support property.\n",
      "  theta_transform = mcmc_transform(\n",
      "/groups/spruston/home/moharb/mambaforge/envs/sbi_env/lib/python3.10/site-packages/sbi/inference/potentials/posterior_based_potential.py:54: UserWarning: The passed prior has no mean or stddev attribute, estimating them from samples to build affimed standardizing transform.\n",
      "  theta_transform = mcmc_transform(\n",
      "Validating: 100%|██████████| 500/500 [00:15<00:00, 31.87it/s]\n",
      "\n",
      "Hyperparameter Search:   4%|▎         | 3/81 [01:23<37:10, 28.59s/it]"
     ]
    },
    {
     "name": "stdout",
     "output_type": "stream",
     "text": [
      "Validation mean R^2: 0.908, RMSE: 0.0172\n",
      "\n",
      "Running combo 4/81: {'training_batch_size': 64, 'learning_rate': 0.001, 'validation_fraction': 0.1, 'stop_after_epochs': 5}\n",
      " Neural network successfully converged after 26 epochs."
     ]
    },
    {
     "name": "stderr",
     "output_type": "stream",
     "text": [
      "/groups/spruston/home/moharb/mambaforge/envs/sbi_env/lib/python3.10/site-packages/sbi/inference/potentials/posterior_based_potential.py:54: UserWarning: The passed prior has no support property, transform will be constructed from mean and std. If the passed prior is supposed to be bounded consider implementing the prior.support property.\n",
      "  theta_transform = mcmc_transform(\n",
      "/groups/spruston/home/moharb/mambaforge/envs/sbi_env/lib/python3.10/site-packages/sbi/inference/potentials/posterior_based_potential.py:54: UserWarning: The passed prior has no mean or stddev attribute, estimating them from samples to build affimed standardizing transform.\n",
      "  theta_transform = mcmc_transform(\n",
      "Validating: 100%|██████████| 500/500 [00:13<00:00, 36.40it/s]\n",
      "Hyperparameter Search:   5%|▍         | 4/81 [01:44<32:46, 25.54s/it]\n",
      "Hyperparameter Search:   5%|▍         | 4/81 [01:44<32:46, 25.54s/it]"
     ]
    },
    {
     "name": "stdout",
     "output_type": "stream",
     "text": [
      "Validation mean R^2: 0.911, RMSE: 0.0174\n",
      "\n",
      "Running combo 5/81: {'training_batch_size': 64, 'learning_rate': 0.001, 'validation_fraction': 0.1, 'stop_after_epochs': 10}\n",
      " Neural network successfully converged after 48 epochs."
     ]
    },
    {
     "name": "stderr",
     "output_type": "stream",
     "text": [
      "/groups/spruston/home/moharb/mambaforge/envs/sbi_env/lib/python3.10/site-packages/sbi/inference/potentials/posterior_based_potential.py:54: UserWarning: The passed prior has no support property, transform will be constructed from mean and std. If the passed prior is supposed to be bounded consider implementing the prior.support property.\n",
      "  theta_transform = mcmc_transform(\n",
      "/groups/spruston/home/moharb/mambaforge/envs/sbi_env/lib/python3.10/site-packages/sbi/inference/potentials/posterior_based_potential.py:54: UserWarning: The passed prior has no mean or stddev attribute, estimating them from samples to build affimed standardizing transform.\n",
      "  theta_transform = mcmc_transform(\n",
      "Validating: 100%|██████████| 500/500 [00:14<00:00, 35.17it/s]\n",
      "\n",
      "Hyperparameter Search:   6%|▌         | 5/81 [02:08<31:54, 25.19s/it]"
     ]
    },
    {
     "name": "stdout",
     "output_type": "stream",
     "text": [
      "Validation mean R^2: 0.903, RMSE: 0.0178\n",
      "\n",
      "Running combo 6/81: {'training_batch_size': 64, 'learning_rate': 0.001, 'validation_fraction': 0.1, 'stop_after_epochs': 20}\n",
      " Neural network successfully converged after 73 epochs."
     ]
    },
    {
     "name": "stderr",
     "output_type": "stream",
     "text": [
      "/groups/spruston/home/moharb/mambaforge/envs/sbi_env/lib/python3.10/site-packages/sbi/inference/potentials/posterior_based_potential.py:54: UserWarning: The passed prior has no support property, transform will be constructed from mean and std. If the passed prior is supposed to be bounded consider implementing the prior.support property.\n",
      "  theta_transform = mcmc_transform(\n",
      "/groups/spruston/home/moharb/mambaforge/envs/sbi_env/lib/python3.10/site-packages/sbi/inference/potentials/posterior_based_potential.py:54: UserWarning: The passed prior has no mean or stddev attribute, estimating them from samples to build affimed standardizing transform.\n",
      "  theta_transform = mcmc_transform(\n",
      "Validating: 100%|██████████| 500/500 [00:13<00:00, 37.33it/s]\n",
      "Hyperparameter Search:   7%|▋         | 6/81 [02:36<32:21, 25.89s/it]\n",
      "Hyperparameter Search:   7%|▋         | 6/81 [02:36<32:21, 25.89s/it]"
     ]
    },
    {
     "name": "stdout",
     "output_type": "stream",
     "text": [
      "Validation mean R^2: 0.910, RMSE: 0.0177\n",
      "\n",
      "Running combo 7/81: {'training_batch_size': 64, 'learning_rate': 0.001, 'validation_fraction': 0.2, 'stop_after_epochs': 5}\n",
      " Neural network successfully converged after 35 epochs."
     ]
    },
    {
     "name": "stderr",
     "output_type": "stream",
     "text": [
      "/groups/spruston/home/moharb/mambaforge/envs/sbi_env/lib/python3.10/site-packages/sbi/inference/potentials/posterior_based_potential.py:54: UserWarning: The passed prior has no support property, transform will be constructed from mean and std. If the passed prior is supposed to be bounded consider implementing the prior.support property.\n",
      "  theta_transform = mcmc_transform(\n",
      "/groups/spruston/home/moharb/mambaforge/envs/sbi_env/lib/python3.10/site-packages/sbi/inference/potentials/posterior_based_potential.py:54: UserWarning: The passed prior has no mean or stddev attribute, estimating them from samples to build affimed standardizing transform.\n",
      "  theta_transform = mcmc_transform(\n",
      "Validating: 100%|██████████| 500/500 [00:13<00:00, 37.68it/s]\n",
      "Hyperparameter Search:   9%|▊         | 7/81 [02:56<29:48, 24.16s/it]\n",
      "Hyperparameter Search:   9%|▊         | 7/81 [02:56<29:48, 24.16s/it]"
     ]
    },
    {
     "name": "stdout",
     "output_type": "stream",
     "text": [
      "Validation mean R^2: 0.908, RMSE: 0.0176\n",
      "\n",
      "Running combo 8/81: {'training_batch_size': 64, 'learning_rate': 0.001, 'validation_fraction': 0.2, 'stop_after_epochs': 10}\n",
      " Neural network successfully converged after 50 epochs."
     ]
    },
    {
     "name": "stderr",
     "output_type": "stream",
     "text": [
      "/groups/spruston/home/moharb/mambaforge/envs/sbi_env/lib/python3.10/site-packages/sbi/inference/potentials/posterior_based_potential.py:54: UserWarning: The passed prior has no support property, transform will be constructed from mean and std. If the passed prior is supposed to be bounded consider implementing the prior.support property.\n",
      "  theta_transform = mcmc_transform(\n",
      "/groups/spruston/home/moharb/mambaforge/envs/sbi_env/lib/python3.10/site-packages/sbi/inference/potentials/posterior_based_potential.py:54: UserWarning: The passed prior has no mean or stddev attribute, estimating them from samples to build affimed standardizing transform.\n",
      "  theta_transform = mcmc_transform(\n",
      "Validating: 100%|██████████| 500/500 [00:12<00:00, 39.13it/s]\n",
      "Hyperparameter Search:  10%|▉         | 8/81 [03:19<28:41, 23.58s/it]\n",
      "Hyperparameter Search:  10%|▉         | 8/81 [03:19<28:41, 23.58s/it]"
     ]
    },
    {
     "name": "stdout",
     "output_type": "stream",
     "text": [
      "Validation mean R^2: 0.911, RMSE: 0.0176\n",
      "\n",
      "Running combo 9/81: {'training_batch_size': 64, 'learning_rate': 0.001, 'validation_fraction': 0.2, 'stop_after_epochs': 20}\n",
      " Neural network successfully converged after 86 epochs."
     ]
    },
    {
     "name": "stderr",
     "output_type": "stream",
     "text": [
      "/groups/spruston/home/moharb/mambaforge/envs/sbi_env/lib/python3.10/site-packages/sbi/inference/potentials/posterior_based_potential.py:54: UserWarning: The passed prior has no support property, transform will be constructed from mean and std. If the passed prior is supposed to be bounded consider implementing the prior.support property.\n",
      "  theta_transform = mcmc_transform(\n",
      "/groups/spruston/home/moharb/mambaforge/envs/sbi_env/lib/python3.10/site-packages/sbi/inference/potentials/posterior_based_potential.py:54: UserWarning: The passed prior has no mean or stddev attribute, estimating them from samples to build affimed standardizing transform.\n",
      "  theta_transform = mcmc_transform(\n",
      "Validating: 100%|██████████| 500/500 [00:13<00:00, 37.13it/s]\n",
      "Hyperparameter Search:  11%|█         | 9/81 [03:47<30:08, 25.12s/it]\n",
      "Hyperparameter Search:  11%|█         | 9/81 [03:47<30:08, 25.12s/it]"
     ]
    },
    {
     "name": "stdout",
     "output_type": "stream",
     "text": [
      "Validation mean R^2: 0.901, RMSE: 0.0176\n",
      "\n",
      "Running combo 10/81: {'training_batch_size': 64, 'learning_rate': 0.0005, 'validation_fraction': 0.05, 'stop_after_epochs': 5}\n",
      " Neural network successfully converged after 37 epochs."
     ]
    },
    {
     "name": "stderr",
     "output_type": "stream",
     "text": [
      "/groups/spruston/home/moharb/mambaforge/envs/sbi_env/lib/python3.10/site-packages/sbi/inference/potentials/posterior_based_potential.py:54: UserWarning: The passed prior has no support property, transform will be constructed from mean and std. If the passed prior is supposed to be bounded consider implementing the prior.support property.\n",
      "  theta_transform = mcmc_transform(\n",
      "/groups/spruston/home/moharb/mambaforge/envs/sbi_env/lib/python3.10/site-packages/sbi/inference/potentials/posterior_based_potential.py:54: UserWarning: The passed prior has no mean or stddev attribute, estimating them from samples to build affimed standardizing transform.\n",
      "  theta_transform = mcmc_transform(\n",
      "Validating: 100%|██████████| 500/500 [00:13<00:00, 37.58it/s]\n",
      "\n",
      "Hyperparameter Search:  12%|█▏        | 10/81 [04:09<28:26, 24.03s/it]"
     ]
    },
    {
     "name": "stdout",
     "output_type": "stream",
     "text": [
      "Validation mean R^2: 0.906, RMSE: 0.0177\n",
      "\n",
      "Running combo 11/81: {'training_batch_size': 64, 'learning_rate': 0.0005, 'validation_fraction': 0.05, 'stop_after_epochs': 10}\n",
      " Neural network successfully converged after 42 epochs."
     ]
    },
    {
     "name": "stderr",
     "output_type": "stream",
     "text": [
      "/groups/spruston/home/moharb/mambaforge/envs/sbi_env/lib/python3.10/site-packages/sbi/inference/potentials/posterior_based_potential.py:54: UserWarning: The passed prior has no support property, transform will be constructed from mean and std. If the passed prior is supposed to be bounded consider implementing the prior.support property.\n",
      "  theta_transform = mcmc_transform(\n",
      "/groups/spruston/home/moharb/mambaforge/envs/sbi_env/lib/python3.10/site-packages/sbi/inference/potentials/posterior_based_potential.py:54: UserWarning: The passed prior has no mean or stddev attribute, estimating them from samples to build affimed standardizing transform.\n",
      "  theta_transform = mcmc_transform(\n",
      "Validating: 100%|██████████| 500/500 [00:13<00:00, 37.16it/s]\n",
      "Hyperparameter Search:  14%|█▎        | 11/81 [04:31<27:28, 23.55s/it]\n",
      "Hyperparameter Search:  14%|█▎        | 11/81 [04:31<27:28, 23.55s/it]"
     ]
    },
    {
     "name": "stdout",
     "output_type": "stream",
     "text": [
      "Validation mean R^2: 0.911, RMSE: 0.0174\n",
      "\n",
      "Running combo 12/81: {'training_batch_size': 64, 'learning_rate': 0.0005, 'validation_fraction': 0.05, 'stop_after_epochs': 20}\n",
      " Neural network successfully converged after 51 epochs."
     ]
    },
    {
     "name": "stderr",
     "output_type": "stream",
     "text": [
      "/groups/spruston/home/moharb/mambaforge/envs/sbi_env/lib/python3.10/site-packages/sbi/inference/potentials/posterior_based_potential.py:54: UserWarning: The passed prior has no support property, transform will be constructed from mean and std. If the passed prior is supposed to be bounded consider implementing the prior.support property.\n",
      "  theta_transform = mcmc_transform(\n",
      "/groups/spruston/home/moharb/mambaforge/envs/sbi_env/lib/python3.10/site-packages/sbi/inference/potentials/posterior_based_potential.py:54: UserWarning: The passed prior has no mean or stddev attribute, estimating them from samples to build affimed standardizing transform.\n",
      "  theta_transform = mcmc_transform(\n",
      "Validating: 100%|██████████| 500/500 [00:13<00:00, 37.24it/s]\n",
      "\n",
      "Hyperparameter Search:  15%|█▍        | 12/81 [04:55<27:09, 23.62s/it]"
     ]
    },
    {
     "name": "stdout",
     "output_type": "stream",
     "text": [
      "Validation mean R^2: 0.901, RMSE: 0.0182\n",
      "\n",
      "Running combo 13/81: {'training_batch_size': 64, 'learning_rate': 0.0005, 'validation_fraction': 0.1, 'stop_after_epochs': 5}\n",
      " Neural network successfully converged after 41 epochs."
     ]
    },
    {
     "name": "stderr",
     "output_type": "stream",
     "text": [
      "/groups/spruston/home/moharb/mambaforge/envs/sbi_env/lib/python3.10/site-packages/sbi/inference/potentials/posterior_based_potential.py:54: UserWarning: The passed prior has no support property, transform will be constructed from mean and std. If the passed prior is supposed to be bounded consider implementing the prior.support property.\n",
      "  theta_transform = mcmc_transform(\n",
      "/groups/spruston/home/moharb/mambaforge/envs/sbi_env/lib/python3.10/site-packages/sbi/inference/potentials/posterior_based_potential.py:54: UserWarning: The passed prior has no mean or stddev attribute, estimating them from samples to build affimed standardizing transform.\n",
      "  theta_transform = mcmc_transform(\n",
      "Validating: 100%|██████████| 500/500 [00:13<00:00, 38.03it/s]\n",
      "Hyperparameter Search:  16%|█▌        | 13/81 [05:17<26:10, 23.09s/it]\n",
      "Hyperparameter Search:  16%|█▌        | 13/81 [05:17<26:10, 23.09s/it]"
     ]
    },
    {
     "name": "stdout",
     "output_type": "stream",
     "text": [
      "Validation mean R^2: 0.905, RMSE: 0.0174\n",
      "\n",
      "Running combo 14/81: {'training_batch_size': 64, 'learning_rate': 0.0005, 'validation_fraction': 0.1, 'stop_after_epochs': 10}\n",
      " Neural network successfully converged after 67 epochs."
     ]
    },
    {
     "name": "stderr",
     "output_type": "stream",
     "text": [
      "/groups/spruston/home/moharb/mambaforge/envs/sbi_env/lib/python3.10/site-packages/sbi/inference/potentials/posterior_based_potential.py:54: UserWarning: The passed prior has no support property, transform will be constructed from mean and std. If the passed prior is supposed to be bounded consider implementing the prior.support property.\n",
      "  theta_transform = mcmc_transform(\n",
      "/groups/spruston/home/moharb/mambaforge/envs/sbi_env/lib/python3.10/site-packages/sbi/inference/potentials/posterior_based_potential.py:54: UserWarning: The passed prior has no mean or stddev attribute, estimating them from samples to build affimed standardizing transform.\n",
      "  theta_transform = mcmc_transform(\n",
      "Validating: 100%|██████████| 500/500 [00:13<00:00, 36.97it/s]\n",
      "Hyperparameter Search:  17%|█▋        | 14/81 [05:43<26:54, 24.10s/it]\n",
      "Hyperparameter Search:  17%|█▋        | 14/81 [05:43<26:54, 24.10s/it]"
     ]
    },
    {
     "name": "stdout",
     "output_type": "stream",
     "text": [
      "Validation mean R^2: 0.914, RMSE: 0.0171\n",
      "\n",
      "Running combo 15/81: {'training_batch_size': 64, 'learning_rate': 0.0005, 'validation_fraction': 0.1, 'stop_after_epochs': 20}\n",
      " Neural network successfully converged after 72 epochs."
     ]
    },
    {
     "name": "stderr",
     "output_type": "stream",
     "text": [
      "/groups/spruston/home/moharb/mambaforge/envs/sbi_env/lib/python3.10/site-packages/sbi/inference/potentials/posterior_based_potential.py:54: UserWarning: The passed prior has no support property, transform will be constructed from mean and std. If the passed prior is supposed to be bounded consider implementing the prior.support property.\n",
      "  theta_transform = mcmc_transform(\n",
      "/groups/spruston/home/moharb/mambaforge/envs/sbi_env/lib/python3.10/site-packages/sbi/inference/potentials/posterior_based_potential.py:54: UserWarning: The passed prior has no mean or stddev attribute, estimating them from samples to build affimed standardizing transform.\n",
      "  theta_transform = mcmc_transform(\n",
      "Validating: 100%|██████████| 500/500 [00:13<00:00, 36.99it/s]\n",
      "\n",
      "Hyperparameter Search:  19%|█▊        | 15/81 [06:11<27:36, 25.10s/it]"
     ]
    },
    {
     "name": "stdout",
     "output_type": "stream",
     "text": [
      "Validation mean R^2: 0.911, RMSE: 0.0173\n",
      "\n",
      "Running combo 16/81: {'training_batch_size': 64, 'learning_rate': 0.0005, 'validation_fraction': 0.2, 'stop_after_epochs': 5}\n",
      " Neural network successfully converged after 51 epochs."
     ]
    },
    {
     "name": "stderr",
     "output_type": "stream",
     "text": [
      "/groups/spruston/home/moharb/mambaforge/envs/sbi_env/lib/python3.10/site-packages/sbi/inference/potentials/posterior_based_potential.py:54: UserWarning: The passed prior has no support property, transform will be constructed from mean and std. If the passed prior is supposed to be bounded consider implementing the prior.support property.\n",
      "  theta_transform = mcmc_transform(\n",
      "/groups/spruston/home/moharb/mambaforge/envs/sbi_env/lib/python3.10/site-packages/sbi/inference/potentials/posterior_based_potential.py:54: UserWarning: The passed prior has no mean or stddev attribute, estimating them from samples to build affimed standardizing transform.\n",
      "  theta_transform = mcmc_transform(\n",
      "Validating: 100%|██████████| 500/500 [00:13<00:00, 36.52it/s]\n",
      "Hyperparameter Search:  20%|█▉        | 16/81 [06:34<26:38, 24.60s/it]\n",
      "Hyperparameter Search:  20%|█▉        | 16/81 [06:34<26:38, 24.60s/it]"
     ]
    },
    {
     "name": "stdout",
     "output_type": "stream",
     "text": [
      "Validation mean R^2: 0.872, RMSE: 0.0210\n",
      "\n",
      "Running combo 17/81: {'training_batch_size': 64, 'learning_rate': 0.0005, 'validation_fraction': 0.2, 'stop_after_epochs': 10}\n",
      " Neural network successfully converged after 73 epochs."
     ]
    },
    {
     "name": "stderr",
     "output_type": "stream",
     "text": [
      "/groups/spruston/home/moharb/mambaforge/envs/sbi_env/lib/python3.10/site-packages/sbi/inference/potentials/posterior_based_potential.py:54: UserWarning: The passed prior has no support property, transform will be constructed from mean and std. If the passed prior is supposed to be bounded consider implementing the prior.support property.\n",
      "  theta_transform = mcmc_transform(\n",
      "/groups/spruston/home/moharb/mambaforge/envs/sbi_env/lib/python3.10/site-packages/sbi/inference/potentials/posterior_based_potential.py:54: UserWarning: The passed prior has no mean or stddev attribute, estimating them from samples to build affimed standardizing transform.\n",
      "  theta_transform = mcmc_transform(\n",
      "Validating: 100%|██████████| 500/500 [00:13<00:00, 37.52it/s]\n",
      "\n",
      "Hyperparameter Search:  21%|██        | 17/81 [07:00<26:48, 25.13s/it]"
     ]
    },
    {
     "name": "stdout",
     "output_type": "stream",
     "text": [
      "Validation mean R^2: 0.903, RMSE: 0.0177\n",
      "\n",
      "Running combo 18/81: {'training_batch_size': 64, 'learning_rate': 0.0005, 'validation_fraction': 0.2, 'stop_after_epochs': 20}\n",
      " Neural network successfully converged after 72 epochs."
     ]
    },
    {
     "name": "stderr",
     "output_type": "stream",
     "text": [
      "/groups/spruston/home/moharb/mambaforge/envs/sbi_env/lib/python3.10/site-packages/sbi/inference/potentials/posterior_based_potential.py:54: UserWarning: The passed prior has no support property, transform will be constructed from mean and std. If the passed prior is supposed to be bounded consider implementing the prior.support property.\n",
      "  theta_transform = mcmc_transform(\n",
      "/groups/spruston/home/moharb/mambaforge/envs/sbi_env/lib/python3.10/site-packages/sbi/inference/potentials/posterior_based_potential.py:54: UserWarning: The passed prior has no mean or stddev attribute, estimating them from samples to build affimed standardizing transform.\n",
      "  theta_transform = mcmc_transform(\n",
      "Validating: 100%|██████████| 500/500 [00:12<00:00, 38.63it/s]\n",
      "Hyperparameter Search:  22%|██▏       | 18/81 [07:26<26:36, 25.34s/it]\n",
      "Hyperparameter Search:  22%|██▏       | 18/81 [07:26<26:36, 25.34s/it]"
     ]
    },
    {
     "name": "stdout",
     "output_type": "stream",
     "text": [
      "Validation mean R^2: 0.904, RMSE: 0.0178\n",
      "\n",
      "Running combo 19/81: {'training_batch_size': 64, 'learning_rate': 0.0001, 'validation_fraction': 0.05, 'stop_after_epochs': 5}\n",
      " Neural network successfully converged after 76 epochs."
     ]
    },
    {
     "name": "stderr",
     "output_type": "stream",
     "text": [
      "/groups/spruston/home/moharb/mambaforge/envs/sbi_env/lib/python3.10/site-packages/sbi/inference/potentials/posterior_based_potential.py:54: UserWarning: The passed prior has no support property, transform will be constructed from mean and std. If the passed prior is supposed to be bounded consider implementing the prior.support property.\n",
      "  theta_transform = mcmc_transform(\n",
      "/groups/spruston/home/moharb/mambaforge/envs/sbi_env/lib/python3.10/site-packages/sbi/inference/potentials/posterior_based_potential.py:54: UserWarning: The passed prior has no mean or stddev attribute, estimating them from samples to build affimed standardizing transform.\n",
      "  theta_transform = mcmc_transform(\n",
      "Validating: 100%|██████████| 500/500 [00:13<00:00, 36.70it/s]\n",
      "Hyperparameter Search:  23%|██▎       | 19/81 [07:55<27:05, 26.22s/it]\n",
      "Hyperparameter Search:  23%|██▎       | 19/81 [07:55<27:05, 26.22s/it]"
     ]
    },
    {
     "name": "stdout",
     "output_type": "stream",
     "text": [
      "Validation mean R^2: 0.893, RMSE: 0.0197\n",
      "\n",
      "Running combo 20/81: {'training_batch_size': 64, 'learning_rate': 0.0001, 'validation_fraction': 0.05, 'stop_after_epochs': 10}\n",
      " Neural network successfully converged after 106 epochs."
     ]
    },
    {
     "name": "stderr",
     "output_type": "stream",
     "text": [
      "/groups/spruston/home/moharb/mambaforge/envs/sbi_env/lib/python3.10/site-packages/sbi/inference/potentials/posterior_based_potential.py:54: UserWarning: The passed prior has no support property, transform will be constructed from mean and std. If the passed prior is supposed to be bounded consider implementing the prior.support property.\n",
      "  theta_transform = mcmc_transform(\n",
      "/groups/spruston/home/moharb/mambaforge/envs/sbi_env/lib/python3.10/site-packages/sbi/inference/potentials/posterior_based_potential.py:54: UserWarning: The passed prior has no mean or stddev attribute, estimating them from samples to build affimed standardizing transform.\n",
      "  theta_transform = mcmc_transform(\n",
      "Validating: 100%|██████████| 500/500 [00:13<00:00, 36.43it/s]\n",
      "\n",
      "Hyperparameter Search:  25%|██▍       | 20/81 [08:28<28:47, 28.32s/it]"
     ]
    },
    {
     "name": "stdout",
     "output_type": "stream",
     "text": [
      "Validation mean R^2: 0.899, RMSE: 0.0176\n",
      "\n",
      "Running combo 21/81: {'training_batch_size': 64, 'learning_rate': 0.0001, 'validation_fraction': 0.05, 'stop_after_epochs': 20}\n",
      " Neural network successfully converged after 179 epochs."
     ]
    },
    {
     "name": "stderr",
     "output_type": "stream",
     "text": [
      "/groups/spruston/home/moharb/mambaforge/envs/sbi_env/lib/python3.10/site-packages/sbi/inference/potentials/posterior_based_potential.py:54: UserWarning: The passed prior has no support property, transform will be constructed from mean and std. If the passed prior is supposed to be bounded consider implementing the prior.support property.\n",
      "  theta_transform = mcmc_transform(\n",
      "/groups/spruston/home/moharb/mambaforge/envs/sbi_env/lib/python3.10/site-packages/sbi/inference/potentials/posterior_based_potential.py:54: UserWarning: The passed prior has no mean or stddev attribute, estimating them from samples to build affimed standardizing transform.\n",
      "  theta_transform = mcmc_transform(\n",
      "Validating: 100%|██████████| 500/500 [00:13<00:00, 36.79it/s]\n",
      "\n",
      "Hyperparameter Search:  26%|██▌       | 21/81 [09:13<33:25, 33.42s/it]"
     ]
    },
    {
     "name": "stdout",
     "output_type": "stream",
     "text": [
      "Validation mean R^2: 0.902, RMSE: 0.0176\n",
      "\n",
      "Running combo 22/81: {'training_batch_size': 64, 'learning_rate': 0.0001, 'validation_fraction': 0.1, 'stop_after_epochs': 5}\n",
      " Neural network successfully converged after 98 epochs."
     ]
    },
    {
     "name": "stderr",
     "output_type": "stream",
     "text": [
      "/groups/spruston/home/moharb/mambaforge/envs/sbi_env/lib/python3.10/site-packages/sbi/inference/potentials/posterior_based_potential.py:54: UserWarning: The passed prior has no support property, transform will be constructed from mean and std. If the passed prior is supposed to be bounded consider implementing the prior.support property.\n",
      "  theta_transform = mcmc_transform(\n",
      "/groups/spruston/home/moharb/mambaforge/envs/sbi_env/lib/python3.10/site-packages/sbi/inference/potentials/posterior_based_potential.py:54: UserWarning: The passed prior has no mean or stddev attribute, estimating them from samples to build affimed standardizing transform.\n",
      "  theta_transform = mcmc_transform(\n",
      "Validating: 100%|██████████| 500/500 [00:12<00:00, 39.03it/s]\n",
      "\n",
      "Hyperparameter Search:  27%|██▋       | 22/81 [09:44<32:04, 32.61s/it]"
     ]
    },
    {
     "name": "stdout",
     "output_type": "stream",
     "text": [
      "Validation mean R^2: 0.795, RMSE: 0.0285\n",
      "\n",
      "Running combo 23/81: {'training_batch_size': 64, 'learning_rate': 0.0001, 'validation_fraction': 0.1, 'stop_after_epochs': 10}\n",
      " Neural network successfully converged after 129 epochs."
     ]
    },
    {
     "name": "stderr",
     "output_type": "stream",
     "text": [
      "/groups/spruston/home/moharb/mambaforge/envs/sbi_env/lib/python3.10/site-packages/sbi/inference/potentials/posterior_based_potential.py:54: UserWarning: The passed prior has no support property, transform will be constructed from mean and std. If the passed prior is supposed to be bounded consider implementing the prior.support property.\n",
      "  theta_transform = mcmc_transform(\n",
      "/groups/spruston/home/moharb/mambaforge/envs/sbi_env/lib/python3.10/site-packages/sbi/inference/potentials/posterior_based_potential.py:54: UserWarning: The passed prior has no mean or stddev attribute, estimating them from samples to build affimed standardizing transform.\n",
      "  theta_transform = mcmc_transform(\n",
      "Validating: 100%|██████████| 500/500 [00:13<00:00, 37.64it/s]\n",
      "Validating: 100%|██████████| 500/500 [00:13<00:00, 37.64it/s]\n",
      "Hyperparameter Search:  28%|██▊       | 23/81 [10:20<32:37, 33.75s/it]"
     ]
    },
    {
     "name": "stdout",
     "output_type": "stream",
     "text": [
      "Validation mean R^2: 0.901, RMSE: 0.0180\n",
      "\n",
      "Running combo 24/81: {'training_batch_size': 64, 'learning_rate': 0.0001, 'validation_fraction': 0.1, 'stop_after_epochs': 20}\n",
      " Neural network successfully converged after 179 epochs."
     ]
    },
    {
     "name": "stderr",
     "output_type": "stream",
     "text": [
      "/groups/spruston/home/moharb/mambaforge/envs/sbi_env/lib/python3.10/site-packages/sbi/inference/potentials/posterior_based_potential.py:54: UserWarning: The passed prior has no support property, transform will be constructed from mean and std. If the passed prior is supposed to be bounded consider implementing the prior.support property.\n",
      "  theta_transform = mcmc_transform(\n",
      "/groups/spruston/home/moharb/mambaforge/envs/sbi_env/lib/python3.10/site-packages/sbi/inference/potentials/posterior_based_potential.py:54: UserWarning: The passed prior has no mean or stddev attribute, estimating them from samples to build affimed standardizing transform.\n",
      "  theta_transform = mcmc_transform(\n",
      "Validating: 100%|██████████| 500/500 [00:13<00:00, 36.92it/s]\n",
      "\n",
      "Hyperparameter Search:  30%|██▉       | 24/81 [11:05<35:15, 37.12s/it]"
     ]
    },
    {
     "name": "stdout",
     "output_type": "stream",
     "text": [
      "Validation mean R^2: 0.904, RMSE: 0.0176\n",
      "\n",
      "Running combo 25/81: {'training_batch_size': 64, 'learning_rate': 0.0001, 'validation_fraction': 0.2, 'stop_after_epochs': 5}\n",
      " Neural network successfully converged after 139 epochs."
     ]
    },
    {
     "name": "stderr",
     "output_type": "stream",
     "text": [
      "/groups/spruston/home/moharb/mambaforge/envs/sbi_env/lib/python3.10/site-packages/sbi/inference/potentials/posterior_based_potential.py:54: UserWarning: The passed prior has no support property, transform will be constructed from mean and std. If the passed prior is supposed to be bounded consider implementing the prior.support property.\n",
      "  theta_transform = mcmc_transform(\n",
      "/groups/spruston/home/moharb/mambaforge/envs/sbi_env/lib/python3.10/site-packages/sbi/inference/potentials/posterior_based_potential.py:54: UserWarning: The passed prior has no mean or stddev attribute, estimating them from samples to build affimed standardizing transform.\n",
      "  theta_transform = mcmc_transform(\n",
      "Validating: 100%|██████████| 500/500 [00:13<00:00, 37.69it/s]\n",
      "Hyperparameter Search:  31%|███       | 25/81 [11:42<34:26, 36.90s/it]\n",
      "Hyperparameter Search:  31%|███       | 25/81 [11:42<34:26, 36.90s/it]"
     ]
    },
    {
     "name": "stdout",
     "output_type": "stream",
     "text": [
      "Validation mean R^2: 0.906, RMSE: 0.0180\n",
      "\n",
      "Running combo 26/81: {'training_batch_size': 64, 'learning_rate': 0.0001, 'validation_fraction': 0.2, 'stop_after_epochs': 10}\n",
      " Neural network successfully converged after 178 epochs."
     ]
    },
    {
     "name": "stderr",
     "output_type": "stream",
     "text": [
      "/groups/spruston/home/moharb/mambaforge/envs/sbi_env/lib/python3.10/site-packages/sbi/inference/potentials/posterior_based_potential.py:54: UserWarning: The passed prior has no support property, transform will be constructed from mean and std. If the passed prior is supposed to be bounded consider implementing the prior.support property.\n",
      "  theta_transform = mcmc_transform(\n",
      "/groups/spruston/home/moharb/mambaforge/envs/sbi_env/lib/python3.10/site-packages/sbi/inference/potentials/posterior_based_potential.py:54: UserWarning: The passed prior has no mean or stddev attribute, estimating them from samples to build affimed standardizing transform.\n",
      "  theta_transform = mcmc_transform(\n",
      "Validating: 100%|██████████| 500/500 [00:13<00:00, 37.37it/s]\n",
      "\n",
      "Hyperparameter Search:  32%|███▏      | 26/81 [12:24<35:21, 38.57s/it]"
     ]
    },
    {
     "name": "stdout",
     "output_type": "stream",
     "text": [
      "Validation mean R^2: 0.894, RMSE: 0.0190\n",
      "\n",
      "Running combo 27/81: {'training_batch_size': 64, 'learning_rate': 0.0001, 'validation_fraction': 0.2, 'stop_after_epochs': 20}\n",
      " Neural network successfully converged after 239 epochs."
     ]
    },
    {
     "name": "stderr",
     "output_type": "stream",
     "text": [
      "/groups/spruston/home/moharb/mambaforge/envs/sbi_env/lib/python3.10/site-packages/sbi/inference/potentials/posterior_based_potential.py:54: UserWarning: The passed prior has no support property, transform will be constructed from mean and std. If the passed prior is supposed to be bounded consider implementing the prior.support property.\n",
      "  theta_transform = mcmc_transform(\n",
      "/groups/spruston/home/moharb/mambaforge/envs/sbi_env/lib/python3.10/site-packages/sbi/inference/potentials/posterior_based_potential.py:54: UserWarning: The passed prior has no mean or stddev attribute, estimating them from samples to build affimed standardizing transform.\n",
      "  theta_transform = mcmc_transform(\n",
      "Validating: 100%|██████████| 500/500 [00:13<00:00, 36.65it/s]\n",
      "\n",
      "Hyperparameter Search:  33%|███▎      | 27/81 [13:16<38:18, 42.57s/it]"
     ]
    },
    {
     "name": "stdout",
     "output_type": "stream",
     "text": [
      "Validation mean R^2: 0.909, RMSE: 0.0178\n",
      "\n",
      "Running combo 28/81: {'training_batch_size': 128, 'learning_rate': 0.001, 'validation_fraction': 0.05, 'stop_after_epochs': 5}\n",
      " Neural network successfully converged after 35 epochs."
     ]
    },
    {
     "name": "stderr",
     "output_type": "stream",
     "text": [
      "/groups/spruston/home/moharb/mambaforge/envs/sbi_env/lib/python3.10/site-packages/sbi/inference/potentials/posterior_based_potential.py:54: UserWarning: The passed prior has no support property, transform will be constructed from mean and std. If the passed prior is supposed to be bounded consider implementing the prior.support property.\n",
      "  theta_transform = mcmc_transform(\n",
      "/groups/spruston/home/moharb/mambaforge/envs/sbi_env/lib/python3.10/site-packages/sbi/inference/potentials/posterior_based_potential.py:54: UserWarning: The passed prior has no mean or stddev attribute, estimating them from samples to build affimed standardizing transform.\n",
      "  theta_transform = mcmc_transform(\n",
      "Validating: 100%|██████████| 500/500 [00:13<00:00, 36.82it/s]\n",
      "Hyperparameter Search:  35%|███▍      | 28/81 [13:35<31:20, 35.49s/it]\n",
      "Hyperparameter Search:  35%|███▍      | 28/81 [13:35<31:20, 35.49s/it]"
     ]
    },
    {
     "name": "stdout",
     "output_type": "stream",
     "text": [
      "Validation mean R^2: 0.914, RMSE: 0.0172\n",
      "\n",
      "Running combo 29/81: {'training_batch_size': 128, 'learning_rate': 0.001, 'validation_fraction': 0.05, 'stop_after_epochs': 10}\n",
      " Neural network successfully converged after 50 epochs."
     ]
    },
    {
     "name": "stderr",
     "output_type": "stream",
     "text": [
      "/groups/spruston/home/moharb/mambaforge/envs/sbi_env/lib/python3.10/site-packages/sbi/inference/potentials/posterior_based_potential.py:54: UserWarning: The passed prior has no support property, transform will be constructed from mean and std. If the passed prior is supposed to be bounded consider implementing the prior.support property.\n",
      "  theta_transform = mcmc_transform(\n",
      "/groups/spruston/home/moharb/mambaforge/envs/sbi_env/lib/python3.10/site-packages/sbi/inference/potentials/posterior_based_potential.py:54: UserWarning: The passed prior has no mean or stddev attribute, estimating them from samples to build affimed standardizing transform.\n",
      "  theta_transform = mcmc_transform(\n",
      "Validating: 100%|██████████| 500/500 [00:13<00:00, 37.19it/s]\n",
      "Hyperparameter Search:  36%|███▌      | 29/81 [13:55<26:50, 30.96s/it]\n",
      "Hyperparameter Search:  36%|███▌      | 29/81 [13:55<26:50, 30.96s/it]"
     ]
    },
    {
     "name": "stdout",
     "output_type": "stream",
     "text": [
      "Validation mean R^2: 0.911, RMSE: 0.0176\n",
      "\n",
      "Running combo 30/81: {'training_batch_size': 128, 'learning_rate': 0.001, 'validation_fraction': 0.05, 'stop_after_epochs': 20}\n",
      " Neural network successfully converged after 91 epochs."
     ]
    },
    {
     "name": "stderr",
     "output_type": "stream",
     "text": [
      "/groups/spruston/home/moharb/mambaforge/envs/sbi_env/lib/python3.10/site-packages/sbi/inference/potentials/posterior_based_potential.py:54: UserWarning: The passed prior has no support property, transform will be constructed from mean and std. If the passed prior is supposed to be bounded consider implementing the prior.support property.\n",
      "  theta_transform = mcmc_transform(\n",
      "/groups/spruston/home/moharb/mambaforge/envs/sbi_env/lib/python3.10/site-packages/sbi/inference/potentials/posterior_based_potential.py:54: UserWarning: The passed prior has no mean or stddev attribute, estimating them from samples to build affimed standardizing transform.\n",
      "  theta_transform = mcmc_transform(\n",
      "Validating: 100%|██████████| 500/500 [00:13<00:00, 37.38it/s]\n",
      "\n",
      "Hyperparameter Search:  37%|███▋      | 30/81 [14:20<24:35, 28.94s/it]"
     ]
    },
    {
     "name": "stdout",
     "output_type": "stream",
     "text": [
      "Validation mean R^2: 0.908, RMSE: 0.0171\n",
      "\n",
      "Running combo 31/81: {'training_batch_size': 128, 'learning_rate': 0.001, 'validation_fraction': 0.1, 'stop_after_epochs': 5}\n",
      " Neural network successfully converged after 44 epochs."
     ]
    },
    {
     "name": "stderr",
     "output_type": "stream",
     "text": [
      "/groups/spruston/home/moharb/mambaforge/envs/sbi_env/lib/python3.10/site-packages/sbi/inference/potentials/posterior_based_potential.py:54: UserWarning: The passed prior has no support property, transform will be constructed from mean and std. If the passed prior is supposed to be bounded consider implementing the prior.support property.\n",
      "  theta_transform = mcmc_transform(\n",
      "/groups/spruston/home/moharb/mambaforge/envs/sbi_env/lib/python3.10/site-packages/sbi/inference/potentials/posterior_based_potential.py:54: UserWarning: The passed prior has no mean or stddev attribute, estimating them from samples to build affimed standardizing transform.\n",
      "  theta_transform = mcmc_transform(\n",
      "Validating: 100%|██████████| 500/500 [00:13<00:00, 36.86it/s]\n",
      "\n",
      "Hyperparameter Search:  38%|███▊      | 31/81 [14:40<21:52, 26.24s/it]"
     ]
    },
    {
     "name": "stdout",
     "output_type": "stream",
     "text": [
      "Validation mean R^2: 0.908, RMSE: 0.0174\n",
      "\n",
      "Running combo 32/81: {'training_batch_size': 128, 'learning_rate': 0.001, 'validation_fraction': 0.1, 'stop_after_epochs': 10}\n",
      " Neural network successfully converged after 50 epochs."
     ]
    },
    {
     "name": "stderr",
     "output_type": "stream",
     "text": [
      "/groups/spruston/home/moharb/mambaforge/envs/sbi_env/lib/python3.10/site-packages/sbi/inference/potentials/posterior_based_potential.py:54: UserWarning: The passed prior has no support property, transform will be constructed from mean and std. If the passed prior is supposed to be bounded consider implementing the prior.support property.\n",
      "  theta_transform = mcmc_transform(\n",
      "/groups/spruston/home/moharb/mambaforge/envs/sbi_env/lib/python3.10/site-packages/sbi/inference/potentials/posterior_based_potential.py:54: UserWarning: The passed prior has no mean or stddev attribute, estimating them from samples to build affimed standardizing transform.\n",
      "  theta_transform = mcmc_transform(\n",
      "Validating: 100%|██████████| 500/500 [00:13<00:00, 37.65it/s]\n",
      "\n",
      "Hyperparameter Search:  40%|███▉      | 32/81 [15:00<19:57, 24.45s/it]"
     ]
    },
    {
     "name": "stdout",
     "output_type": "stream",
     "text": [
      "Validation mean R^2: 0.907, RMSE: 0.0176\n",
      "\n",
      "Running combo 33/81: {'training_batch_size': 128, 'learning_rate': 0.001, 'validation_fraction': 0.1, 'stop_after_epochs': 20}\n",
      " Neural network successfully converged after 62 epochs."
     ]
    },
    {
     "name": "stderr",
     "output_type": "stream",
     "text": [
      "/groups/spruston/home/moharb/mambaforge/envs/sbi_env/lib/python3.10/site-packages/sbi/inference/potentials/posterior_based_potential.py:54: UserWarning: The passed prior has no support property, transform will be constructed from mean and std. If the passed prior is supposed to be bounded consider implementing the prior.support property.\n",
      "  theta_transform = mcmc_transform(\n",
      "/groups/spruston/home/moharb/mambaforge/envs/sbi_env/lib/python3.10/site-packages/sbi/inference/potentials/posterior_based_potential.py:54: UserWarning: The passed prior has no mean or stddev attribute, estimating them from samples to build affimed standardizing transform.\n",
      "  theta_transform = mcmc_transform(\n",
      "Validating: 100%|██████████| 500/500 [00:13<00:00, 37.10it/s]\n",
      "\n",
      "Hyperparameter Search:  41%|████      | 33/81 [15:21<18:52, 23.59s/it]"
     ]
    },
    {
     "name": "stdout",
     "output_type": "stream",
     "text": [
      "Validation mean R^2: 0.907, RMSE: 0.0173\n",
      "\n",
      "Running combo 34/81: {'training_batch_size': 128, 'learning_rate': 0.001, 'validation_fraction': 0.2, 'stop_after_epochs': 5}\n",
      " Neural network successfully converged after 41 epochs."
     ]
    },
    {
     "name": "stderr",
     "output_type": "stream",
     "text": [
      "/groups/spruston/home/moharb/mambaforge/envs/sbi_env/lib/python3.10/site-packages/sbi/inference/potentials/posterior_based_potential.py:54: UserWarning: The passed prior has no support property, transform will be constructed from mean and std. If the passed prior is supposed to be bounded consider implementing the prior.support property.\n",
      "  theta_transform = mcmc_transform(\n",
      "/groups/spruston/home/moharb/mambaforge/envs/sbi_env/lib/python3.10/site-packages/sbi/inference/potentials/posterior_based_potential.py:54: UserWarning: The passed prior has no mean or stddev attribute, estimating them from samples to build affimed standardizing transform.\n",
      "  theta_transform = mcmc_transform(\n",
      "Validating: 100%|██████████| 500/500 [00:13<00:00, 37.50it/s]\n",
      "Hyperparameter Search:  42%|████▏     | 34/81 [15:40<17:25, 22.25s/it]\n",
      "Hyperparameter Search:  42%|████▏     | 34/81 [15:40<17:25, 22.25s/it]"
     ]
    },
    {
     "name": "stdout",
     "output_type": "stream",
     "text": [
      "Validation mean R^2: 0.904, RMSE: 0.0175\n",
      "\n",
      "Running combo 35/81: {'training_batch_size': 128, 'learning_rate': 0.001, 'validation_fraction': 0.2, 'stop_after_epochs': 10}\n",
      " Neural network successfully converged after 103 epochs."
     ]
    },
    {
     "name": "stderr",
     "output_type": "stream",
     "text": [
      "/groups/spruston/home/moharb/mambaforge/envs/sbi_env/lib/python3.10/site-packages/sbi/inference/potentials/posterior_based_potential.py:54: UserWarning: The passed prior has no support property, transform will be constructed from mean and std. If the passed prior is supposed to be bounded consider implementing the prior.support property.\n",
      "  theta_transform = mcmc_transform(\n",
      "/groups/spruston/home/moharb/mambaforge/envs/sbi_env/lib/python3.10/site-packages/sbi/inference/potentials/posterior_based_potential.py:54: UserWarning: The passed prior has no mean or stddev attribute, estimating them from samples to build affimed standardizing transform.\n",
      "  theta_transform = mcmc_transform(\n",
      "Validating: 100%|██████████| 500/500 [00:13<00:00, 37.63it/s]\n",
      "\n",
      "Hyperparameter Search:  43%|████▎     | 35/81 [16:05<17:35, 22.95s/it]"
     ]
    },
    {
     "name": "stdout",
     "output_type": "stream",
     "text": [
      "Validation mean R^2: 0.896, RMSE: 0.0184\n",
      "\n",
      "Running combo 36/81: {'training_batch_size': 128, 'learning_rate': 0.001, 'validation_fraction': 0.2, 'stop_after_epochs': 20}\n",
      " Neural network successfully converged after 72 epochs."
     ]
    },
    {
     "name": "stderr",
     "output_type": "stream",
     "text": [
      "/groups/spruston/home/moharb/mambaforge/envs/sbi_env/lib/python3.10/site-packages/sbi/inference/potentials/posterior_based_potential.py:54: UserWarning: The passed prior has no support property, transform will be constructed from mean and std. If the passed prior is supposed to be bounded consider implementing the prior.support property.\n",
      "  theta_transform = mcmc_transform(\n",
      "/groups/spruston/home/moharb/mambaforge/envs/sbi_env/lib/python3.10/site-packages/sbi/inference/potentials/posterior_based_potential.py:54: UserWarning: The passed prior has no mean or stddev attribute, estimating them from samples to build affimed standardizing transform.\n",
      "  theta_transform = mcmc_transform(\n",
      "Validating: 100%|██████████| 500/500 [00:13<00:00, 36.35it/s]\n",
      "\n",
      "Hyperparameter Search:  44%|████▍     | 36/81 [16:27<17:03, 22.75s/it]"
     ]
    },
    {
     "name": "stdout",
     "output_type": "stream",
     "text": [
      "Validation mean R^2: 0.912, RMSE: 0.0174\n",
      "\n",
      "Running combo 37/81: {'training_batch_size': 128, 'learning_rate': 0.0005, 'validation_fraction': 0.05, 'stop_after_epochs': 5}\n",
      " Neural network successfully converged after 54 epochs."
     ]
    },
    {
     "name": "stderr",
     "output_type": "stream",
     "text": [
      "/groups/spruston/home/moharb/mambaforge/envs/sbi_env/lib/python3.10/site-packages/sbi/inference/potentials/posterior_based_potential.py:54: UserWarning: The passed prior has no support property, transform will be constructed from mean and std. If the passed prior is supposed to be bounded consider implementing the prior.support property.\n",
      "  theta_transform = mcmc_transform(\n",
      "/groups/spruston/home/moharb/mambaforge/envs/sbi_env/lib/python3.10/site-packages/sbi/inference/potentials/posterior_based_potential.py:54: UserWarning: The passed prior has no mean or stddev attribute, estimating them from samples to build affimed standardizing transform.\n",
      "  theta_transform = mcmc_transform(\n",
      "Validating: 100%|██████████| 500/500 [00:13<00:00, 37.02it/s]\n",
      "Hyperparameter Search:  46%|████▌     | 37/81 [16:48<16:15, 22.18s/it]\n",
      "Hyperparameter Search:  46%|████▌     | 37/81 [16:48<16:15, 22.18s/it]"
     ]
    },
    {
     "name": "stdout",
     "output_type": "stream",
     "text": [
      "Validation mean R^2: 0.906, RMSE: 0.0179\n",
      "\n",
      "Running combo 38/81: {'training_batch_size': 128, 'learning_rate': 0.0005, 'validation_fraction': 0.05, 'stop_after_epochs': 10}\n",
      " Neural network successfully converged after 80 epochs."
     ]
    },
    {
     "name": "stderr",
     "output_type": "stream",
     "text": [
      "/groups/spruston/home/moharb/mambaforge/envs/sbi_env/lib/python3.10/site-packages/sbi/inference/potentials/posterior_based_potential.py:54: UserWarning: The passed prior has no support property, transform will be constructed from mean and std. If the passed prior is supposed to be bounded consider implementing the prior.support property.\n",
      "  theta_transform = mcmc_transform(\n",
      "/groups/spruston/home/moharb/mambaforge/envs/sbi_env/lib/python3.10/site-packages/sbi/inference/potentials/posterior_based_potential.py:54: UserWarning: The passed prior has no mean or stddev attribute, estimating them from samples to build affimed standardizing transform.\n",
      "  theta_transform = mcmc_transform(\n",
      "Validating: 100%|██████████| 500/500 [00:13<00:00, 37.43it/s]\n",
      "\n",
      "Hyperparameter Search:  47%|████▋     | 38/81 [17:12<16:08, 22.53s/it]"
     ]
    },
    {
     "name": "stdout",
     "output_type": "stream",
     "text": [
      "Validation mean R^2: 0.902, RMSE: 0.0183\n",
      "\n",
      "Running combo 39/81: {'training_batch_size': 128, 'learning_rate': 0.0005, 'validation_fraction': 0.05, 'stop_after_epochs': 20}\n",
      " Neural network successfully converged after 87 epochs."
     ]
    },
    {
     "name": "stderr",
     "output_type": "stream",
     "text": [
      "/groups/spruston/home/moharb/mambaforge/envs/sbi_env/lib/python3.10/site-packages/sbi/inference/potentials/posterior_based_potential.py:54: UserWarning: The passed prior has no support property, transform will be constructed from mean and std. If the passed prior is supposed to be bounded consider implementing the prior.support property.\n",
      "  theta_transform = mcmc_transform(\n",
      "/groups/spruston/home/moharb/mambaforge/envs/sbi_env/lib/python3.10/site-packages/sbi/inference/potentials/posterior_based_potential.py:54: UserWarning: The passed prior has no mean or stddev attribute, estimating them from samples to build affimed standardizing transform.\n",
      "  theta_transform = mcmc_transform(\n",
      "Validating: 100%|██████████| 500/500 [00:13<00:00, 37.71it/s]\n",
      "Hyperparameter Search:  48%|████▊     | 39/81 [17:36<16:04, 22.97s/it]\n",
      "Hyperparameter Search:  48%|████▊     | 39/81 [17:36<16:04, 22.97s/it]"
     ]
    },
    {
     "name": "stdout",
     "output_type": "stream",
     "text": [
      "Validation mean R^2: 0.907, RMSE: 0.0174\n",
      "\n",
      "Running combo 40/81: {'training_batch_size': 128, 'learning_rate': 0.0005, 'validation_fraction': 0.1, 'stop_after_epochs': 5}\n",
      " Neural network successfully converged after 41 epochs."
     ]
    },
    {
     "name": "stderr",
     "output_type": "stream",
     "text": [
      "/groups/spruston/home/moharb/mambaforge/envs/sbi_env/lib/python3.10/site-packages/sbi/inference/potentials/posterior_based_potential.py:54: UserWarning: The passed prior has no support property, transform will be constructed from mean and std. If the passed prior is supposed to be bounded consider implementing the prior.support property.\n",
      "  theta_transform = mcmc_transform(\n",
      "/groups/spruston/home/moharb/mambaforge/envs/sbi_env/lib/python3.10/site-packages/sbi/inference/potentials/posterior_based_potential.py:54: UserWarning: The passed prior has no mean or stddev attribute, estimating them from samples to build affimed standardizing transform.\n",
      "  theta_transform = mcmc_transform(\n",
      "Validating: 100%|██████████| 500/500 [00:13<00:00, 36.77it/s]\n",
      "\n",
      "Hyperparameter Search:  49%|████▉     | 40/81 [17:55<15:01, 22.00s/it]"
     ]
    },
    {
     "name": "stdout",
     "output_type": "stream",
     "text": [
      "Validation mean R^2: 0.907, RMSE: 0.0181\n",
      "\n",
      "Running combo 41/81: {'training_batch_size': 128, 'learning_rate': 0.0005, 'validation_fraction': 0.1, 'stop_after_epochs': 10}\n",
      " Neural network successfully converged after 72 epochs."
     ]
    },
    {
     "name": "stderr",
     "output_type": "stream",
     "text": [
      "/groups/spruston/home/moharb/mambaforge/envs/sbi_env/lib/python3.10/site-packages/sbi/inference/potentials/posterior_based_potential.py:54: UserWarning: The passed prior has no support property, transform will be constructed from mean and std. If the passed prior is supposed to be bounded consider implementing the prior.support property.\n",
      "  theta_transform = mcmc_transform(\n",
      "/groups/spruston/home/moharb/mambaforge/envs/sbi_env/lib/python3.10/site-packages/sbi/inference/potentials/posterior_based_potential.py:54: UserWarning: The passed prior has no mean or stddev attribute, estimating them from samples to build affimed standardizing transform.\n",
      "  theta_transform = mcmc_transform(\n",
      "Validating: 100%|██████████| 500/500 [00:12<00:00, 41.62it/s]\n",
      "Validating: 100%|██████████| 500/500 [00:12<00:00, 41.62it/s]\n",
      "Hyperparameter Search:  51%|█████     | 41/81 [18:16<14:29, 21.73s/it]"
     ]
    },
    {
     "name": "stdout",
     "output_type": "stream",
     "text": [
      "Validation mean R^2: 0.903, RMSE: 0.0180\n",
      "\n",
      "Running combo 42/81: {'training_batch_size': 128, 'learning_rate': 0.0005, 'validation_fraction': 0.1, 'stop_after_epochs': 20}\n",
      " Neural network successfully converged after 74 epochs."
     ]
    },
    {
     "name": "stderr",
     "output_type": "stream",
     "text": [
      "/groups/spruston/home/moharb/mambaforge/envs/sbi_env/lib/python3.10/site-packages/sbi/inference/potentials/posterior_based_potential.py:54: UserWarning: The passed prior has no support property, transform will be constructed from mean and std. If the passed prior is supposed to be bounded consider implementing the prior.support property.\n",
      "  theta_transform = mcmc_transform(\n",
      "/groups/spruston/home/moharb/mambaforge/envs/sbi_env/lib/python3.10/site-packages/sbi/inference/potentials/posterior_based_potential.py:54: UserWarning: The passed prior has no mean or stddev attribute, estimating them from samples to build affimed standardizing transform.\n",
      "  theta_transform = mcmc_transform(\n",
      "Validating: 100%|██████████| 500/500 [00:13<00:00, 36.39it/s]\n",
      "\n",
      "Hyperparameter Search:  52%|█████▏    | 42/81 [18:39<14:23, 22.13s/it]"
     ]
    },
    {
     "name": "stdout",
     "output_type": "stream",
     "text": [
      "Validation mean R^2: 0.896, RMSE: 0.0176\n",
      "\n",
      "Running combo 43/81: {'training_batch_size': 128, 'learning_rate': 0.0005, 'validation_fraction': 0.2, 'stop_after_epochs': 5}\n",
      " Neural network successfully converged after 55 epochs."
     ]
    },
    {
     "name": "stderr",
     "output_type": "stream",
     "text": [
      "/groups/spruston/home/moharb/mambaforge/envs/sbi_env/lib/python3.10/site-packages/sbi/inference/potentials/posterior_based_potential.py:54: UserWarning: The passed prior has no support property, transform will be constructed from mean and std. If the passed prior is supposed to be bounded consider implementing the prior.support property.\n",
      "  theta_transform = mcmc_transform(\n",
      "/groups/spruston/home/moharb/mambaforge/envs/sbi_env/lib/python3.10/site-packages/sbi/inference/potentials/posterior_based_potential.py:54: UserWarning: The passed prior has no mean or stddev attribute, estimating them from samples to build affimed standardizing transform.\n",
      "  theta_transform = mcmc_transform(\n",
      "Validating: 100%|██████████| 500/500 [00:13<00:00, 37.59it/s]\n",
      "\n",
      "Hyperparameter Search:  53%|█████▎    | 43/81 [19:00<13:40, 21.59s/it]"
     ]
    },
    {
     "name": "stdout",
     "output_type": "stream",
     "text": [
      "Validation mean R^2: 0.910, RMSE: 0.0177\n",
      "\n",
      "Running combo 44/81: {'training_batch_size': 128, 'learning_rate': 0.0005, 'validation_fraction': 0.2, 'stop_after_epochs': 10}\n",
      " Neural network successfully converged after 82 epochs."
     ]
    },
    {
     "name": "stderr",
     "output_type": "stream",
     "text": [
      "/groups/spruston/home/moharb/mambaforge/envs/sbi_env/lib/python3.10/site-packages/sbi/inference/potentials/posterior_based_potential.py:54: UserWarning: The passed prior has no support property, transform will be constructed from mean and std. If the passed prior is supposed to be bounded consider implementing the prior.support property.\n",
      "  theta_transform = mcmc_transform(\n",
      "/groups/spruston/home/moharb/mambaforge/envs/sbi_env/lib/python3.10/site-packages/sbi/inference/potentials/posterior_based_potential.py:54: UserWarning: The passed prior has no mean or stddev attribute, estimating them from samples to build affimed standardizing transform.\n",
      "  theta_transform = mcmc_transform(\n",
      "Validating: 100%|██████████| 500/500 [00:13<00:00, 36.94it/s]\n",
      "Hyperparameter Search:  54%|█████▍    | 44/81 [19:23<13:35, 22.03s/it]\n",
      "Hyperparameter Search:  54%|█████▍    | 44/81 [19:23<13:35, 22.03s/it]"
     ]
    },
    {
     "name": "stdout",
     "output_type": "stream",
     "text": [
      "Validation mean R^2: 0.910, RMSE: 0.0175\n",
      "\n",
      "Running combo 45/81: {'training_batch_size': 128, 'learning_rate': 0.0005, 'validation_fraction': 0.2, 'stop_after_epochs': 20}\n",
      " Neural network successfully converged after 96 epochs."
     ]
    },
    {
     "name": "stderr",
     "output_type": "stream",
     "text": [
      "/groups/spruston/home/moharb/mambaforge/envs/sbi_env/lib/python3.10/site-packages/sbi/inference/potentials/posterior_based_potential.py:54: UserWarning: The passed prior has no support property, transform will be constructed from mean and std. If the passed prior is supposed to be bounded consider implementing the prior.support property.\n",
      "  theta_transform = mcmc_transform(\n",
      "/groups/spruston/home/moharb/mambaforge/envs/sbi_env/lib/python3.10/site-packages/sbi/inference/potentials/posterior_based_potential.py:54: UserWarning: The passed prior has no mean or stddev attribute, estimating them from samples to build affimed standardizing transform.\n",
      "  theta_transform = mcmc_transform(\n",
      "Validating: 100%|██████████| 500/500 [00:13<00:00, 37.56it/s]\n",
      "\n",
      "Hyperparameter Search:  56%|█████▌    | 45/81 [19:47<13:34, 22.62s/it]"
     ]
    },
    {
     "name": "stdout",
     "output_type": "stream",
     "text": [
      "Validation mean R^2: 0.905, RMSE: 0.0177\n",
      "\n",
      "Running combo 46/81: {'training_batch_size': 128, 'learning_rate': 0.0001, 'validation_fraction': 0.05, 'stop_after_epochs': 5}\n",
      " Neural network successfully converged after 151 epochs."
     ]
    },
    {
     "name": "stderr",
     "output_type": "stream",
     "text": [
      "/groups/spruston/home/moharb/mambaforge/envs/sbi_env/lib/python3.10/site-packages/sbi/inference/potentials/posterior_based_potential.py:54: UserWarning: The passed prior has no support property, transform will be constructed from mean and std. If the passed prior is supposed to be bounded consider implementing the prior.support property.\n",
      "  theta_transform = mcmc_transform(\n",
      "/groups/spruston/home/moharb/mambaforge/envs/sbi_env/lib/python3.10/site-packages/sbi/inference/potentials/posterior_based_potential.py:54: UserWarning: The passed prior has no mean or stddev attribute, estimating them from samples to build affimed standardizing transform.\n",
      "  theta_transform = mcmc_transform(\n",
      "Validating: 100%|██████████| 500/500 [00:13<00:00, 37.61it/s]\n",
      "Hyperparameter Search:  57%|█████▋    | 46/81 [20:17<14:30, 24.87s/it]\n",
      "Hyperparameter Search:  57%|█████▋    | 46/81 [20:17<14:30, 24.87s/it]"
     ]
    },
    {
     "name": "stdout",
     "output_type": "stream",
     "text": [
      "Validation mean R^2: 0.888, RMSE: 0.0192\n",
      "\n",
      "Running combo 47/81: {'training_batch_size': 128, 'learning_rate': 0.0001, 'validation_fraction': 0.05, 'stop_after_epochs': 10}\n",
      " Neural network successfully converged after 249 epochs."
     ]
    },
    {
     "name": "stderr",
     "output_type": "stream",
     "text": [
      "/groups/spruston/home/moharb/mambaforge/envs/sbi_env/lib/python3.10/site-packages/sbi/inference/potentials/posterior_based_potential.py:54: UserWarning: The passed prior has no support property, transform will be constructed from mean and std. If the passed prior is supposed to be bounded consider implementing the prior.support property.\n",
      "  theta_transform = mcmc_transform(\n",
      "/groups/spruston/home/moharb/mambaforge/envs/sbi_env/lib/python3.10/site-packages/sbi/inference/potentials/posterior_based_potential.py:54: UserWarning: The passed prior has no mean or stddev attribute, estimating them from samples to build affimed standardizing transform.\n",
      "  theta_transform = mcmc_transform(\n",
      "Validating: 100%|██████████| 500/500 [00:13<00:00, 36.90it/s]\n",
      "Hyperparameter Search:  58%|█████▊    | 47/81 [20:57<16:38, 29.38s/it]\n",
      "Hyperparameter Search:  58%|█████▊    | 47/81 [20:57<16:38, 29.38s/it]"
     ]
    },
    {
     "name": "stdout",
     "output_type": "stream",
     "text": [
      "Validation mean R^2: 0.910, RMSE: 0.0175\n",
      "\n",
      "Running combo 48/81: {'training_batch_size': 128, 'learning_rate': 0.0001, 'validation_fraction': 0.05, 'stop_after_epochs': 20}\n",
      " Neural network successfully converged after 380 epochs."
     ]
    },
    {
     "name": "stderr",
     "output_type": "stream",
     "text": [
      "/groups/spruston/home/moharb/mambaforge/envs/sbi_env/lib/python3.10/site-packages/sbi/inference/potentials/posterior_based_potential.py:54: UserWarning: The passed prior has no support property, transform will be constructed from mean and std. If the passed prior is supposed to be bounded consider implementing the prior.support property.\n",
      "  theta_transform = mcmc_transform(\n",
      "/groups/spruston/home/moharb/mambaforge/envs/sbi_env/lib/python3.10/site-packages/sbi/inference/potentials/posterior_based_potential.py:54: UserWarning: The passed prior has no mean or stddev attribute, estimating them from samples to build affimed standardizing transform.\n",
      "  theta_transform = mcmc_transform(\n",
      "Validating: 100%|██████████| 500/500 [00:13<00:00, 36.33it/s]\n",
      "\n",
      "Hyperparameter Search:  59%|█████▉    | 48/81 [21:50<20:02, 36.43s/it]"
     ]
    },
    {
     "name": "stdout",
     "output_type": "stream",
     "text": [
      "Validation mean R^2: 0.913, RMSE: 0.0178\n",
      "\n",
      "Running combo 49/81: {'training_batch_size': 128, 'learning_rate': 0.0001, 'validation_fraction': 0.1, 'stop_after_epochs': 5}\n",
      " Neural network successfully converged after 121 epochs."
     ]
    },
    {
     "name": "stderr",
     "output_type": "stream",
     "text": [
      "/groups/spruston/home/moharb/mambaforge/envs/sbi_env/lib/python3.10/site-packages/sbi/inference/potentials/posterior_based_potential.py:54: UserWarning: The passed prior has no support property, transform will be constructed from mean and std. If the passed prior is supposed to be bounded consider implementing the prior.support property.\n",
      "  theta_transform = mcmc_transform(\n",
      "/groups/spruston/home/moharb/mambaforge/envs/sbi_env/lib/python3.10/site-packages/sbi/inference/potentials/posterior_based_potential.py:54: UserWarning: The passed prior has no mean or stddev attribute, estimating them from samples to build affimed standardizing transform.\n",
      "  theta_transform = mcmc_transform(\n",
      "Validating: 100%|██████████| 500/500 [00:13<00:00, 37.27it/s]\n",
      "Hyperparameter Search:  60%|██████    | 49/81 [22:17<17:58, 33.71s/it]\n",
      "Hyperparameter Search:  60%|██████    | 49/81 [22:17<17:58, 33.71s/it]"
     ]
    },
    {
     "name": "stdout",
     "output_type": "stream",
     "text": [
      "Validation mean R^2: 0.905, RMSE: 0.0179\n",
      "\n",
      "Running combo 50/81: {'training_batch_size': 128, 'learning_rate': 0.0001, 'validation_fraction': 0.1, 'stop_after_epochs': 10}\n",
      " Neural network successfully converged after 153 epochs."
     ]
    },
    {
     "name": "stderr",
     "output_type": "stream",
     "text": [
      "/groups/spruston/home/moharb/mambaforge/envs/sbi_env/lib/python3.10/site-packages/sbi/inference/potentials/posterior_based_potential.py:54: UserWarning: The passed prior has no support property, transform will be constructed from mean and std. If the passed prior is supposed to be bounded consider implementing the prior.support property.\n",
      "  theta_transform = mcmc_transform(\n",
      "/groups/spruston/home/moharb/mambaforge/envs/sbi_env/lib/python3.10/site-packages/sbi/inference/potentials/posterior_based_potential.py:54: UserWarning: The passed prior has no mean or stddev attribute, estimating them from samples to build affimed standardizing transform.\n",
      "  theta_transform = mcmc_transform(\n",
      "Validating: 100%|██████████| 500/500 [00:13<00:00, 35.79it/s]\n",
      "\n",
      "Hyperparameter Search:  62%|██████▏   | 50/81 [22:48<16:59, 32.90s/it]"
     ]
    },
    {
     "name": "stdout",
     "output_type": "stream",
     "text": [
      "Validation mean R^2: 0.873, RMSE: 0.0212\n",
      "\n",
      "Running combo 51/81: {'training_batch_size': 128, 'learning_rate': 0.0001, 'validation_fraction': 0.1, 'stop_after_epochs': 20}\n",
      " Neural network successfully converged after 244 epochs."
     ]
    },
    {
     "name": "stderr",
     "output_type": "stream",
     "text": [
      "/groups/spruston/home/moharb/mambaforge/envs/sbi_env/lib/python3.10/site-packages/sbi/inference/potentials/posterior_based_potential.py:54: UserWarning: The passed prior has no support property, transform will be constructed from mean and std. If the passed prior is supposed to be bounded consider implementing the prior.support property.\n",
      "  theta_transform = mcmc_transform(\n",
      "/groups/spruston/home/moharb/mambaforge/envs/sbi_env/lib/python3.10/site-packages/sbi/inference/potentials/posterior_based_potential.py:54: UserWarning: The passed prior has no mean or stddev attribute, estimating them from samples to build affimed standardizing transform.\n",
      "  theta_transform = mcmc_transform(\n",
      "Validating: 100%|██████████| 500/500 [00:13<00:00, 36.83it/s]\n",
      "\n",
      "Hyperparameter Search:  63%|██████▎   | 51/81 [23:28<17:27, 34.91s/it]"
     ]
    },
    {
     "name": "stdout",
     "output_type": "stream",
     "text": [
      "Validation mean R^2: 0.910, RMSE: 0.0178\n",
      "\n",
      "Running combo 52/81: {'training_batch_size': 128, 'learning_rate': 0.0001, 'validation_fraction': 0.2, 'stop_after_epochs': 5}\n",
      " Neural network successfully converged after 188 epochs."
     ]
    },
    {
     "name": "stderr",
     "output_type": "stream",
     "text": [
      "/groups/spruston/home/moharb/mambaforge/envs/sbi_env/lib/python3.10/site-packages/sbi/inference/potentials/posterior_based_potential.py:54: UserWarning: The passed prior has no support property, transform will be constructed from mean and std. If the passed prior is supposed to be bounded consider implementing the prior.support property.\n",
      "  theta_transform = mcmc_transform(\n",
      "/groups/spruston/home/moharb/mambaforge/envs/sbi_env/lib/python3.10/site-packages/sbi/inference/potentials/posterior_based_potential.py:54: UserWarning: The passed prior has no mean or stddev attribute, estimating them from samples to build affimed standardizing transform.\n",
      "  theta_transform = mcmc_transform(\n",
      "Validating: 100%|██████████| 500/500 [00:13<00:00, 36.87it/s]\n",
      "\n",
      "Hyperparameter Search:  64%|██████▍   | 52/81 [24:00<16:32, 34.24s/it]"
     ]
    },
    {
     "name": "stdout",
     "output_type": "stream",
     "text": [
      "Validation mean R^2: 0.906, RMSE: 0.0186\n",
      "\n",
      "Running combo 53/81: {'training_batch_size': 128, 'learning_rate': 0.0001, 'validation_fraction': 0.2, 'stop_after_epochs': 10}\n",
      " Neural network successfully converged after 195 epochs."
     ]
    },
    {
     "name": "stderr",
     "output_type": "stream",
     "text": [
      "/groups/spruston/home/moharb/mambaforge/envs/sbi_env/lib/python3.10/site-packages/sbi/inference/potentials/posterior_based_potential.py:54: UserWarning: The passed prior has no support property, transform will be constructed from mean and std. If the passed prior is supposed to be bounded consider implementing the prior.support property.\n",
      "  theta_transform = mcmc_transform(\n",
      "/groups/spruston/home/moharb/mambaforge/envs/sbi_env/lib/python3.10/site-packages/sbi/inference/potentials/posterior_based_potential.py:54: UserWarning: The passed prior has no mean or stddev attribute, estimating them from samples to build affimed standardizing transform.\n",
      "  theta_transform = mcmc_transform(\n",
      "Validating: 100%|██████████| 500/500 [00:13<00:00, 36.36it/s]\n",
      "\n",
      "Hyperparameter Search:  65%|██████▌   | 53/81 [24:34<15:53, 34.05s/it]"
     ]
    },
    {
     "name": "stdout",
     "output_type": "stream",
     "text": [
      "Validation mean R^2: 0.896, RMSE: 0.0182\n",
      "\n",
      "Running combo 54/81: {'training_batch_size': 128, 'learning_rate': 0.0001, 'validation_fraction': 0.2, 'stop_after_epochs': 20}\n",
      " Neural network successfully converged after 256 epochs."
     ]
    },
    {
     "name": "stderr",
     "output_type": "stream",
     "text": [
      "/groups/spruston/home/moharb/mambaforge/envs/sbi_env/lib/python3.10/site-packages/sbi/inference/potentials/posterior_based_potential.py:54: UserWarning: The passed prior has no support property, transform will be constructed from mean and std. If the passed prior is supposed to be bounded consider implementing the prior.support property.\n",
      "  theta_transform = mcmc_transform(\n",
      "/groups/spruston/home/moharb/mambaforge/envs/sbi_env/lib/python3.10/site-packages/sbi/inference/potentials/posterior_based_potential.py:54: UserWarning: The passed prior has no mean or stddev attribute, estimating them from samples to build affimed standardizing transform.\n",
      "  theta_transform = mcmc_transform(\n",
      "Validating: 100%|██████████| 500/500 [00:13<00:00, 37.30it/s]\n",
      "Hyperparameter Search:  67%|██████▋   | 54/81 [25:12<15:54, 35.37s/it]\n",
      "Hyperparameter Search:  67%|██████▋   | 54/81 [25:12<15:54, 35.37s/it]"
     ]
    },
    {
     "name": "stdout",
     "output_type": "stream",
     "text": [
      "Validation mean R^2: 0.904, RMSE: 0.0180\n",
      "\n",
      "Running combo 55/81: {'training_batch_size': 256, 'learning_rate': 0.001, 'validation_fraction': 0.05, 'stop_after_epochs': 5}\n",
      " Neural network successfully converged after 60 epochs."
     ]
    },
    {
     "name": "stderr",
     "output_type": "stream",
     "text": [
      "/groups/spruston/home/moharb/mambaforge/envs/sbi_env/lib/python3.10/site-packages/sbi/inference/potentials/posterior_based_potential.py:54: UserWarning: The passed prior has no support property, transform will be constructed from mean and std. If the passed prior is supposed to be bounded consider implementing the prior.support property.\n",
      "  theta_transform = mcmc_transform(\n",
      "/groups/spruston/home/moharb/mambaforge/envs/sbi_env/lib/python3.10/site-packages/sbi/inference/potentials/posterior_based_potential.py:54: UserWarning: The passed prior has no mean or stddev attribute, estimating them from samples to build affimed standardizing transform.\n",
      "  theta_transform = mcmc_transform(\n",
      "Validating: 100%|██████████| 500/500 [00:13<00:00, 36.90it/s]\n",
      "Hyperparameter Search:  68%|██████▊   | 55/81 [25:32<13:14, 30.56s/it]\n",
      "Hyperparameter Search:  68%|██████▊   | 55/81 [25:32<13:14, 30.56s/it]"
     ]
    },
    {
     "name": "stdout",
     "output_type": "stream",
     "text": [
      "Validation mean R^2: 0.910, RMSE: 0.0175\n",
      "\n",
      "Running combo 56/81: {'training_batch_size': 256, 'learning_rate': 0.001, 'validation_fraction': 0.05, 'stop_after_epochs': 10}\n",
      " Neural network successfully converged after 77 epochs."
     ]
    },
    {
     "name": "stderr",
     "output_type": "stream",
     "text": [
      "/groups/spruston/home/moharb/mambaforge/envs/sbi_env/lib/python3.10/site-packages/sbi/inference/potentials/posterior_based_potential.py:54: UserWarning: The passed prior has no support property, transform will be constructed from mean and std. If the passed prior is supposed to be bounded consider implementing the prior.support property.\n",
      "  theta_transform = mcmc_transform(\n",
      "/groups/spruston/home/moharb/mambaforge/envs/sbi_env/lib/python3.10/site-packages/sbi/inference/potentials/posterior_based_potential.py:54: UserWarning: The passed prior has no mean or stddev attribute, estimating them from samples to build affimed standardizing transform.\n",
      "  theta_transform = mcmc_transform(\n",
      "Validating: 100%|██████████| 500/500 [00:13<00:00, 37.55it/s]\n",
      "Validating: 100%|██████████| 500/500 [00:13<00:00, 37.55it/s]\n",
      "Hyperparameter Search:  69%|██████▉   | 56/81 [25:52<11:25, 27.41s/it]"
     ]
    },
    {
     "name": "stdout",
     "output_type": "stream",
     "text": [
      "Validation mean R^2: 0.818, RMSE: 0.0269\n",
      "\n",
      "Running combo 57/81: {'training_batch_size': 256, 'learning_rate': 0.001, 'validation_fraction': 0.05, 'stop_after_epochs': 20}\n",
      " Neural network successfully converged after 72 epochs."
     ]
    },
    {
     "name": "stderr",
     "output_type": "stream",
     "text": [
      "/groups/spruston/home/moharb/mambaforge/envs/sbi_env/lib/python3.10/site-packages/sbi/inference/potentials/posterior_based_potential.py:54: UserWarning: The passed prior has no support property, transform will be constructed from mean and std. If the passed prior is supposed to be bounded consider implementing the prior.support property.\n",
      "  theta_transform = mcmc_transform(\n",
      "/groups/spruston/home/moharb/mambaforge/envs/sbi_env/lib/python3.10/site-packages/sbi/inference/potentials/posterior_based_potential.py:54: UserWarning: The passed prior has no mean or stddev attribute, estimating them from samples to build affimed standardizing transform.\n",
      "  theta_transform = mcmc_transform(\n",
      "Validating: 100%|██████████| 500/500 [00:13<00:00, 37.88it/s]\n",
      "Hyperparameter Search:  70%|███████   | 57/81 [26:12<10:02, 25.10s/it]\n",
      "Hyperparameter Search:  70%|███████   | 57/81 [26:12<10:02, 25.10s/it]"
     ]
    },
    {
     "name": "stdout",
     "output_type": "stream",
     "text": [
      "Validation mean R^2: 0.904, RMSE: 0.0174\n",
      "\n",
      "Running combo 58/81: {'training_batch_size': 256, 'learning_rate': 0.001, 'validation_fraction': 0.1, 'stop_after_epochs': 5}\n",
      " Neural network successfully converged after 62 epochs."
     ]
    },
    {
     "name": "stderr",
     "output_type": "stream",
     "text": [
      "/groups/spruston/home/moharb/mambaforge/envs/sbi_env/lib/python3.10/site-packages/sbi/inference/potentials/posterior_based_potential.py:54: UserWarning: The passed prior has no support property, transform will be constructed from mean and std. If the passed prior is supposed to be bounded consider implementing the prior.support property.\n",
      "  theta_transform = mcmc_transform(\n",
      "/groups/spruston/home/moharb/mambaforge/envs/sbi_env/lib/python3.10/site-packages/sbi/inference/potentials/posterior_based_potential.py:54: UserWarning: The passed prior has no mean or stddev attribute, estimating them from samples to build affimed standardizing transform.\n",
      "  theta_transform = mcmc_transform(\n",
      "Validating: 100%|██████████| 500/500 [00:12<00:00, 39.85it/s]\n",
      "Hyperparameter Search:  72%|███████▏  | 58/81 [26:30<08:51, 23.12s/it]\n",
      "Hyperparameter Search:  72%|███████▏  | 58/81 [26:30<08:51, 23.12s/it]"
     ]
    },
    {
     "name": "stdout",
     "output_type": "stream",
     "text": [
      "Validation mean R^2: 0.904, RMSE: 0.0174\n",
      "\n",
      "Running combo 59/81: {'training_batch_size': 256, 'learning_rate': 0.001, 'validation_fraction': 0.1, 'stop_after_epochs': 10}\n",
      " Neural network successfully converged after 68 epochs."
     ]
    },
    {
     "name": "stderr",
     "output_type": "stream",
     "text": [
      "/groups/spruston/home/moharb/mambaforge/envs/sbi_env/lib/python3.10/site-packages/sbi/inference/potentials/posterior_based_potential.py:54: UserWarning: The passed prior has no support property, transform will be constructed from mean and std. If the passed prior is supposed to be bounded consider implementing the prior.support property.\n",
      "  theta_transform = mcmc_transform(\n",
      "/groups/spruston/home/moharb/mambaforge/envs/sbi_env/lib/python3.10/site-packages/sbi/inference/potentials/posterior_based_potential.py:54: UserWarning: The passed prior has no mean or stddev attribute, estimating them from samples to build affimed standardizing transform.\n",
      "  theta_transform = mcmc_transform(\n",
      "Validating: 100%|██████████| 500/500 [00:13<00:00, 38.24it/s]\n",
      "\n",
      "Hyperparameter Search:  73%|███████▎  | 59/81 [26:49<08:04, 22.01s/it]"
     ]
    },
    {
     "name": "stdout",
     "output_type": "stream",
     "text": [
      "Validation mean R^2: 0.901, RMSE: 0.0184\n",
      "\n",
      "Running combo 60/81: {'training_batch_size': 256, 'learning_rate': 0.001, 'validation_fraction': 0.1, 'stop_after_epochs': 20}\n",
      " Neural network successfully converged after 85 epochs."
     ]
    },
    {
     "name": "stderr",
     "output_type": "stream",
     "text": [
      "/groups/spruston/home/moharb/mambaforge/envs/sbi_env/lib/python3.10/site-packages/sbi/inference/potentials/posterior_based_potential.py:54: UserWarning: The passed prior has no support property, transform will be constructed from mean and std. If the passed prior is supposed to be bounded consider implementing the prior.support property.\n",
      "  theta_transform = mcmc_transform(\n",
      "/groups/spruston/home/moharb/mambaforge/envs/sbi_env/lib/python3.10/site-packages/sbi/inference/potentials/posterior_based_potential.py:54: UserWarning: The passed prior has no mean or stddev attribute, estimating them from samples to build affimed standardizing transform.\n",
      "  theta_transform = mcmc_transform(\n",
      "Validating: 100%|██████████| 500/500 [00:13<00:00, 35.81it/s]\n",
      "Hyperparameter Search:  74%|███████▍  | 60/81 [27:11<07:37, 21.79s/it]\n",
      "Hyperparameter Search:  74%|███████▍  | 60/81 [27:11<07:37, 21.79s/it]"
     ]
    },
    {
     "name": "stdout",
     "output_type": "stream",
     "text": [
      "Validation mean R^2: 0.909, RMSE: 0.0172\n",
      "\n",
      "Running combo 61/81: {'training_batch_size': 256, 'learning_rate': 0.001, 'validation_fraction': 0.2, 'stop_after_epochs': 5}\n",
      " Neural network successfully converged after 44 epochs."
     ]
    },
    {
     "name": "stderr",
     "output_type": "stream",
     "text": [
      "/groups/spruston/home/moharb/mambaforge/envs/sbi_env/lib/python3.10/site-packages/sbi/inference/potentials/posterior_based_potential.py:54: UserWarning: The passed prior has no support property, transform will be constructed from mean and std. If the passed prior is supposed to be bounded consider implementing the prior.support property.\n",
      "  theta_transform = mcmc_transform(\n",
      "/groups/spruston/home/moharb/mambaforge/envs/sbi_env/lib/python3.10/site-packages/sbi/inference/potentials/posterior_based_potential.py:54: UserWarning: The passed prior has no mean or stddev attribute, estimating them from samples to build affimed standardizing transform.\n",
      "  theta_transform = mcmc_transform(\n",
      "Validating: 100%|██████████| 500/500 [00:12<00:00, 38.99it/s]\n",
      "Hyperparameter Search:  75%|███████▌  | 61/81 [27:28<06:50, 20.50s/it]\n",
      "Hyperparameter Search:  75%|███████▌  | 61/81 [27:28<06:50, 20.50s/it]"
     ]
    },
    {
     "name": "stdout",
     "output_type": "stream",
     "text": [
      "Validation mean R^2: 0.908, RMSE: 0.0175\n",
      "\n",
      "Running combo 62/81: {'training_batch_size': 256, 'learning_rate': 0.001, 'validation_fraction': 0.2, 'stop_after_epochs': 10}\n",
      " Neural network successfully converged after 79 epochs."
     ]
    },
    {
     "name": "stderr",
     "output_type": "stream",
     "text": [
      "/groups/spruston/home/moharb/mambaforge/envs/sbi_env/lib/python3.10/site-packages/sbi/inference/potentials/posterior_based_potential.py:54: UserWarning: The passed prior has no support property, transform will be constructed from mean and std. If the passed prior is supposed to be bounded consider implementing the prior.support property.\n",
      "  theta_transform = mcmc_transform(\n",
      "/groups/spruston/home/moharb/mambaforge/envs/sbi_env/lib/python3.10/site-packages/sbi/inference/potentials/posterior_based_potential.py:54: UserWarning: The passed prior has no mean or stddev attribute, estimating them from samples to build affimed standardizing transform.\n",
      "  theta_transform = mcmc_transform(\n",
      "Validating: 100%|██████████| 500/500 [00:13<00:00, 36.53it/s]\n",
      "\n",
      "Hyperparameter Search:  77%|███████▋  | 62/81 [27:48<06:27, 20.42s/it]"
     ]
    },
    {
     "name": "stdout",
     "output_type": "stream",
     "text": [
      "Validation mean R^2: 0.914, RMSE: 0.0172\n",
      "\n",
      "Running combo 63/81: {'training_batch_size': 256, 'learning_rate': 0.001, 'validation_fraction': 0.2, 'stop_after_epochs': 20}\n",
      " Neural network successfully converged after 93 epochs."
     ]
    },
    {
     "name": "stderr",
     "output_type": "stream",
     "text": [
      "/groups/spruston/home/moharb/mambaforge/envs/sbi_env/lib/python3.10/site-packages/sbi/inference/potentials/posterior_based_potential.py:54: UserWarning: The passed prior has no support property, transform will be constructed from mean and std. If the passed prior is supposed to be bounded consider implementing the prior.support property.\n",
      "  theta_transform = mcmc_transform(\n",
      "/groups/spruston/home/moharb/mambaforge/envs/sbi_env/lib/python3.10/site-packages/sbi/inference/potentials/posterior_based_potential.py:54: UserWarning: The passed prior has no mean or stddev attribute, estimating them from samples to build affimed standardizing transform.\n",
      "  theta_transform = mcmc_transform(\n",
      "Validating: 100%|██████████| 500/500 [00:12<00:00, 39.83it/s]\n",
      "\n",
      "Hyperparameter Search:  78%|███████▊  | 63/81 [28:08<06:04, 20.27s/it]"
     ]
    },
    {
     "name": "stdout",
     "output_type": "stream",
     "text": [
      "Validation mean R^2: 0.911, RMSE: 0.0174\n",
      "\n",
      "Running combo 64/81: {'training_batch_size': 256, 'learning_rate': 0.0005, 'validation_fraction': 0.05, 'stop_after_epochs': 5}\n",
      " Neural network successfully converged after 114 epochs."
     ]
    },
    {
     "name": "stderr",
     "output_type": "stream",
     "text": [
      "/groups/spruston/home/moharb/mambaforge/envs/sbi_env/lib/python3.10/site-packages/sbi/inference/potentials/posterior_based_potential.py:54: UserWarning: The passed prior has no support property, transform will be constructed from mean and std. If the passed prior is supposed to be bounded consider implementing the prior.support property.\n",
      "  theta_transform = mcmc_transform(\n",
      "/groups/spruston/home/moharb/mambaforge/envs/sbi_env/lib/python3.10/site-packages/sbi/inference/potentials/posterior_based_potential.py:54: UserWarning: The passed prior has no mean or stddev attribute, estimating them from samples to build affimed standardizing transform.\n",
      "  theta_transform = mcmc_transform(\n",
      "Validating: 100%|██████████| 500/500 [00:14<00:00, 34.91it/s]\n",
      "Hyperparameter Search:  79%|███████▉  | 64/81 [28:32<06:01, 21.27s/it]\n",
      "Hyperparameter Search:  79%|███████▉  | 64/81 [28:32<06:01, 21.27s/it]"
     ]
    },
    {
     "name": "stdout",
     "output_type": "stream",
     "text": [
      "Validation mean R^2: 0.894, RMSE: 0.0189\n",
      "\n",
      "Running combo 65/81: {'training_batch_size': 256, 'learning_rate': 0.0005, 'validation_fraction': 0.05, 'stop_after_epochs': 10}\n",
      " Neural network successfully converged after 92 epochs."
     ]
    },
    {
     "name": "stderr",
     "output_type": "stream",
     "text": [
      "/groups/spruston/home/moharb/mambaforge/envs/sbi_env/lib/python3.10/site-packages/sbi/inference/potentials/posterior_based_potential.py:54: UserWarning: The passed prior has no support property, transform will be constructed from mean and std. If the passed prior is supposed to be bounded consider implementing the prior.support property.\n",
      "  theta_transform = mcmc_transform(\n",
      "/groups/spruston/home/moharb/mambaforge/envs/sbi_env/lib/python3.10/site-packages/sbi/inference/potentials/posterior_based_potential.py:54: UserWarning: The passed prior has no mean or stddev attribute, estimating them from samples to build affimed standardizing transform.\n",
      "  theta_transform = mcmc_transform(\n",
      "Validating: 100%|██████████| 500/500 [00:13<00:00, 35.79it/s]\n",
      "\n",
      "Hyperparameter Search:  80%|████████  | 65/81 [28:54<05:42, 21.42s/it]"
     ]
    },
    {
     "name": "stdout",
     "output_type": "stream",
     "text": [
      "Validation mean R^2: 0.909, RMSE: 0.0174\n",
      "\n",
      "Running combo 66/81: {'training_batch_size': 256, 'learning_rate': 0.0005, 'validation_fraction': 0.05, 'stop_after_epochs': 20}\n",
      " Neural network successfully converged after 114 epochs."
     ]
    },
    {
     "name": "stderr",
     "output_type": "stream",
     "text": [
      "/groups/spruston/home/moharb/mambaforge/envs/sbi_env/lib/python3.10/site-packages/sbi/inference/potentials/posterior_based_potential.py:54: UserWarning: The passed prior has no support property, transform will be constructed from mean and std. If the passed prior is supposed to be bounded consider implementing the prior.support property.\n",
      "  theta_transform = mcmc_transform(\n",
      "/groups/spruston/home/moharb/mambaforge/envs/sbi_env/lib/python3.10/site-packages/sbi/inference/potentials/posterior_based_potential.py:54: UserWarning: The passed prior has no mean or stddev attribute, estimating them from samples to build affimed standardizing transform.\n",
      "  theta_transform = mcmc_transform(\n",
      "Validating: 100%|██████████| 500/500 [00:12<00:00, 40.61it/s]\n",
      "Hyperparameter Search:  81%|████████▏ | 66/81 [29:15<05:22, 21.48s/it]\n",
      "Hyperparameter Search:  81%|████████▏ | 66/81 [29:15<05:22, 21.48s/it]"
     ]
    },
    {
     "name": "stdout",
     "output_type": "stream",
     "text": [
      "Validation mean R^2: 0.908, RMSE: 0.0172\n",
      "\n",
      "Running combo 67/81: {'training_batch_size': 256, 'learning_rate': 0.0005, 'validation_fraction': 0.1, 'stop_after_epochs': 5}\n",
      " Neural network successfully converged after 81 epochs."
     ]
    },
    {
     "name": "stderr",
     "output_type": "stream",
     "text": [
      "/groups/spruston/home/moharb/mambaforge/envs/sbi_env/lib/python3.10/site-packages/sbi/inference/potentials/posterior_based_potential.py:54: UserWarning: The passed prior has no support property, transform will be constructed from mean and std. If the passed prior is supposed to be bounded consider implementing the prior.support property.\n",
      "  theta_transform = mcmc_transform(\n",
      "/groups/spruston/home/moharb/mambaforge/envs/sbi_env/lib/python3.10/site-packages/sbi/inference/potentials/posterior_based_potential.py:54: UserWarning: The passed prior has no mean or stddev attribute, estimating them from samples to build affimed standardizing transform.\n",
      "  theta_transform = mcmc_transform(\n",
      "Validating: 100%|██████████| 500/500 [00:13<00:00, 36.93it/s]\n",
      "\n",
      "Hyperparameter Search:  83%|████████▎ | 67/81 [29:36<04:57, 21.26s/it]"
     ]
    },
    {
     "name": "stdout",
     "output_type": "stream",
     "text": [
      "Validation mean R^2: 0.891, RMSE: 0.0175\n",
      "\n",
      "Running combo 68/81: {'training_batch_size': 256, 'learning_rate': 0.0005, 'validation_fraction': 0.1, 'stop_after_epochs': 10}\n",
      " Neural network successfully converged after 108 epochs."
     ]
    },
    {
     "name": "stderr",
     "output_type": "stream",
     "text": [
      "/groups/spruston/home/moharb/mambaforge/envs/sbi_env/lib/python3.10/site-packages/sbi/inference/potentials/posterior_based_potential.py:54: UserWarning: The passed prior has no support property, transform will be constructed from mean and std. If the passed prior is supposed to be bounded consider implementing the prior.support property.\n",
      "  theta_transform = mcmc_transform(\n",
      "/groups/spruston/home/moharb/mambaforge/envs/sbi_env/lib/python3.10/site-packages/sbi/inference/potentials/posterior_based_potential.py:54: UserWarning: The passed prior has no mean or stddev attribute, estimating them from samples to build affimed standardizing transform.\n",
      "  theta_transform = mcmc_transform(\n",
      "Validating: 100%|██████████| 500/500 [00:13<00:00, 36.35it/s]\n",
      "\n",
      "Hyperparameter Search:  84%|████████▍ | 68/81 [29:59<04:42, 21.71s/it]"
     ]
    },
    {
     "name": "stdout",
     "output_type": "stream",
     "text": [
      "Validation mean R^2: 0.915, RMSE: 0.0173\n",
      "\n",
      "Running combo 69/81: {'training_batch_size': 256, 'learning_rate': 0.0005, 'validation_fraction': 0.1, 'stop_after_epochs': 20}\n",
      " Neural network successfully converged after 109 epochs."
     ]
    },
    {
     "name": "stderr",
     "output_type": "stream",
     "text": [
      "/groups/spruston/home/moharb/mambaforge/envs/sbi_env/lib/python3.10/site-packages/sbi/inference/potentials/posterior_based_potential.py:54: UserWarning: The passed prior has no support property, transform will be constructed from mean and std. If the passed prior is supposed to be bounded consider implementing the prior.support property.\n",
      "  theta_transform = mcmc_transform(\n",
      "/groups/spruston/home/moharb/mambaforge/envs/sbi_env/lib/python3.10/site-packages/sbi/inference/potentials/posterior_based_potential.py:54: UserWarning: The passed prior has no mean or stddev attribute, estimating them from samples to build affimed standardizing transform.\n",
      "  theta_transform = mcmc_transform(\n",
      "Validating: 100%|██████████| 500/500 [00:14<00:00, 35.04it/s]\n",
      "\n",
      "Hyperparameter Search:  85%|████████▌ | 69/81 [30:22<04:26, 22.19s/it]"
     ]
    },
    {
     "name": "stdout",
     "output_type": "stream",
     "text": [
      "Validation mean R^2: 0.912, RMSE: 0.0174\n",
      "\n",
      "Running combo 70/81: {'training_batch_size': 256, 'learning_rate': 0.0005, 'validation_fraction': 0.2, 'stop_after_epochs': 5}\n",
      " Neural network successfully converged after 78 epochs."
     ]
    },
    {
     "name": "stderr",
     "output_type": "stream",
     "text": [
      "/groups/spruston/home/moharb/mambaforge/envs/sbi_env/lib/python3.10/site-packages/sbi/inference/potentials/posterior_based_potential.py:54: UserWarning: The passed prior has no support property, transform will be constructed from mean and std. If the passed prior is supposed to be bounded consider implementing the prior.support property.\n",
      "  theta_transform = mcmc_transform(\n",
      "/groups/spruston/home/moharb/mambaforge/envs/sbi_env/lib/python3.10/site-packages/sbi/inference/potentials/posterior_based_potential.py:54: UserWarning: The passed prior has no mean or stddev attribute, estimating them from samples to build affimed standardizing transform.\n",
      "  theta_transform = mcmc_transform(\n",
      "Validating: 100%|██████████| 500/500 [00:13<00:00, 35.79it/s]\n",
      "\n",
      "Hyperparameter Search:  86%|████████▋ | 70/81 [30:43<03:58, 21.72s/it]"
     ]
    },
    {
     "name": "stdout",
     "output_type": "stream",
     "text": [
      "Validation mean R^2: 0.903, RMSE: 0.0190\n",
      "\n",
      "Running combo 71/81: {'training_batch_size': 256, 'learning_rate': 0.0005, 'validation_fraction': 0.2, 'stop_after_epochs': 10}\n",
      " Neural network successfully converged after 102 epochs."
     ]
    },
    {
     "name": "stderr",
     "output_type": "stream",
     "text": [
      "/groups/spruston/home/moharb/mambaforge/envs/sbi_env/lib/python3.10/site-packages/sbi/inference/potentials/posterior_based_potential.py:54: UserWarning: The passed prior has no support property, transform will be constructed from mean and std. If the passed prior is supposed to be bounded consider implementing the prior.support property.\n",
      "  theta_transform = mcmc_transform(\n",
      "/groups/spruston/home/moharb/mambaforge/envs/sbi_env/lib/python3.10/site-packages/sbi/inference/potentials/posterior_based_potential.py:54: UserWarning: The passed prior has no mean or stddev attribute, estimating them from samples to build affimed standardizing transform.\n",
      "  theta_transform = mcmc_transform(\n",
      "Validating: 100%|██████████| 500/500 [00:13<00:00, 36.22it/s]\n",
      "Hyperparameter Search:  88%|████████▊ | 71/81 [31:04<03:37, 21.71s/it]\n",
      "Hyperparameter Search:  88%|████████▊ | 71/81 [31:04<03:37, 21.71s/it]"
     ]
    },
    {
     "name": "stdout",
     "output_type": "stream",
     "text": [
      "Validation mean R^2: 0.910, RMSE: 0.0175\n",
      "\n",
      "Running combo 72/81: {'training_batch_size': 256, 'learning_rate': 0.0005, 'validation_fraction': 0.2, 'stop_after_epochs': 20}\n",
      " Neural network successfully converged after 130 epochs."
     ]
    },
    {
     "name": "stderr",
     "output_type": "stream",
     "text": [
      "/groups/spruston/home/moharb/mambaforge/envs/sbi_env/lib/python3.10/site-packages/sbi/inference/potentials/posterior_based_potential.py:54: UserWarning: The passed prior has no support property, transform will be constructed from mean and std. If the passed prior is supposed to be bounded consider implementing the prior.support property.\n",
      "  theta_transform = mcmc_transform(\n",
      "/groups/spruston/home/moharb/mambaforge/envs/sbi_env/lib/python3.10/site-packages/sbi/inference/potentials/posterior_based_potential.py:54: UserWarning: The passed prior has no mean or stddev attribute, estimating them from samples to build affimed standardizing transform.\n",
      "  theta_transform = mcmc_transform(\n",
      "Validating: 100%|██████████| 500/500 [00:13<00:00, 36.03it/s]\n",
      "Hyperparameter Search:  89%|████████▉ | 72/81 [31:28<03:19, 22.16s/it]\n",
      "Hyperparameter Search:  89%|████████▉ | 72/81 [31:28<03:19, 22.16s/it]"
     ]
    },
    {
     "name": "stdout",
     "output_type": "stream",
     "text": [
      "Validation mean R^2: 0.902, RMSE: 0.0182\n",
      "\n",
      "Running combo 73/81: {'training_batch_size': 256, 'learning_rate': 0.0001, 'validation_fraction': 0.05, 'stop_after_epochs': 5}\n",
      " Neural network successfully converged after 255 epochs."
     ]
    },
    {
     "name": "stderr",
     "output_type": "stream",
     "text": [
      "/groups/spruston/home/moharb/mambaforge/envs/sbi_env/lib/python3.10/site-packages/sbi/inference/potentials/posterior_based_potential.py:54: UserWarning: The passed prior has no support property, transform will be constructed from mean and std. If the passed prior is supposed to be bounded consider implementing the prior.support property.\n",
      "  theta_transform = mcmc_transform(\n",
      "/groups/spruston/home/moharb/mambaforge/envs/sbi_env/lib/python3.10/site-packages/sbi/inference/potentials/posterior_based_potential.py:54: UserWarning: The passed prior has no mean or stddev attribute, estimating them from samples to build affimed standardizing transform.\n",
      "  theta_transform = mcmc_transform(\n",
      "Validating: 100%|██████████| 500/500 [00:13<00:00, 36.61it/s]\n",
      "Hyperparameter Search:  90%|█████████ | 73/81 [31:59<03:20, 25.02s/it]\n",
      "Hyperparameter Search:  90%|█████████ | 73/81 [31:59<03:20, 25.02s/it]"
     ]
    },
    {
     "name": "stdout",
     "output_type": "stream",
     "text": [
      "Validation mean R^2: 0.911, RMSE: 0.0176\n",
      "\n",
      "Running combo 74/81: {'training_batch_size': 256, 'learning_rate': 0.0001, 'validation_fraction': 0.05, 'stop_after_epochs': 10}\n",
      " Neural network successfully converged after 326 epochs."
     ]
    },
    {
     "name": "stderr",
     "output_type": "stream",
     "text": [
      "/groups/spruston/home/moharb/mambaforge/envs/sbi_env/lib/python3.10/site-packages/sbi/inference/potentials/posterior_based_potential.py:54: UserWarning: The passed prior has no support property, transform will be constructed from mean and std. If the passed prior is supposed to be bounded consider implementing the prior.support property.\n",
      "  theta_transform = mcmc_transform(\n",
      "/groups/spruston/home/moharb/mambaforge/envs/sbi_env/lib/python3.10/site-packages/sbi/inference/potentials/posterior_based_potential.py:54: UserWarning: The passed prior has no mean or stddev attribute, estimating them from samples to build affimed standardizing transform.\n",
      "  theta_transform = mcmc_transform(\n",
      "Validating: 100%|██████████| 500/500 [00:13<00:00, 36.98it/s]\n",
      "Hyperparameter Search:  91%|█████████▏| 74/81 [32:35<03:17, 28.25s/it]\n",
      "Hyperparameter Search:  91%|█████████▏| 74/81 [32:35<03:17, 28.25s/it]"
     ]
    },
    {
     "name": "stdout",
     "output_type": "stream",
     "text": [
      "Validation mean R^2: 0.910, RMSE: 0.0176\n",
      "\n",
      "Running combo 75/81: {'training_batch_size': 256, 'learning_rate': 0.0001, 'validation_fraction': 0.05, 'stop_after_epochs': 20}\n",
      " Neural network successfully converged after 343 epochs."
     ]
    },
    {
     "name": "stderr",
     "output_type": "stream",
     "text": [
      "/groups/spruston/home/moharb/mambaforge/envs/sbi_env/lib/python3.10/site-packages/sbi/inference/potentials/posterior_based_potential.py:54: UserWarning: The passed prior has no support property, transform will be constructed from mean and std. If the passed prior is supposed to be bounded consider implementing the prior.support property.\n",
      "  theta_transform = mcmc_transform(\n",
      "/groups/spruston/home/moharb/mambaforge/envs/sbi_env/lib/python3.10/site-packages/sbi/inference/potentials/posterior_based_potential.py:54: UserWarning: The passed prior has no mean or stddev attribute, estimating them from samples to build affimed standardizing transform.\n",
      "  theta_transform = mcmc_transform(\n",
      "Validating: 100%|██████████| 500/500 [00:13<00:00, 37.62it/s]\n",
      "\n",
      "Hyperparameter Search:  93%|█████████▎| 75/81 [33:12<03:04, 30.81s/it]"
     ]
    },
    {
     "name": "stdout",
     "output_type": "stream",
     "text": [
      "Validation mean R^2: 0.903, RMSE: 0.0175\n",
      "\n",
      "Running combo 76/81: {'training_batch_size': 256, 'learning_rate': 0.0001, 'validation_fraction': 0.1, 'stop_after_epochs': 5}\n",
      " Neural network successfully converged after 269 epochs."
     ]
    },
    {
     "name": "stderr",
     "output_type": "stream",
     "text": [
      "/groups/spruston/home/moharb/mambaforge/envs/sbi_env/lib/python3.10/site-packages/sbi/inference/potentials/posterior_based_potential.py:54: UserWarning: The passed prior has no support property, transform will be constructed from mean and std. If the passed prior is supposed to be bounded consider implementing the prior.support property.\n",
      "  theta_transform = mcmc_transform(\n",
      "/groups/spruston/home/moharb/mambaforge/envs/sbi_env/lib/python3.10/site-packages/sbi/inference/potentials/posterior_based_potential.py:54: UserWarning: The passed prior has no mean or stddev attribute, estimating them from samples to build affimed standardizing transform.\n",
      "  theta_transform = mcmc_transform(\n",
      "Validating: 100%|██████████| 500/500 [00:12<00:00, 39.07it/s]\n",
      "\n",
      "Hyperparameter Search:  94%|█████████▍| 76/81 [33:44<02:35, 31.18s/it]"
     ]
    },
    {
     "name": "stdout",
     "output_type": "stream",
     "text": [
      "Validation mean R^2: 0.911, RMSE: 0.0175\n",
      "\n",
      "Running combo 77/81: {'training_batch_size': 256, 'learning_rate': 0.0001, 'validation_fraction': 0.1, 'stop_after_epochs': 10}\n",
      " Neural network successfully converged after 306 epochs."
     ]
    },
    {
     "name": "stderr",
     "output_type": "stream",
     "text": [
      "/groups/spruston/home/moharb/mambaforge/envs/sbi_env/lib/python3.10/site-packages/sbi/inference/potentials/posterior_based_potential.py:54: UserWarning: The passed prior has no support property, transform will be constructed from mean and std. If the passed prior is supposed to be bounded consider implementing the prior.support property.\n",
      "  theta_transform = mcmc_transform(\n",
      "/groups/spruston/home/moharb/mambaforge/envs/sbi_env/lib/python3.10/site-packages/sbi/inference/potentials/posterior_based_potential.py:54: UserWarning: The passed prior has no mean or stddev attribute, estimating them from samples to build affimed standardizing transform.\n",
      "  theta_transform = mcmc_transform(\n",
      "Validating: 100%|██████████| 500/500 [00:13<00:00, 35.89it/s]\n",
      "Hyperparameter Search:  95%|█████████▌| 77/81 [34:19<02:09, 32.40s/it]\n",
      "Hyperparameter Search:  95%|█████████▌| 77/81 [34:19<02:09, 32.40s/it]"
     ]
    },
    {
     "name": "stdout",
     "output_type": "stream",
     "text": [
      "Validation mean R^2: 0.808, RMSE: 0.0274\n",
      "\n",
      "Running combo 78/81: {'training_batch_size': 256, 'learning_rate': 0.0001, 'validation_fraction': 0.1, 'stop_after_epochs': 20}\n",
      " Neural network successfully converged after 393 epochs."
     ]
    },
    {
     "name": "stderr",
     "output_type": "stream",
     "text": [
      "/groups/spruston/home/moharb/mambaforge/envs/sbi_env/lib/python3.10/site-packages/sbi/inference/potentials/posterior_based_potential.py:54: UserWarning: The passed prior has no support property, transform will be constructed from mean and std. If the passed prior is supposed to be bounded consider implementing the prior.support property.\n",
      "  theta_transform = mcmc_transform(\n",
      "/groups/spruston/home/moharb/mambaforge/envs/sbi_env/lib/python3.10/site-packages/sbi/inference/potentials/posterior_based_potential.py:54: UserWarning: The passed prior has no mean or stddev attribute, estimating them from samples to build affimed standardizing transform.\n",
      "  theta_transform = mcmc_transform(\n",
      "Validating: 100%|██████████| 500/500 [00:12<00:00, 41.35it/s]\n",
      "Hyperparameter Search:  96%|█████████▋| 78/81 [34:58<01:42, 34.28s/it]\n",
      "Hyperparameter Search:  96%|█████████▋| 78/81 [34:58<01:42, 34.28s/it]"
     ]
    },
    {
     "name": "stdout",
     "output_type": "stream",
     "text": [
      "Validation mean R^2: 0.901, RMSE: 0.0176\n",
      "\n",
      "Running combo 79/81: {'training_batch_size': 256, 'learning_rate': 0.0001, 'validation_fraction': 0.2, 'stop_after_epochs': 5}\n",
      " Neural network successfully converged after 182 epochs."
     ]
    },
    {
     "name": "stderr",
     "output_type": "stream",
     "text": [
      "/groups/spruston/home/moharb/mambaforge/envs/sbi_env/lib/python3.10/site-packages/sbi/inference/potentials/posterior_based_potential.py:54: UserWarning: The passed prior has no support property, transform will be constructed from mean and std. If the passed prior is supposed to be bounded consider implementing the prior.support property.\n",
      "  theta_transform = mcmc_transform(\n",
      "/groups/spruston/home/moharb/mambaforge/envs/sbi_env/lib/python3.10/site-packages/sbi/inference/potentials/posterior_based_potential.py:54: UserWarning: The passed prior has no mean or stddev attribute, estimating them from samples to build affimed standardizing transform.\n",
      "  theta_transform = mcmc_transform(\n",
      "Validating: 100%|██████████| 500/500 [00:13<00:00, 37.85it/s]\n",
      "\n",
      "Hyperparameter Search:  98%|█████████▊| 79/81 [35:23<01:03, 31.65s/it]"
     ]
    },
    {
     "name": "stdout",
     "output_type": "stream",
     "text": [
      "Validation mean R^2: 0.772, RMSE: 0.0311\n",
      "\n",
      "Running combo 80/81: {'training_batch_size': 256, 'learning_rate': 0.0001, 'validation_fraction': 0.2, 'stop_after_epochs': 10}\n",
      " Neural network successfully converged after 226 epochs."
     ]
    },
    {
     "name": "stderr",
     "output_type": "stream",
     "text": [
      "/groups/spruston/home/moharb/mambaforge/envs/sbi_env/lib/python3.10/site-packages/sbi/inference/potentials/posterior_based_potential.py:54: UserWarning: The passed prior has no support property, transform will be constructed from mean and std. If the passed prior is supposed to be bounded consider implementing the prior.support property.\n",
      "  theta_transform = mcmc_transform(\n",
      "/groups/spruston/home/moharb/mambaforge/envs/sbi_env/lib/python3.10/site-packages/sbi/inference/potentials/posterior_based_potential.py:54: UserWarning: The passed prior has no mean or stddev attribute, estimating them from samples to build affimed standardizing transform.\n",
      "  theta_transform = mcmc_transform(\n",
      "Validating: 100%|██████████| 500/500 [00:13<00:00, 38.43it/s]\n",
      "Hyperparameter Search:  99%|█████████▉| 80/81 [35:51<00:30, 30.46s/it]\n",
      "Hyperparameter Search:  99%|█████████▉| 80/81 [35:51<00:30, 30.46s/it]"
     ]
    },
    {
     "name": "stdout",
     "output_type": "stream",
     "text": [
      "Validation mean R^2: 0.894, RMSE: 0.0194\n",
      "\n",
      "Running combo 81/81: {'training_batch_size': 256, 'learning_rate': 0.0001, 'validation_fraction': 0.2, 'stop_after_epochs': 20}\n",
      " Neural network successfully converged after 372 epochs."
     ]
    },
    {
     "name": "stderr",
     "output_type": "stream",
     "text": [
      "/groups/spruston/home/moharb/mambaforge/envs/sbi_env/lib/python3.10/site-packages/sbi/inference/potentials/posterior_based_potential.py:54: UserWarning: The passed prior has no support property, transform will be constructed from mean and std. If the passed prior is supposed to be bounded consider implementing the prior.support property.\n",
      "  theta_transform = mcmc_transform(\n",
      "/groups/spruston/home/moharb/mambaforge/envs/sbi_env/lib/python3.10/site-packages/sbi/inference/potentials/posterior_based_potential.py:54: UserWarning: The passed prior has no mean or stddev attribute, estimating them from samples to build affimed standardizing transform.\n",
      "  theta_transform = mcmc_transform(\n",
      "Validating: 100%|██████████| 500/500 [00:13<00:00, 36.78it/s]\n",
      "\n",
      "Hyperparameter Search: 100%|██████████| 81/81 [36:28<00:00, 27.01s/it]"
     ]
    },
    {
     "name": "stdout",
     "output_type": "stream",
     "text": [
      "Validation mean R^2: 0.904, RMSE: 0.0181\n"
     ]
    },
    {
     "name": "stderr",
     "output_type": "stream",
     "text": [
      "\n"
     ]
    }
   ],
   "source": [
    "# Section 4: Run Hyperparameter Search Loop\n",
    "from tqdm import tqdm\n",
    "results = []\n",
    "\n",
    "n_train = 2000  # Reduce for speed; increase for real experiments\n",
    "n_val = 500\n",
    "\n",
    "for idx, combo in enumerate(tqdm(grid_combos, desc='Hyperparameter Search')):\n",
    "    params = dict(zip(grid_keys, combo))\n",
    "    print(f\"\\nRunning combo {idx+1}/{len(grid_combos)}: {params}\")\n",
    "    trainer = Trainer(\n",
    "        simulator,\n",
    "        n_train=n_train,\n",
    "        n_val=n_val,\n",
    "        save_dir=None  # Don't save intermediate results\n",
    "    )\n",
    "    # Patch the train method to use current hyperparameters\n",
    "    def train_with_params(self):\n",
    "        train_theta, train_x = self.generate_training_data()\n",
    "        inference = SNPE(prior=self.prior)\n",
    "        inference.append_simulations(train_theta, train_x)\n",
    "        density_estimator = inference.train(\n",
    "            training_batch_size=params['training_batch_size'],\n",
    "            learning_rate=params['learning_rate'],\n",
    "            validation_fraction=params['validation_fraction'],\n",
    "            stop_after_epochs=params['stop_after_epochs'],\n",
    "            show_train_summary=False\n",
    "        )\n",
    "        self.posterior = inference.build_posterior(density_estimator)\n",
    "        return self.posterior\n",
    "    import types\n",
    "    trainer.train = types.MethodType(train_with_params, trainer)\n",
    "    try:\n",
    "        posterior = trainer.train()\n",
    "        r2_scores, rmse_scores, rmse = trainer.validate()\n",
    "        mean_r2 = np.mean(r2_scores)\n",
    "        mean_rmse = np.mean(rmse_scores)\n",
    "        mean_width = np.mean(trainer.results['posterior_width'])\n",
    "        results.append({\n",
    "            **params,\n",
    "            'mean_r2': mean_r2,\n",
    "            'mean_rmse': mean_rmse,\n",
    "            'mean_width': mean_width\n",
    "        })\n",
    "    except Exception as e:\n",
    "        print(f\"Failed for params {params}: {e}\")\n",
    "        results.append({**params, 'mean_r2': np.nan, 'mean_rmse': np.nan, 'mean_width': np.nan})"
   ]
  },
  {
   "cell_type": "code",
   "execution_count": 5,
   "id": "959a7de1",
   "metadata": {},
   "outputs": [
    {
     "name": "stdout",
     "output_type": "stream",
     "text": [
      "Total runs: 81\n"
     ]
    },
    {
     "data": {
      "text/html": [
       "<div>\n",
       "<style scoped>\n",
       "    .dataframe tbody tr th:only-of-type {\n",
       "        vertical-align: middle;\n",
       "    }\n",
       "\n",
       "    .dataframe tbody tr th {\n",
       "        vertical-align: top;\n",
       "    }\n",
       "\n",
       "    .dataframe thead th {\n",
       "        text-align: right;\n",
       "    }\n",
       "</style>\n",
       "<table border=\"1\" class=\"dataframe\">\n",
       "  <thead>\n",
       "    <tr style=\"text-align: right;\">\n",
       "      <th></th>\n",
       "      <th>training_batch_size</th>\n",
       "      <th>learning_rate</th>\n",
       "      <th>validation_fraction</th>\n",
       "      <th>stop_after_epochs</th>\n",
       "      <th>mean_r2</th>\n",
       "      <th>mean_rmse</th>\n",
       "      <th>mean_width</th>\n",
       "    </tr>\n",
       "  </thead>\n",
       "  <tbody>\n",
       "    <tr>\n",
       "      <th>0</th>\n",
       "      <td>64</td>\n",
       "      <td>0.001</td>\n",
       "      <td>0.05</td>\n",
       "      <td>5</td>\n",
       "      <td>0.908544</td>\n",
       "      <td>0.016666</td>\n",
       "      <td>0.120543</td>\n",
       "    </tr>\n",
       "    <tr>\n",
       "      <th>1</th>\n",
       "      <td>64</td>\n",
       "      <td>0.001</td>\n",
       "      <td>0.05</td>\n",
       "      <td>10</td>\n",
       "      <td>0.901915</td>\n",
       "      <td>0.016936</td>\n",
       "      <td>0.123449</td>\n",
       "    </tr>\n",
       "    <tr>\n",
       "      <th>2</th>\n",
       "      <td>64</td>\n",
       "      <td>0.001</td>\n",
       "      <td>0.05</td>\n",
       "      <td>20</td>\n",
       "      <td>0.908273</td>\n",
       "      <td>0.016388</td>\n",
       "      <td>0.115994</td>\n",
       "    </tr>\n",
       "    <tr>\n",
       "      <th>3</th>\n",
       "      <td>64</td>\n",
       "      <td>0.001</td>\n",
       "      <td>0.10</td>\n",
       "      <td>5</td>\n",
       "      <td>0.910944</td>\n",
       "      <td>0.016562</td>\n",
       "      <td>0.122193</td>\n",
       "    </tr>\n",
       "    <tr>\n",
       "      <th>4</th>\n",
       "      <td>64</td>\n",
       "      <td>0.001</td>\n",
       "      <td>0.10</td>\n",
       "      <td>10</td>\n",
       "      <td>0.903296</td>\n",
       "      <td>0.016972</td>\n",
       "      <td>0.117958</td>\n",
       "    </tr>\n",
       "  </tbody>\n",
       "</table>\n",
       "</div>"
      ],
      "text/plain": [
       "   training_batch_size  learning_rate  validation_fraction  stop_after_epochs  \\\n",
       "0                   64          0.001                 0.05                  5   \n",
       "1                   64          0.001                 0.05                 10   \n",
       "2                   64          0.001                 0.05                 20   \n",
       "3                   64          0.001                 0.10                  5   \n",
       "4                   64          0.001                 0.10                 10   \n",
       "\n",
       "    mean_r2  mean_rmse  mean_width  \n",
       "0  0.908544   0.016666    0.120543  \n",
       "1  0.901915   0.016936    0.123449  \n",
       "2  0.908273   0.016388    0.115994  \n",
       "3  0.910944   0.016562    0.122193  \n",
       "4  0.903296   0.016972    0.117958  "
      ]
     },
     "metadata": {},
     "output_type": "display_data"
    },
    {
     "name": "stdout",
     "output_type": "stream",
     "text": [
      "Best hyperparameters by mean R^2:\n"
     ]
    },
    {
     "data": {
      "text/plain": [
       "training_batch_size    256.000000\n",
       "learning_rate            0.000500\n",
       "validation_fraction      0.100000\n",
       "stop_after_epochs       10.000000\n",
       "mean_r2                  0.915111\n",
       "mean_rmse                0.016553\n",
       "mean_width               0.119814\n",
       "Name: 67, dtype: float64"
      ]
     },
     "metadata": {},
     "output_type": "display_data"
    }
   ],
   "source": [
    "# Section 5: Collect and Analyze Results\n",
    "results_df = pd.DataFrame(results)\n",
    "print(f\"Total runs: {len(results_df)}\")\n",
    "display(results_df.head())\n",
    "\n",
    "# Compute best settings by mean_r2\n",
    "best_idx = results_df['mean_r2'].idxmax()\n",
    "best_params = results_df.loc[best_idx]\n",
    "print(\"Best hyperparameters by mean R^2:\")\n",
    "display(best_params)"
   ]
  },
  {
   "cell_type": "code",
   "execution_count": 6,
   "id": "d2612c33",
   "metadata": {},
   "outputs": [
    {
     "data": {
      "image/png": "[encoded data removed]",
      "text/plain": [
       "<Figure size 600x400 with 1 Axes>"
      ]
     },
     "metadata": {},
     "output_type": "display_data"
    },
    {
     "data": {
      "image/png": "[encoded data removed]",
      "text/plain": [
       "<Figure size 600x400 with 1 Axes>"
      ]
     },
     "metadata": {},
     "output_type": "display_data"
    },
    {
     "data": {
      "image/png": "[encoded data removed]",
      "text/plain": [
       "<Figure size 600x400 with 1 Axes>"
      ]
     },
     "metadata": {},
     "output_type": "display_data"
    },
    {
     "data": {
      "image/png": "[encoded data removed]",
      "text/plain": [
       "<Figure size 600x400 with 1 Axes>"
      ]
     },
     "metadata": {},
     "output_type": "display_data"
    },
    {
     "data": {
      "image/png": "[encoded data removed]",
      "text/plain": [
       "<Figure size 800x600 with 2 Axes>"
      ]
     },
     "metadata": {},
     "output_type": "display_data"
    }
   ],
   "source": [
    "# Section 6: Visualize Hyperparameter Effects\n",
    "import seaborn as sns\n",
    "\n",
    "# Plot mean R^2 vs each hyperparameter\n",
    "for param in grid_keys:\n",
    "    plt.figure(figsize=(6, 4))\n",
    "    sns.lineplot(x=param, y='mean_r2', data=results_df, marker='o')\n",
    "    plt.title(f'Mean R^2 vs {param}')\n",
    "    plt.ylabel('Mean R^2')\n",
    "    plt.xlabel(param)\n",
    "    plt.tight_layout()\n",
    "    plt.show()\n",
    "\n",
    "# Heatmap for two hyperparameters (example: batch size vs learning rate)\n",
    "pivot = results_df.pivot_table(index='training_batch_size', columns='learning_rate', values='mean_r2')\n",
    "plt.figure(figsize=(8, 6))\n",
    "sns.heatmap(pivot, annot=True, fmt='.3f', cmap='viridis')\n",
    "plt.title('Mean R^2: Batch Size vs Learning Rate')\n",
    "plt.ylabel('Batch Size')\n",
    "plt.xlabel('Learning Rate')\n",
    "plt.tight_layout()\n",
    "plt.show()"
   ]
  },
  {
   "cell_type": "code",
   "execution_count": 8,
   "id": "47644750",
   "metadata": {},
   "outputs": [
    {
     "data": {
      "text/plain": [
       "training_batch_size    256.000000\n",
       "learning_rate            0.000500\n",
       "validation_fraction      0.100000\n",
       "stop_after_epochs       10.000000\n",
       "mean_r2                  0.915111\n",
       "mean_rmse                0.016553\n",
       "mean_width               0.119814\n",
       "Name: 67, dtype: float64"
      ]
     },
     "execution_count": 8,
     "metadata": {},
     "output_type": "execute_result"
    }
   ],
   "source": [
    "best_params"
   ]
  },
  {
   "cell_type": "code",
   "execution_count": null,
   "id": "19b19138",
   "metadata": {},
   "outputs": [
    {
     "name": "stdout",
     "output_type": "stream",
     "text": [
      "Results saved to sbi_hyperparam_search_results.csv\n",
      "Best hyperparameters saved to sbi_hyperparam_search_best.json\n"
     ]
    }
   ],
   "source": [
    "# Section 7: Save Hyperparameter Search Results\n",
    "results_df.to_csv('sbi_hyperparam_search_results.csv', index=False)\n",
    "print('Results saved to sbi_hyperparam_search_results.csv')\n",
    "\n",
    "with open('sbi_hyperparam_search_best.json', 'w') as f:\n",
    "    import json\n",
    "    json.dump(best_params.to_dict(), f, indent=2)\n",
    "print('Best hyperparameters saved to sbi_hyperparam_search_best.json')"
   ]
  }
 ],
 "metadata": {
  "kernelspec": {
   "display_name": "Python (sbi_env)",
   "language": "python",
   "name": "sbi_env"
  },
  "language_info": {
   "codemirror_mode": {
    "name": "ipython",
    "version": 3
   },
   "file_extension": ".py",
   "mimetype": "text/x-python",
   "name": "python",
   "nbconvert_exporter": "python",
   "pygments_lexer": "ipython3",
   "version": "3.10.18"
  }
 },
 "nbformat": 4,
 "nbformat_minor": 5
}
